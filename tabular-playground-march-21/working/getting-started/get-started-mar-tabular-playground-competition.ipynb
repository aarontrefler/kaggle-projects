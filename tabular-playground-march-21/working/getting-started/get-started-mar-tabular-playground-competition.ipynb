{
 "cells": [
  {
   "cell_type": "markdown",
   "metadata": {
    "papermill": {
     "duration": 0.006345,
     "end_time": "2021-03-07T20:41:53.649782",
     "exception": false,
     "start_time": "2021-03-07T20:41:53.643437",
     "status": "completed"
    },
    "tags": []
   },
   "source": [
    "In this notebook, you will learn how to make your first submission to the [Tabular Playground Series - Mar 2021 competition.](https://www.kaggle.com/c/tabular-playground-series-mar-2021)\n",
    "\n",
    "# Make the most of this notebook!\n",
    "\n",
    "You can use the \"Copy and Edit\" button in the upper right of the page to create your own copy of this notebook and experiment with different models. You can run it as is and then see if you can make improvements."
   ]
  },
  {
   "cell_type": "code",
   "execution_count": 18,
   "metadata": {
    "_cell_guid": "b1076dfc-b9ad-4769-8c92-a6c4dae69d19",
    "_uuid": "8f2839f25d086af736a60e9eeb907d3b93b6e0e5",
    "execution": {
     "iopub.execute_input": "2021-03-07T20:41:53.668800Z",
     "iopub.status.busy": "2021-03-07T20:41:53.667791Z",
     "iopub.status.idle": "2021-03-07T20:41:54.885162Z",
     "shell.execute_reply": "2021-03-07T20:41:54.884463Z"
    },
    "papermill": {
     "duration": 1.230463,
     "end_time": "2021-03-07T20:41:54.885388",
     "exception": false,
     "start_time": "2021-03-07T20:41:53.654925",
     "status": "completed"
    },
    "tags": []
   },
   "outputs": [
    {
     "name": "stdout",
     "output_type": "stream",
     "text": [
      "/root/kaggle-projects/tabular-playground-march-21/input/train.csv\n",
      "/root/kaggle-projects/tabular-playground-march-21/input/test.csv\n",
      "/root/kaggle-projects/tabular-playground-march-21/input/tabular-playground-series-mar-2021.zip\n",
      "/root/kaggle-projects/tabular-playground-march-21/input/sample_submission.csv\n"
     ]
    }
   ],
   "source": [
    "import numpy as np\n",
    "import pandas as pd\n",
    "from pathlib import Path\n",
    "\n",
    "import os\n",
    "for dirname, _, filenames in os.walk('/root/kaggle-projects/tabular-playground-march-21/input'):\n",
    "    for filename in filenames:\n",
    "        print(os.path.join(dirname, filename))\n",
    "        \n",
    "import matplotlib.pyplot as plt\n",
    "\n",
    "from sklearn.model_selection import train_test_split\n",
    "from sklearn.metrics import roc_auc_score\n",
    "from sklearn.preprocessing import LabelEncoder\n",
    "\n",
    "from sklearn.ensemble import RandomForestClassifier\n",
    "\n",
    "import matplotlib.pyplot as plt\n",
    "        \n",
    "input_path = Path('/root/kaggle-projects/tabular-playground-march-21/input')"
   ]
  },
  {
   "cell_type": "markdown",
   "metadata": {
    "papermill": {
     "duration": 0.004486,
     "end_time": "2021-03-07T20:41:54.894875",
     "exception": false,
     "start_time": "2021-03-07T20:41:54.890389",
     "status": "completed"
    },
    "tags": []
   },
   "source": [
    "# Read in the data files"
   ]
  },
  {
   "cell_type": "code",
   "execution_count": 9,
   "metadata": {
    "execution": {
     "iopub.execute_input": "2021-03-07T20:41:54.911723Z",
     "iopub.status.busy": "2021-03-07T20:41:54.910993Z",
     "iopub.status.idle": "2021-03-07T20:41:57.416210Z",
     "shell.execute_reply": "2021-03-07T20:41:57.415557Z"
    },
    "papermill": {
     "duration": 2.516485,
     "end_time": "2021-03-07T20:41:57.416350",
     "exception": false,
     "start_time": "2021-03-07T20:41:54.899865",
     "status": "completed"
    },
    "tags": []
   },
   "outputs": [
    {
     "data": {
      "text/html": [
       "<div>\n",
       "<style scoped>\n",
       "    .dataframe tbody tr th:only-of-type {\n",
       "        vertical-align: middle;\n",
       "    }\n",
       "\n",
       "    .dataframe tbody tr th {\n",
       "        vertical-align: top;\n",
       "    }\n",
       "\n",
       "    .dataframe thead th {\n",
       "        text-align: right;\n",
       "    }\n",
       "</style>\n",
       "<table border=\"1\" class=\"dataframe\">\n",
       "  <thead>\n",
       "    <tr style=\"text-align: right;\">\n",
       "      <th></th>\n",
       "      <th>cat0</th>\n",
       "      <th>cat1</th>\n",
       "      <th>cat2</th>\n",
       "      <th>cat3</th>\n",
       "      <th>cat4</th>\n",
       "      <th>cat5</th>\n",
       "      <th>cat6</th>\n",
       "      <th>cat7</th>\n",
       "      <th>cat8</th>\n",
       "      <th>cat9</th>\n",
       "      <th>...</th>\n",
       "      <th>cont2</th>\n",
       "      <th>cont3</th>\n",
       "      <th>cont4</th>\n",
       "      <th>cont5</th>\n",
       "      <th>cont6</th>\n",
       "      <th>cont7</th>\n",
       "      <th>cont8</th>\n",
       "      <th>cont9</th>\n",
       "      <th>cont10</th>\n",
       "      <th>target</th>\n",
       "    </tr>\n",
       "    <tr>\n",
       "      <th>id</th>\n",
       "      <th></th>\n",
       "      <th></th>\n",
       "      <th></th>\n",
       "      <th></th>\n",
       "      <th></th>\n",
       "      <th></th>\n",
       "      <th></th>\n",
       "      <th></th>\n",
       "      <th></th>\n",
       "      <th></th>\n",
       "      <th></th>\n",
       "      <th></th>\n",
       "      <th></th>\n",
       "      <th></th>\n",
       "      <th></th>\n",
       "      <th></th>\n",
       "      <th></th>\n",
       "      <th></th>\n",
       "      <th></th>\n",
       "      <th></th>\n",
       "      <th></th>\n",
       "    </tr>\n",
       "  </thead>\n",
       "  <tbody>\n",
       "    <tr>\n",
       "      <th>0</th>\n",
       "      <td>A</td>\n",
       "      <td>I</td>\n",
       "      <td>A</td>\n",
       "      <td>B</td>\n",
       "      <td>B</td>\n",
       "      <td>BI</td>\n",
       "      <td>A</td>\n",
       "      <td>S</td>\n",
       "      <td>Q</td>\n",
       "      <td>A</td>\n",
       "      <td>...</td>\n",
       "      <td>0.759439</td>\n",
       "      <td>0.795549</td>\n",
       "      <td>0.681917</td>\n",
       "      <td>0.621672</td>\n",
       "      <td>0.592184</td>\n",
       "      <td>0.791921</td>\n",
       "      <td>0.815254</td>\n",
       "      <td>0.965006</td>\n",
       "      <td>0.665915</td>\n",
       "      <td>0</td>\n",
       "    </tr>\n",
       "    <tr>\n",
       "      <th>1</th>\n",
       "      <td>A</td>\n",
       "      <td>I</td>\n",
       "      <td>A</td>\n",
       "      <td>A</td>\n",
       "      <td>E</td>\n",
       "      <td>BI</td>\n",
       "      <td>K</td>\n",
       "      <td>W</td>\n",
       "      <td>AD</td>\n",
       "      <td>F</td>\n",
       "      <td>...</td>\n",
       "      <td>0.386385</td>\n",
       "      <td>0.541366</td>\n",
       "      <td>0.388982</td>\n",
       "      <td>0.357778</td>\n",
       "      <td>0.600044</td>\n",
       "      <td>0.408701</td>\n",
       "      <td>0.399353</td>\n",
       "      <td>0.927406</td>\n",
       "      <td>0.493729</td>\n",
       "      <td>0</td>\n",
       "    </tr>\n",
       "    <tr>\n",
       "      <th>2</th>\n",
       "      <td>A</td>\n",
       "      <td>K</td>\n",
       "      <td>A</td>\n",
       "      <td>A</td>\n",
       "      <td>E</td>\n",
       "      <td>BI</td>\n",
       "      <td>A</td>\n",
       "      <td>E</td>\n",
       "      <td>BM</td>\n",
       "      <td>L</td>\n",
       "      <td>...</td>\n",
       "      <td>0.343255</td>\n",
       "      <td>0.616352</td>\n",
       "      <td>0.793687</td>\n",
       "      <td>0.552877</td>\n",
       "      <td>0.352113</td>\n",
       "      <td>0.388835</td>\n",
       "      <td>0.412303</td>\n",
       "      <td>0.292696</td>\n",
       "      <td>0.549452</td>\n",
       "      <td>0</td>\n",
       "    </tr>\n",
       "    <tr>\n",
       "      <th>3</th>\n",
       "      <td>A</td>\n",
       "      <td>K</td>\n",
       "      <td>A</td>\n",
       "      <td>C</td>\n",
       "      <td>E</td>\n",
       "      <td>BI</td>\n",
       "      <td>A</td>\n",
       "      <td>Y</td>\n",
       "      <td>AD</td>\n",
       "      <td>F</td>\n",
       "      <td>...</td>\n",
       "      <td>0.831147</td>\n",
       "      <td>0.807807</td>\n",
       "      <td>0.800032</td>\n",
       "      <td>0.619147</td>\n",
       "      <td>0.221789</td>\n",
       "      <td>0.897617</td>\n",
       "      <td>0.633669</td>\n",
       "      <td>0.760318</td>\n",
       "      <td>0.934242</td>\n",
       "      <td>0</td>\n",
       "    </tr>\n",
       "    <tr>\n",
       "      <th>4</th>\n",
       "      <td>A</td>\n",
       "      <td>I</td>\n",
       "      <td>G</td>\n",
       "      <td>B</td>\n",
       "      <td>E</td>\n",
       "      <td>BI</td>\n",
       "      <td>C</td>\n",
       "      <td>G</td>\n",
       "      <td>Q</td>\n",
       "      <td>A</td>\n",
       "      <td>...</td>\n",
       "      <td>0.338818</td>\n",
       "      <td>0.277308</td>\n",
       "      <td>0.610578</td>\n",
       "      <td>0.128291</td>\n",
       "      <td>0.578764</td>\n",
       "      <td>0.279167</td>\n",
       "      <td>0.351103</td>\n",
       "      <td>0.357084</td>\n",
       "      <td>0.328960</td>\n",
       "      <td>1</td>\n",
       "    </tr>\n",
       "  </tbody>\n",
       "</table>\n",
       "<p>5 rows × 31 columns</p>\n",
       "</div>"
      ],
      "text/plain": [
       "   cat0 cat1 cat2 cat3 cat4 cat5 cat6 cat7 cat8 cat9  ...     cont2     cont3  \\\n",
       "id                                                    ...                       \n",
       "0     A    I    A    B    B   BI    A    S    Q    A  ...  0.759439  0.795549   \n",
       "1     A    I    A    A    E   BI    K    W   AD    F  ...  0.386385  0.541366   \n",
       "2     A    K    A    A    E   BI    A    E   BM    L  ...  0.343255  0.616352   \n",
       "3     A    K    A    C    E   BI    A    Y   AD    F  ...  0.831147  0.807807   \n",
       "4     A    I    G    B    E   BI    C    G    Q    A  ...  0.338818  0.277308   \n",
       "\n",
       "       cont4     cont5     cont6     cont7     cont8     cont9    cont10  \\\n",
       "id                                                                         \n",
       "0   0.681917  0.621672  0.592184  0.791921  0.815254  0.965006  0.665915   \n",
       "1   0.388982  0.357778  0.600044  0.408701  0.399353  0.927406  0.493729   \n",
       "2   0.793687  0.552877  0.352113  0.388835  0.412303  0.292696  0.549452   \n",
       "3   0.800032  0.619147  0.221789  0.897617  0.633669  0.760318  0.934242   \n",
       "4   0.610578  0.128291  0.578764  0.279167  0.351103  0.357084  0.328960   \n",
       "\n",
       "    target  \n",
       "id          \n",
       "0        0  \n",
       "1        0  \n",
       "2        0  \n",
       "3        0  \n",
       "4        1  \n",
       "\n",
       "[5 rows x 31 columns]"
      ]
     },
     "metadata": {},
     "output_type": "display_data"
    },
    {
     "name": "stdout",
     "output_type": "stream",
     "text": [
      "(300000, 31)\n"
     ]
    }
   ],
   "source": [
    "train = pd.read_csv(input_path / 'train.csv', index_col='id')\n",
    "display(train.head())\n",
    "print(train.shape)"
   ]
  },
  {
   "cell_type": "code",
   "execution_count": 10,
   "metadata": {
    "execution": {
     "iopub.execute_input": "2021-03-07T20:41:57.431791Z",
     "iopub.status.busy": "2021-03-07T20:41:57.431163Z",
     "iopub.status.idle": "2021-03-07T20:41:58.985688Z",
     "shell.execute_reply": "2021-03-07T20:41:58.985079Z"
    },
    "papermill": {
     "duration": 1.564243,
     "end_time": "2021-03-07T20:41:58.985840",
     "exception": false,
     "start_time": "2021-03-07T20:41:57.421597",
     "status": "completed"
    },
    "tags": []
   },
   "outputs": [
    {
     "data": {
      "text/html": [
       "<div>\n",
       "<style scoped>\n",
       "    .dataframe tbody tr th:only-of-type {\n",
       "        vertical-align: middle;\n",
       "    }\n",
       "\n",
       "    .dataframe tbody tr th {\n",
       "        vertical-align: top;\n",
       "    }\n",
       "\n",
       "    .dataframe thead th {\n",
       "        text-align: right;\n",
       "    }\n",
       "</style>\n",
       "<table border=\"1\" class=\"dataframe\">\n",
       "  <thead>\n",
       "    <tr style=\"text-align: right;\">\n",
       "      <th></th>\n",
       "      <th>cat0</th>\n",
       "      <th>cat1</th>\n",
       "      <th>cat2</th>\n",
       "      <th>cat3</th>\n",
       "      <th>cat4</th>\n",
       "      <th>cat5</th>\n",
       "      <th>cat6</th>\n",
       "      <th>cat7</th>\n",
       "      <th>cat8</th>\n",
       "      <th>cat9</th>\n",
       "      <th>...</th>\n",
       "      <th>cont1</th>\n",
       "      <th>cont2</th>\n",
       "      <th>cont3</th>\n",
       "      <th>cont4</th>\n",
       "      <th>cont5</th>\n",
       "      <th>cont6</th>\n",
       "      <th>cont7</th>\n",
       "      <th>cont8</th>\n",
       "      <th>cont9</th>\n",
       "      <th>cont10</th>\n",
       "    </tr>\n",
       "    <tr>\n",
       "      <th>id</th>\n",
       "      <th></th>\n",
       "      <th></th>\n",
       "      <th></th>\n",
       "      <th></th>\n",
       "      <th></th>\n",
       "      <th></th>\n",
       "      <th></th>\n",
       "      <th></th>\n",
       "      <th></th>\n",
       "      <th></th>\n",
       "      <th></th>\n",
       "      <th></th>\n",
       "      <th></th>\n",
       "      <th></th>\n",
       "      <th></th>\n",
       "      <th></th>\n",
       "      <th></th>\n",
       "      <th></th>\n",
       "      <th></th>\n",
       "      <th></th>\n",
       "      <th></th>\n",
       "    </tr>\n",
       "  </thead>\n",
       "  <tbody>\n",
       "    <tr>\n",
       "      <th>5</th>\n",
       "      <td>A</td>\n",
       "      <td>F</td>\n",
       "      <td>A</td>\n",
       "      <td>A</td>\n",
       "      <td>F</td>\n",
       "      <td>BI</td>\n",
       "      <td>A</td>\n",
       "      <td>AH</td>\n",
       "      <td>AX</td>\n",
       "      <td>A</td>\n",
       "      <td>...</td>\n",
       "      <td>0.735690</td>\n",
       "      <td>0.578366</td>\n",
       "      <td>0.723154</td>\n",
       "      <td>0.228037</td>\n",
       "      <td>0.356227</td>\n",
       "      <td>0.551249</td>\n",
       "      <td>0.655693</td>\n",
       "      <td>0.598331</td>\n",
       "      <td>0.359987</td>\n",
       "      <td>0.947489</td>\n",
       "    </tr>\n",
       "    <tr>\n",
       "      <th>6</th>\n",
       "      <td>A</td>\n",
       "      <td>H</td>\n",
       "      <td>C</td>\n",
       "      <td>A</td>\n",
       "      <td>E</td>\n",
       "      <td>AB</td>\n",
       "      <td>I</td>\n",
       "      <td>F</td>\n",
       "      <td>N</td>\n",
       "      <td>A</td>\n",
       "      <td>...</td>\n",
       "      <td>0.313703</td>\n",
       "      <td>0.928885</td>\n",
       "      <td>0.516602</td>\n",
       "      <td>0.600169</td>\n",
       "      <td>0.795224</td>\n",
       "      <td>0.248987</td>\n",
       "      <td>0.654614</td>\n",
       "      <td>0.347944</td>\n",
       "      <td>0.565520</td>\n",
       "      <td>0.388580</td>\n",
       "    </tr>\n",
       "    <tr>\n",
       "      <th>8</th>\n",
       "      <td>A</td>\n",
       "      <td>N</td>\n",
       "      <td>C</td>\n",
       "      <td>A</td>\n",
       "      <td>F</td>\n",
       "      <td>AB</td>\n",
       "      <td>A</td>\n",
       "      <td>AH</td>\n",
       "      <td>BC</td>\n",
       "      <td>A</td>\n",
       "      <td>...</td>\n",
       "      <td>0.448201</td>\n",
       "      <td>0.424876</td>\n",
       "      <td>0.344729</td>\n",
       "      <td>0.242073</td>\n",
       "      <td>0.270632</td>\n",
       "      <td>0.746740</td>\n",
       "      <td>0.335590</td>\n",
       "      <td>0.341238</td>\n",
       "      <td>0.252289</td>\n",
       "      <td>0.411592</td>\n",
       "    </tr>\n",
       "    <tr>\n",
       "      <th>9</th>\n",
       "      <td>B</td>\n",
       "      <td>L</td>\n",
       "      <td>C</td>\n",
       "      <td>A</td>\n",
       "      <td>F</td>\n",
       "      <td>BI</td>\n",
       "      <td>A</td>\n",
       "      <td>E</td>\n",
       "      <td>AX</td>\n",
       "      <td>A</td>\n",
       "      <td>...</td>\n",
       "      <td>0.666092</td>\n",
       "      <td>0.598943</td>\n",
       "      <td>0.561971</td>\n",
       "      <td>0.806347</td>\n",
       "      <td>0.735983</td>\n",
       "      <td>0.538724</td>\n",
       "      <td>0.381566</td>\n",
       "      <td>0.481660</td>\n",
       "      <td>0.348514</td>\n",
       "      <td>0.325723</td>\n",
       "    </tr>\n",
       "    <tr>\n",
       "      <th>11</th>\n",
       "      <td>A</td>\n",
       "      <td>F</td>\n",
       "      <td>A</td>\n",
       "      <td>B</td>\n",
       "      <td>F</td>\n",
       "      <td>BI</td>\n",
       "      <td>A</td>\n",
       "      <td>AH</td>\n",
       "      <td>I</td>\n",
       "      <td>A</td>\n",
       "      <td>...</td>\n",
       "      <td>0.772229</td>\n",
       "      <td>0.479572</td>\n",
       "      <td>0.767745</td>\n",
       "      <td>0.252454</td>\n",
       "      <td>0.354810</td>\n",
       "      <td>0.178920</td>\n",
       "      <td>0.763479</td>\n",
       "      <td>0.562491</td>\n",
       "      <td>0.466261</td>\n",
       "      <td>0.585781</td>\n",
       "    </tr>\n",
       "  </tbody>\n",
       "</table>\n",
       "<p>5 rows × 30 columns</p>\n",
       "</div>"
      ],
      "text/plain": [
       "   cat0 cat1 cat2 cat3 cat4 cat5 cat6 cat7 cat8 cat9  ...     cont1     cont2  \\\n",
       "id                                                    ...                       \n",
       "5     A    F    A    A    F   BI    A   AH   AX    A  ...  0.735690  0.578366   \n",
       "6     A    H    C    A    E   AB    I    F    N    A  ...  0.313703  0.928885   \n",
       "8     A    N    C    A    F   AB    A   AH   BC    A  ...  0.448201  0.424876   \n",
       "9     B    L    C    A    F   BI    A    E   AX    A  ...  0.666092  0.598943   \n",
       "11    A    F    A    B    F   BI    A   AH    I    A  ...  0.772229  0.479572   \n",
       "\n",
       "       cont3     cont4     cont5     cont6     cont7     cont8     cont9  \\\n",
       "id                                                                         \n",
       "5   0.723154  0.228037  0.356227  0.551249  0.655693  0.598331  0.359987   \n",
       "6   0.516602  0.600169  0.795224  0.248987  0.654614  0.347944  0.565520   \n",
       "8   0.344729  0.242073  0.270632  0.746740  0.335590  0.341238  0.252289   \n",
       "9   0.561971  0.806347  0.735983  0.538724  0.381566  0.481660  0.348514   \n",
       "11  0.767745  0.252454  0.354810  0.178920  0.763479  0.562491  0.466261   \n",
       "\n",
       "      cont10  \n",
       "id            \n",
       "5   0.947489  \n",
       "6   0.388580  \n",
       "8   0.411592  \n",
       "9   0.325723  \n",
       "11  0.585781  \n",
       "\n",
       "[5 rows x 30 columns]"
      ]
     },
     "metadata": {},
     "output_type": "display_data"
    },
    {
     "name": "stdout",
     "output_type": "stream",
     "text": [
      "(200000, 30)\n"
     ]
    }
   ],
   "source": [
    "test = pd.read_csv(input_path / 'test.csv', index_col='id')\n",
    "display(test.head())\n",
    "print(test.shape)"
   ]
  },
  {
   "cell_type": "code",
   "execution_count": 11,
   "metadata": {
    "execution": {
     "iopub.execute_input": "2021-03-07T20:41:59.003215Z",
     "iopub.status.busy": "2021-03-07T20:41:59.002342Z",
     "iopub.status.idle": "2021-03-07T20:41:59.103176Z",
     "shell.execute_reply": "2021-03-07T20:41:59.102512Z"
    },
    "papermill": {
     "duration": 0.111348,
     "end_time": "2021-03-07T20:41:59.103320",
     "exception": false,
     "start_time": "2021-03-07T20:41:58.991972",
     "status": "completed"
    },
    "tags": []
   },
   "outputs": [
    {
     "data": {
      "text/html": [
       "<div>\n",
       "<style scoped>\n",
       "    .dataframe tbody tr th:only-of-type {\n",
       "        vertical-align: middle;\n",
       "    }\n",
       "\n",
       "    .dataframe tbody tr th {\n",
       "        vertical-align: top;\n",
       "    }\n",
       "\n",
       "    .dataframe thead th {\n",
       "        text-align: right;\n",
       "    }\n",
       "</style>\n",
       "<table border=\"1\" class=\"dataframe\">\n",
       "  <thead>\n",
       "    <tr style=\"text-align: right;\">\n",
       "      <th></th>\n",
       "      <th>target</th>\n",
       "    </tr>\n",
       "    <tr>\n",
       "      <th>id</th>\n",
       "      <th></th>\n",
       "    </tr>\n",
       "  </thead>\n",
       "  <tbody>\n",
       "    <tr>\n",
       "      <th>5</th>\n",
       "      <td>0.5</td>\n",
       "    </tr>\n",
       "    <tr>\n",
       "      <th>6</th>\n",
       "      <td>0.5</td>\n",
       "    </tr>\n",
       "    <tr>\n",
       "      <th>8</th>\n",
       "      <td>0.5</td>\n",
       "    </tr>\n",
       "    <tr>\n",
       "      <th>9</th>\n",
       "      <td>0.5</td>\n",
       "    </tr>\n",
       "    <tr>\n",
       "      <th>11</th>\n",
       "      <td>0.5</td>\n",
       "    </tr>\n",
       "  </tbody>\n",
       "</table>\n",
       "</div>"
      ],
      "text/plain": [
       "    target\n",
       "id        \n",
       "5      0.5\n",
       "6      0.5\n",
       "8      0.5\n",
       "9      0.5\n",
       "11     0.5"
      ]
     },
     "metadata": {},
     "output_type": "display_data"
    }
   ],
   "source": [
    "submission = pd.read_csv(input_path / 'sample_submission.csv', index_col='id')\n",
    "display(submission.head())"
   ]
  },
  {
   "cell_type": "markdown",
   "metadata": {
    "papermill": {
     "duration": 0.006797,
     "end_time": "2021-03-07T20:41:59.115872",
     "exception": false,
     "start_time": "2021-03-07T20:41:59.109075",
     "status": "completed"
    },
    "tags": []
   },
   "source": [
    "## We need to encode the categoricals.\n",
    "\n",
    "There are different strategies to accomplish this, and different approaches will have different performance when using different algorithms.  You may decide to encode features with high cardinality (e.g., more distinct values) diffirently than features with low cardinality. For this starter notebook, we'll use simple encoding."
   ]
  },
  {
   "cell_type": "code",
   "execution_count": 12,
   "metadata": {
    "execution": {
     "iopub.execute_input": "2021-03-07T20:41:59.223159Z",
     "iopub.status.busy": "2021-03-07T20:41:59.222202Z",
     "iopub.status.idle": "2021-03-07T20:42:06.218791Z",
     "shell.execute_reply": "2021-03-07T20:42:06.219276Z"
    },
    "papermill": {
     "duration": 7.097943,
     "end_time": "2021-03-07T20:42:06.219452",
     "exception": false,
     "start_time": "2021-03-07T20:41:59.121509",
     "status": "completed"
    },
    "tags": []
   },
   "outputs": [
    {
     "data": {
      "text/html": [
       "<div>\n",
       "<style scoped>\n",
       "    .dataframe tbody tr th:only-of-type {\n",
       "        vertical-align: middle;\n",
       "    }\n",
       "\n",
       "    .dataframe tbody tr th {\n",
       "        vertical-align: top;\n",
       "    }\n",
       "\n",
       "    .dataframe thead th {\n",
       "        text-align: right;\n",
       "    }\n",
       "</style>\n",
       "<table border=\"1\" class=\"dataframe\">\n",
       "  <thead>\n",
       "    <tr style=\"text-align: right;\">\n",
       "      <th></th>\n",
       "      <th>cat0</th>\n",
       "      <th>cat1</th>\n",
       "      <th>cat2</th>\n",
       "      <th>cat3</th>\n",
       "      <th>cat4</th>\n",
       "      <th>cat5</th>\n",
       "      <th>cat6</th>\n",
       "      <th>cat7</th>\n",
       "      <th>cat8</th>\n",
       "      <th>cat9</th>\n",
       "      <th>...</th>\n",
       "      <th>cont2</th>\n",
       "      <th>cont3</th>\n",
       "      <th>cont4</th>\n",
       "      <th>cont5</th>\n",
       "      <th>cont6</th>\n",
       "      <th>cont7</th>\n",
       "      <th>cont8</th>\n",
       "      <th>cont9</th>\n",
       "      <th>cont10</th>\n",
       "      <th>target</th>\n",
       "    </tr>\n",
       "    <tr>\n",
       "      <th>id</th>\n",
       "      <th></th>\n",
       "      <th></th>\n",
       "      <th></th>\n",
       "      <th></th>\n",
       "      <th></th>\n",
       "      <th></th>\n",
       "      <th></th>\n",
       "      <th></th>\n",
       "      <th></th>\n",
       "      <th></th>\n",
       "      <th></th>\n",
       "      <th></th>\n",
       "      <th></th>\n",
       "      <th></th>\n",
       "      <th></th>\n",
       "      <th></th>\n",
       "      <th></th>\n",
       "      <th></th>\n",
       "      <th></th>\n",
       "      <th></th>\n",
       "      <th></th>\n",
       "    </tr>\n",
       "  </thead>\n",
       "  <tbody>\n",
       "    <tr>\n",
       "      <th>0</th>\n",
       "      <td>0</td>\n",
       "      <td>8</td>\n",
       "      <td>0</td>\n",
       "      <td>1</td>\n",
       "      <td>1</td>\n",
       "      <td>33</td>\n",
       "      <td>0</td>\n",
       "      <td>44</td>\n",
       "      <td>54</td>\n",
       "      <td>0</td>\n",
       "      <td>...</td>\n",
       "      <td>0.759439</td>\n",
       "      <td>0.795549</td>\n",
       "      <td>0.681917</td>\n",
       "      <td>0.621672</td>\n",
       "      <td>0.592184</td>\n",
       "      <td>0.791921</td>\n",
       "      <td>0.815254</td>\n",
       "      <td>0.965006</td>\n",
       "      <td>0.665915</td>\n",
       "      <td>0</td>\n",
       "    </tr>\n",
       "    <tr>\n",
       "      <th>1</th>\n",
       "      <td>0</td>\n",
       "      <td>8</td>\n",
       "      <td>0</td>\n",
       "      <td>0</td>\n",
       "      <td>4</td>\n",
       "      <td>33</td>\n",
       "      <td>8</td>\n",
       "      <td>48</td>\n",
       "      <td>3</td>\n",
       "      <td>5</td>\n",
       "      <td>...</td>\n",
       "      <td>0.386385</td>\n",
       "      <td>0.541366</td>\n",
       "      <td>0.388982</td>\n",
       "      <td>0.357778</td>\n",
       "      <td>0.600044</td>\n",
       "      <td>0.408701</td>\n",
       "      <td>0.399353</td>\n",
       "      <td>0.927406</td>\n",
       "      <td>0.493729</td>\n",
       "      <td>0</td>\n",
       "    </tr>\n",
       "    <tr>\n",
       "      <th>2</th>\n",
       "      <td>0</td>\n",
       "      <td>10</td>\n",
       "      <td>0</td>\n",
       "      <td>0</td>\n",
       "      <td>4</td>\n",
       "      <td>33</td>\n",
       "      <td>0</td>\n",
       "      <td>30</td>\n",
       "      <td>38</td>\n",
       "      <td>9</td>\n",
       "      <td>...</td>\n",
       "      <td>0.343255</td>\n",
       "      <td>0.616352</td>\n",
       "      <td>0.793687</td>\n",
       "      <td>0.552877</td>\n",
       "      <td>0.352113</td>\n",
       "      <td>0.388835</td>\n",
       "      <td>0.412303</td>\n",
       "      <td>0.292696</td>\n",
       "      <td>0.549452</td>\n",
       "      <td>0</td>\n",
       "    </tr>\n",
       "    <tr>\n",
       "      <th>3</th>\n",
       "      <td>0</td>\n",
       "      <td>10</td>\n",
       "      <td>0</td>\n",
       "      <td>2</td>\n",
       "      <td>4</td>\n",
       "      <td>33</td>\n",
       "      <td>0</td>\n",
       "      <td>50</td>\n",
       "      <td>3</td>\n",
       "      <td>5</td>\n",
       "      <td>...</td>\n",
       "      <td>0.831147</td>\n",
       "      <td>0.807807</td>\n",
       "      <td>0.800032</td>\n",
       "      <td>0.619147</td>\n",
       "      <td>0.221789</td>\n",
       "      <td>0.897617</td>\n",
       "      <td>0.633669</td>\n",
       "      <td>0.760318</td>\n",
       "      <td>0.934242</td>\n",
       "      <td>0</td>\n",
       "    </tr>\n",
       "    <tr>\n",
       "      <th>4</th>\n",
       "      <td>0</td>\n",
       "      <td>8</td>\n",
       "      <td>6</td>\n",
       "      <td>1</td>\n",
       "      <td>4</td>\n",
       "      <td>33</td>\n",
       "      <td>2</td>\n",
       "      <td>32</td>\n",
       "      <td>54</td>\n",
       "      <td>0</td>\n",
       "      <td>...</td>\n",
       "      <td>0.338818</td>\n",
       "      <td>0.277308</td>\n",
       "      <td>0.610578</td>\n",
       "      <td>0.128291</td>\n",
       "      <td>0.578764</td>\n",
       "      <td>0.279167</td>\n",
       "      <td>0.351103</td>\n",
       "      <td>0.357084</td>\n",
       "      <td>0.328960</td>\n",
       "      <td>1</td>\n",
       "    </tr>\n",
       "  </tbody>\n",
       "</table>\n",
       "<p>5 rows × 31 columns</p>\n",
       "</div>"
      ],
      "text/plain": [
       "    cat0  cat1  cat2  cat3  cat4  cat5  cat6  cat7  cat8  cat9  ...     cont2  \\\n",
       "id                                                              ...             \n",
       "0      0     8     0     1     1    33     0    44    54     0  ...  0.759439   \n",
       "1      0     8     0     0     4    33     8    48     3     5  ...  0.386385   \n",
       "2      0    10     0     0     4    33     0    30    38     9  ...  0.343255   \n",
       "3      0    10     0     2     4    33     0    50     3     5  ...  0.831147   \n",
       "4      0     8     6     1     4    33     2    32    54     0  ...  0.338818   \n",
       "\n",
       "       cont3     cont4     cont5     cont6     cont7     cont8     cont9  \\\n",
       "id                                                                         \n",
       "0   0.795549  0.681917  0.621672  0.592184  0.791921  0.815254  0.965006   \n",
       "1   0.541366  0.388982  0.357778  0.600044  0.408701  0.399353  0.927406   \n",
       "2   0.616352  0.793687  0.552877  0.352113  0.388835  0.412303  0.292696   \n",
       "3   0.807807  0.800032  0.619147  0.221789  0.897617  0.633669  0.760318   \n",
       "4   0.277308  0.610578  0.128291  0.578764  0.279167  0.351103  0.357084   \n",
       "\n",
       "      cont10  target  \n",
       "id                    \n",
       "0   0.665915       0  \n",
       "1   0.493729       0  \n",
       "2   0.549452       0  \n",
       "3   0.934242       0  \n",
       "4   0.328960       1  \n",
       "\n",
       "[5 rows x 31 columns]"
      ]
     },
     "metadata": {},
     "output_type": "display_data"
    }
   ],
   "source": [
    "for c in train.columns:\n",
    "    if train[c].dtype=='object': \n",
    "        lbl = LabelEncoder()\n",
    "        lbl.fit(list(train[c].values) + list(test[c].values))\n",
    "        train[c] = lbl.transform(train[c].values)\n",
    "        test[c] = lbl.transform(test[c].values)\n",
    "        \n",
    "display(train.head())"
   ]
  },
  {
   "cell_type": "markdown",
   "metadata": {
    "papermill": {
     "duration": 0.005857,
     "end_time": "2021-03-07T20:42:06.231707",
     "exception": false,
     "start_time": "2021-03-07T20:42:06.225850",
     "status": "completed"
    },
    "tags": []
   },
   "source": [
    "## Pull out the target, and make a validation split"
   ]
  },
  {
   "cell_type": "code",
   "execution_count": 13,
   "metadata": {
    "execution": {
     "iopub.execute_input": "2021-03-07T20:42:06.250697Z",
     "iopub.status.busy": "2021-03-07T20:42:06.249747Z",
     "iopub.status.idle": "2021-03-07T20:42:06.366756Z",
     "shell.execute_reply": "2021-03-07T20:42:06.367249Z"
    },
    "papermill": {
     "duration": 0.12961,
     "end_time": "2021-03-07T20:42:06.367439",
     "exception": false,
     "start_time": "2021-03-07T20:42:06.237829",
     "status": "completed"
    },
    "tags": []
   },
   "outputs": [],
   "source": [
    "target = train.pop('target')\n",
    "X_train, X_test, y_train, y_test = train_test_split(train, target, train_size=0.60)"
   ]
  },
  {
   "cell_type": "markdown",
   "metadata": {
    "papermill": {
     "duration": 0.005873,
     "end_time": "2021-03-07T20:42:06.379604",
     "exception": false,
     "start_time": "2021-03-07T20:42:06.373731",
     "status": "completed"
    },
    "tags": []
   },
   "source": [
    "# Simple Random Forest\n",
    "\n",
    "In previous Tabular Playground Series competition, when the target was continuous, we created a \"naive\" dummy model, that just predicted the average of the target. That approach is less useful when the scoring metric is AUC, since any constant prediction will score 0.5. So we'll skip that this time, and note that we want to score better than 0.5 for our model to be considered better than naive or random."
   ]
  },
  {
   "cell_type": "code",
   "execution_count": 14,
   "metadata": {
    "execution": {
     "iopub.execute_input": "2021-03-07T20:42:06.400764Z",
     "iopub.status.busy": "2021-03-07T20:42:06.399435Z",
     "iopub.status.idle": "2021-03-07T20:42:34.695720Z",
     "shell.execute_reply": "2021-03-07T20:42:34.696243Z"
    },
    "papermill": {
     "duration": 28.310689,
     "end_time": "2021-03-07T20:42:34.696427",
     "exception": false,
     "start_time": "2021-03-07T20:42:06.385738",
     "status": "completed"
    },
    "tags": []
   },
   "outputs": [
    {
     "name": "stdout",
     "output_type": "stream",
     "text": [
      "0.87349\n"
     ]
    }
   ],
   "source": [
    "clf = RandomForestClassifier(n_estimators=200, max_depth=7, n_jobs=-1)\n",
    "clf.fit(X_train, y_train)\n",
    "y_pred = clf.predict_proba(X_test)[:, 1] # This grabs the positive class prediction\n",
    "score = roc_auc_score(y_test, y_pred)\n",
    "print(f'{score:0.5f}') # 0.87323 shows we're doing better than a dummy model"
   ]
  },
  {
   "cell_type": "markdown",
   "metadata": {
    "papermill": {
     "duration": 0.006192,
     "end_time": "2021-03-07T20:42:34.709066",
     "exception": false,
     "start_time": "2021-03-07T20:42:34.702874",
     "status": "completed"
    },
    "tags": []
   },
   "source": [
    "## Let's take a look at how the model predicted the various classes\n",
    "\n",
    "The graph below shows that the model does well with most of the negative observations, but struggles with many of the positive observations."
   ]
  },
  {
   "cell_type": "code",
   "execution_count": 15,
   "metadata": {
    "execution": {
     "iopub.execute_input": "2021-03-07T20:42:34.728838Z",
     "iopub.status.busy": "2021-03-07T20:42:34.728212Z",
     "iopub.status.idle": "2021-03-07T20:42:35.387325Z",
     "shell.execute_reply": "2021-03-07T20:42:35.386242Z"
    },
    "papermill": {
     "duration": 0.672222,
     "end_time": "2021-03-07T20:42:35.387483",
     "exception": false,
     "start_time": "2021-03-07T20:42:34.715261",
     "status": "completed"
    },
    "tags": []
   },
   "outputs": [
    {
     "data": {
      "image/png": "[encoded data removed]",
      "text/plain": [
       "<Figure size 576x288 with 1 Axes>"
      ]
     },
     "metadata": {
      "needs_background": "light"
     },
     "output_type": "display_data"
    }
   ],
   "source": [
    "plt.figure(figsize=(8,4))\n",
    "plt.hist(y_pred[np.where(y_test == 0)], bins=100, alpha=0.75, label='neg class')\n",
    "plt.hist(y_pred[np.where(y_test == 1)], bins=100, alpha=0.75, label='pos class')\n",
    "plt.legend()\n",
    "plt.show()"
   ]
  },
  {
   "cell_type": "markdown",
   "metadata": {
    "papermill": {
     "duration": 0.006143,
     "end_time": "2021-03-07T20:42:35.400632",
     "exception": false,
     "start_time": "2021-03-07T20:42:35.394489",
     "status": "completed"
    },
    "tags": []
   },
   "source": [
    "# Let's train it on all the data and make a submission!"
   ]
  },
  {
   "cell_type": "code",
   "execution_count": 23,
   "metadata": {
    "execution": {
     "iopub.execute_input": "2021-03-07T20:42:35.422080Z",
     "iopub.status.busy": "2021-03-07T20:42:35.421212Z",
     "iopub.status.idle": "2021-03-07T20:43:29.189998Z",
     "shell.execute_reply": "2021-03-07T20:43:29.189344Z"
    },
    "papermill": {
     "duration": 53.783229,
     "end_time": "2021-03-07T20:43:29.190199",
     "exception": false,
     "start_time": "2021-03-07T20:42:35.406970",
     "status": "completed"
    },
    "tags": []
   },
   "outputs": [],
   "source": [
    "clf = RandomForestClassifier(n_estimators=200, max_depth=7, n_jobs=-1)\n",
    "clf.fit(train, target)\n",
    "submission['target'] = clf.predict_proba(test)[:, 1]\n",
    "submission.to_csv('random_forest.csv')"
   ]
  },
  {
   "cell_type": "code",
   "execution_count": 21,
   "metadata": {
    "scrolled": true
   },
   "outputs": [
    {
     "name": "stdout",
     "output_type": "stream",
     "text": [
      "Processing /root/.cache/pip/wheels/62/d6/58/5853130f941e75b2177d281eb7e44b4a98ed46dd155f556dc5/kaggle-1.5.12-py3-none-any.whl\n",
      "Requirement already satisfied, skipping upgrade: requests in /opt/conda/lib/python3.7/site-packages (from kaggle) (2.22.0)\n",
      "Processing /root/.cache/pip/wheels/48/1b/6f/5c1cfab22eacbe0095fc619786da6571b55253653c71324b5c/python_slugify-4.0.1-py2.py3-none-any.whl\n",
      "Requirement already satisfied, skipping upgrade: certifi in /opt/conda/lib/python3.7/site-packages (from kaggle) (2020.12.5)\n",
      "Requirement already satisfied, skipping upgrade: python-dateutil in /opt/conda/lib/python3.7/site-packages (from kaggle) (2.8.1)\n",
      "Requirement already satisfied, skipping upgrade: six>=1.10 in /opt/conda/lib/python3.7/site-packages (from kaggle) (1.14.0)\n",
      "Requirement already satisfied, skipping upgrade: tqdm in /opt/conda/lib/python3.7/site-packages (from kaggle) (4.42.1)\n",
      "Requirement already satisfied, skipping upgrade: urllib3 in /opt/conda/lib/python3.7/site-packages (from kaggle) (1.25.8)\n",
      "Requirement already satisfied, skipping upgrade: chardet<3.1.0,>=3.0.2 in /opt/conda/lib/python3.7/site-packages (from requests->kaggle) (3.0.4)\n",
      "Requirement already satisfied, skipping upgrade: idna<2.9,>=2.5 in /opt/conda/lib/python3.7/site-packages (from requests->kaggle) (2.8)\n",
      "Collecting text-unidecode>=1.3\n",
      "  Using cached text_unidecode-1.3-py2.py3-none-any.whl (78 kB)\n",
      "Installing collected packages: text-unidecode, python-slugify, kaggle\n",
      "Successfully installed kaggle-1.5.12 python-slugify-4.0.1 text-unidecode-1.3\n"
     ]
    }
   ],
   "source": [
    "!pip install kaggle --upgrade"
   ]
  },
  {
   "cell_type": "code",
   "execution_count": 22,
   "metadata": {},
   "outputs": [
    {
     "name": "stdout",
     "output_type": "stream",
     "text": [
      "Warning: Your Kaggle API key is readable by other users on this system! To fix this, you can run 'chmod 600 /root/.kaggle/kaggle.json'\n",
      "100%|██████████████████████████████████████| 5.03M/5.03M [00:01<00:00, 2.78MB/s]\n",
      "Successfully submitted to Tabular Playground Series - Mar 2021"
     ]
    }
   ],
   "source": [
    "!kaggle competitions submit -c tabular-playground-series-mar-2021 -f random_forest.csv -m \"Sample submission\""
   ]
  },
  {
   "cell_type": "markdown",
   "metadata": {
    "papermill": {
     "duration": 0.006447,
     "end_time": "2021-03-07T20:43:29.203511",
     "exception": false,
     "start_time": "2021-03-07T20:43:29.197064",
     "status": "completed"
    },
    "tags": []
   },
   "source": [
    "## Now you should save your Notebook (blue button in the upper right), and then when that's complete go to the notebook viewer and make a submission to the competition. :-)\n",
    "\n",
    "## There's lots of room for improvement. What things can you try to get a better score?"
   ]
  }
 ],
 "metadata": {
  "instance_type": "ml.m5.2xlarge",
  "kernelspec": {
   "display_name": "Python 3 (Data Science)",
   "language": "python",
   "name": "python3__SAGEMAKER_INTERNAL__arn:aws:sagemaker:us-west-2:236514542706:image/datascience-1.0"
  },
  "language_info": {
   "codemirror_mode": {
    "name": "ipython",
    "version": 3
   },
   "file_extension": ".py",
   "mimetype": "text/x-python",
   "name": "python",
   "nbconvert_exporter": "python",
   "pygments_lexer": "ipython3",
   "version": "3.7.10"
  },
  "papermill": {
   "default_parameters": {},
   "duration": 102.175905,
   "end_time": "2021-03-07T20:43:29.920746",
   "environment_variables": {},
   "exception": null,
   "input_path": "__notebook__.ipynb",
   "output_path": "__notebook__.ipynb",
   "parameters": {},
   "start_time": "2021-03-07T20:41:47.744841",
   "version": "2.2.2"
  }
 },
 "nbformat": 4,
 "nbformat_minor": 4
}
