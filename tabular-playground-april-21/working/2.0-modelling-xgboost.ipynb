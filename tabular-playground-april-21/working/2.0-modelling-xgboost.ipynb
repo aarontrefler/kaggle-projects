{
 "cells": [
  {
   "cell_type": "markdown",
   "metadata": {},
   "source": [
    "# Setup"
   ]
  },
  {
   "cell_type": "code",
   "execution_count": 1,
   "metadata": {},
   "outputs": [
    {
     "name": "stdout",
     "output_type": "stream",
     "text": [
      "/opt/conda/lib/python3.7/site-packages/secretstorage/dhcrypto.py:16: CryptographyDeprecationWarning: int_from_bytes is deprecated, use int.from_bytes instead\n",
      "  from cryptography.utils import int_from_bytes\n",
      "/opt/conda/lib/python3.7/site-packages/secretstorage/util.py:25: CryptographyDeprecationWarning: int_from_bytes is deprecated, use int.from_bytes instead\n",
      "  from cryptography.utils import int_from_bytes\n"
     ]
    }
   ],
   "source": [
    "!pip install xgboost > /dev/null"
   ]
  },
  {
   "cell_type": "code",
   "execution_count": 2,
   "metadata": {},
   "outputs": [],
   "source": [
    "import matplotlib.pyplot as plt\n",
    "import numpy as np\n",
    "import pandas as pd\n",
    "import time\n",
    "import xgboost as xgb\n",
    "\n",
    "from xgboost.callback import EvaluationMonitor"
   ]
  },
  {
   "cell_type": "code",
   "execution_count": 3,
   "metadata": {},
   "outputs": [],
   "source": [
    "pd_clean_train = pd.read_csv(\"./data/clean/train.csv\", index_col='PassengerId')\n",
    "pd_clean_test = pd.read_csv(\"./data/clean/test.csv\", index_col='PassengerId')\n",
    "pd_sample_submission = pd.read_csv(\"../input/sample_submission.csv\")"
   ]
  },
  {
   "cell_type": "code",
   "execution_count": 4,
   "metadata": {},
   "outputs": [
    {
     "name": "stdout",
     "output_type": "stream",
     "text": [
      "<class 'pandas.core.frame.DataFrame'>\n",
      "Int64Index: 100000 entries, 0 to 99999\n",
      "Data columns (total 14 columns):\n",
      " #   Column       Non-Null Count   Dtype  \n",
      "---  ------       --------------   -----  \n",
      " 0   Survived     100000 non-null  int64  \n",
      " 1   Pclass       100000 non-null  int64  \n",
      " 2   Name         100000 non-null  object \n",
      " 3   Sex          100000 non-null  object \n",
      " 4   Age          96708 non-null   float64\n",
      " 5   SibSp        100000 non-null  int64  \n",
      " 6   Parch        100000 non-null  int64  \n",
      " 7   Ticket       95377 non-null   object \n",
      " 8   Fare         99866 non-null   float64\n",
      " 9   Cabin        32134 non-null   object \n",
      " 10  Embarked     99750 non-null   object \n",
      " 11  family       100000 non-null  int64  \n",
      " 12  ticket_type  24655 non-null   object \n",
      " 13  ticket_num   94704 non-null   float64\n",
      "dtypes: float64(3), int64(5), object(6)\n",
      "memory usage: 11.4+ MB\n"
     ]
    },
    {
     "data": {
      "text/html": [
       "<div>\n",
       "<style scoped>\n",
       "    .dataframe tbody tr th:only-of-type {\n",
       "        vertical-align: middle;\n",
       "    }\n",
       "\n",
       "    .dataframe tbody tr th {\n",
       "        vertical-align: top;\n",
       "    }\n",
       "\n",
       "    .dataframe thead th {\n",
       "        text-align: right;\n",
       "    }\n",
       "</style>\n",
       "<table border=\"1\" class=\"dataframe\">\n",
       "  <thead>\n",
       "    <tr style=\"text-align: right;\">\n",
       "      <th></th>\n",
       "      <th>Survived</th>\n",
       "      <th>Pclass</th>\n",
       "      <th>Name</th>\n",
       "      <th>Sex</th>\n",
       "      <th>Age</th>\n",
       "      <th>SibSp</th>\n",
       "      <th>Parch</th>\n",
       "      <th>Ticket</th>\n",
       "      <th>Fare</th>\n",
       "      <th>Cabin</th>\n",
       "      <th>Embarked</th>\n",
       "      <th>family</th>\n",
       "      <th>ticket_type</th>\n",
       "      <th>ticket_num</th>\n",
       "    </tr>\n",
       "    <tr>\n",
       "      <th>PassengerId</th>\n",
       "      <th></th>\n",
       "      <th></th>\n",
       "      <th></th>\n",
       "      <th></th>\n",
       "      <th></th>\n",
       "      <th></th>\n",
       "      <th></th>\n",
       "      <th></th>\n",
       "      <th></th>\n",
       "      <th></th>\n",
       "      <th></th>\n",
       "      <th></th>\n",
       "      <th></th>\n",
       "      <th></th>\n",
       "    </tr>\n",
       "  </thead>\n",
       "  <tbody>\n",
       "    <tr>\n",
       "      <th>0</th>\n",
       "      <td>1</td>\n",
       "      <td>1</td>\n",
       "      <td>Oconnor, Frankie</td>\n",
       "      <td>male</td>\n",
       "      <td>NaN</td>\n",
       "      <td>2</td>\n",
       "      <td>0</td>\n",
       "      <td>209245</td>\n",
       "      <td>27.14</td>\n",
       "      <td>C12239</td>\n",
       "      <td>S</td>\n",
       "      <td>2</td>\n",
       "      <td>NaN</td>\n",
       "      <td>209245.0</td>\n",
       "    </tr>\n",
       "  </tbody>\n",
       "</table>\n",
       "</div>"
      ],
      "text/plain": [
       "             Survived  Pclass              Name   Sex  Age  SibSp  Parch  \\\n",
       "PassengerId                                                                \n",
       "0                   1       1  Oconnor, Frankie  male  NaN      2      0   \n",
       "\n",
       "             Ticket   Fare   Cabin Embarked  family ticket_type  ticket_num  \n",
       "PassengerId                                                                  \n",
       "0            209245  27.14  C12239        S       2         NaN    209245.0  "
      ]
     },
     "execution_count": 4,
     "metadata": {},
     "output_type": "execute_result"
    }
   ],
   "source": [
    "pd_clean_train.info()\n",
    "pd_clean_train.head(1)"
   ]
  },
  {
   "cell_type": "markdown",
   "metadata": {},
   "source": [
    "# Create Modeling Datasets"
   ]
  },
  {
   "cell_type": "code",
   "execution_count": 5,
   "metadata": {},
   "outputs": [],
   "source": [
    "def format_dataset(pd_df):\n",
    "    dataset_cols = [\n",
    "        'Sex',\n",
    "        'Embarked',\n",
    "        'Pclass',\n",
    "        'Age',\n",
    "        'SibSp',\n",
    "        'Parch',\n",
    "        'Fare',\n",
    "        'family',\n",
    "        'ticket_type',\n",
    "        'Survived']\n",
    "    \n",
    "    return pd_df.loc[:, [col for col in dataset_cols if col in pd_df.columns]]\n",
    "\n",
    "\n",
    "def one_hot_encode(pd_df):\n",
    "    pd_df = pd.get_dummies(pd_df, columns=['Sex', 'Embarked', 'ticket_type'], dummy_na=True)\n",
    "    pd_df = pd_df.drop('Sex_nan', axis=1)  # no null values exist in training or test set\n",
    "    \n",
    "    return pd_df"
   ]
  },
  {
   "cell_type": "code",
   "execution_count": 6,
   "metadata": {},
   "outputs": [],
   "source": [
    "pd_model_train = (pd_clean_train\n",
    "    .pipe(format_dataset)\n",
    "    .pipe(one_hot_encode))\n",
    "pd_model_test = (pd_clean_test\n",
    "    .pipe(format_dataset)\n",
    "    .pipe(one_hot_encode))"
   ]
  },
  {
   "cell_type": "code",
   "execution_count": 8,
   "metadata": {},
   "outputs": [
    {
     "data": {
      "text/html": [
       "<div>\n",
       "<style scoped>\n",
       "    .dataframe tbody tr th:only-of-type {\n",
       "        vertical-align: middle;\n",
       "    }\n",
       "\n",
       "    .dataframe tbody tr th {\n",
       "        vertical-align: top;\n",
       "    }\n",
       "\n",
       "    .dataframe thead th {\n",
       "        text-align: right;\n",
       "    }\n",
       "</style>\n",
       "<table border=\"1\" class=\"dataframe\">\n",
       "  <thead>\n",
       "    <tr style=\"text-align: right;\">\n",
       "      <th></th>\n",
       "      <th>Pclass</th>\n",
       "      <th>Age</th>\n",
       "      <th>SibSp</th>\n",
       "      <th>Parch</th>\n",
       "      <th>Fare</th>\n",
       "      <th>family</th>\n",
       "      <th>Survived</th>\n",
       "      <th>Sex_female</th>\n",
       "      <th>Sex_male</th>\n",
       "      <th>Embarked_C</th>\n",
       "      <th>...</th>\n",
       "      <th>ticket_type_SOPP</th>\n",
       "      <th>ticket_type_SOTONO</th>\n",
       "      <th>ticket_type_SOTONOQ</th>\n",
       "      <th>ticket_type_SP</th>\n",
       "      <th>ticket_type_STONO</th>\n",
       "      <th>ticket_type_STONOQ</th>\n",
       "      <th>ticket_type_SWPP</th>\n",
       "      <th>ticket_type_WC</th>\n",
       "      <th>ticket_type_WEP</th>\n",
       "      <th>ticket_type_nan</th>\n",
       "    </tr>\n",
       "    <tr>\n",
       "      <th>PassengerId</th>\n",
       "      <th></th>\n",
       "      <th></th>\n",
       "      <th></th>\n",
       "      <th></th>\n",
       "      <th></th>\n",
       "      <th></th>\n",
       "      <th></th>\n",
       "      <th></th>\n",
       "      <th></th>\n",
       "      <th></th>\n",
       "      <th></th>\n",
       "      <th></th>\n",
       "      <th></th>\n",
       "      <th></th>\n",
       "      <th></th>\n",
       "      <th></th>\n",
       "      <th></th>\n",
       "      <th></th>\n",
       "      <th></th>\n",
       "      <th></th>\n",
       "      <th></th>\n",
       "    </tr>\n",
       "  </thead>\n",
       "  <tbody>\n",
       "    <tr>\n",
       "      <th>0</th>\n",
       "      <td>1</td>\n",
       "      <td>NaN</td>\n",
       "      <td>2</td>\n",
       "      <td>0</td>\n",
       "      <td>27.14</td>\n",
       "      <td>2</td>\n",
       "      <td>1</td>\n",
       "      <td>0</td>\n",
       "      <td>1</td>\n",
       "      <td>0</td>\n",
       "      <td>...</td>\n",
       "      <td>0</td>\n",
       "      <td>0</td>\n",
       "      <td>0</td>\n",
       "      <td>0</td>\n",
       "      <td>0</td>\n",
       "      <td>0</td>\n",
       "      <td>0</td>\n",
       "      <td>0</td>\n",
       "      <td>0</td>\n",
       "      <td>1</td>\n",
       "    </tr>\n",
       "  </tbody>\n",
       "</table>\n",
       "<p>1 rows × 44 columns</p>\n",
       "</div>"
      ],
      "text/plain": [
       "             Pclass  Age  SibSp  Parch   Fare  family  Survived  Sex_female  \\\n",
       "PassengerId                                                                   \n",
       "0                 1  NaN      2      0  27.14       2         1           0   \n",
       "\n",
       "             Sex_male  Embarked_C  ...  ticket_type_SOPP  ticket_type_SOTONO  \\\n",
       "PassengerId                        ...                                         \n",
       "0                   1           0  ...                 0                   0   \n",
       "\n",
       "             ticket_type_SOTONOQ  ticket_type_SP  ticket_type_STONO  \\\n",
       "PassengerId                                                           \n",
       "0                              0               0                  0   \n",
       "\n",
       "             ticket_type_STONOQ  ticket_type_SWPP  ticket_type_WC  \\\n",
       "PassengerId                                                         \n",
       "0                             0                 0               0   \n",
       "\n",
       "             ticket_type_WEP  ticket_type_nan  \n",
       "PassengerId                                    \n",
       "0                          0                1  \n",
       "\n",
       "[1 rows x 44 columns]"
      ]
     },
     "execution_count": 8,
     "metadata": {},
     "output_type": "execute_result"
    }
   ],
   "source": [
    "pd_model_train.head(1)"
   ]
  },
  {
   "cell_type": "markdown",
   "metadata": {},
   "source": [
    "# Train-Validation Split"
   ]
  },
  {
   "cell_type": "code",
   "execution_count": 9,
   "metadata": {},
   "outputs": [],
   "source": [
    "pd_train = pd_model_train.sample(frac=0.8, random_state=3)\n",
    "pd_valid = pd_model_train.drop(pd_train.index)"
   ]
  },
  {
   "cell_type": "markdown",
   "metadata": {},
   "source": [
    "# Train Model"
   ]
  },
  {
   "cell_type": "code",
   "execution_count": 13,
   "metadata": {},
   "outputs": [],
   "source": [
    "# Train setup\n",
    "X_train = pd_train.drop('Survived', axis=1)\n",
    "X_valid = pd_valid.drop('Survived', axis=1)\n",
    "y_train = pd_train.Survived\n",
    "y_valid = pd_valid.Survived\n",
    "\n",
    "clf = xgb.XGBClassifier(\n",
    "    n_estimators=500,\n",
    "    max_depth=5,\n",
    "    learning_rate=0.05,\n",
    "    subsample=0.9,\n",
    "    colsample_bytree=0.7,\n",
    "    reg_lambda=1,\n",
    "    random_state=3,\n",
    "    tree_method='hist',\n",
    "    use_label_encoder=False)"
   ]
  },
  {
   "cell_type": "code",
   "execution_count": 14,
   "metadata": {
    "scrolled": true
   },
   "outputs": [
    {
     "name": "stdout",
     "output_type": "stream",
     "text": [
      "[0]\tvalidation_0-logloss:0.67560\tvalidation_0-error:0.22873\tvalidation_1-logloss:0.67583\tvalidation_1-error:0.23070\n",
      "[25]\tvalidation_0-logloss:0.51102\tvalidation_0-error:0.22586\tvalidation_1-logloss:0.51505\tvalidation_1-error:0.22930\n",
      "[50]\tvalidation_0-logloss:0.48542\tvalidation_0-error:0.22430\tvalidation_1-logloss:0.49180\tvalidation_1-error:0.22795\n",
      "[75]\tvalidation_0-logloss:0.47935\tvalidation_0-error:0.22296\tvalidation_1-logloss:0.48730\tvalidation_1-error:0.22695\n",
      "[100]\tvalidation_0-logloss:0.47683\tvalidation_0-error:0.22187\tvalidation_1-logloss:0.48590\tvalidation_1-error:0.22685\n",
      "[125]\tvalidation_0-logloss:0.47497\tvalidation_0-error:0.22059\tvalidation_1-logloss:0.48501\tvalidation_1-error:0.22725\n",
      "[150]\tvalidation_0-logloss:0.47365\tvalidation_0-error:0.21993\tvalidation_1-logloss:0.48468\tvalidation_1-error:0.22750\n",
      "[175]\tvalidation_0-logloss:0.47259\tvalidation_0-error:0.21923\tvalidation_1-logloss:0.48437\tvalidation_1-error:0.22750\n",
      "[200]\tvalidation_0-logloss:0.47178\tvalidation_0-error:0.21874\tvalidation_1-logloss:0.48419\tvalidation_1-error:0.22710\n",
      "[225]\tvalidation_0-logloss:0.47087\tvalidation_0-error:0.21860\tvalidation_1-logloss:0.48408\tvalidation_1-error:0.22720\n",
      "[250]\tvalidation_0-logloss:0.47009\tvalidation_0-error:0.21826\tvalidation_1-logloss:0.48390\tvalidation_1-error:0.22750\n",
      "[275]\tvalidation_0-logloss:0.46919\tvalidation_0-error:0.21775\tvalidation_1-logloss:0.48388\tvalidation_1-error:0.22690\n",
      "[300]\tvalidation_0-logloss:0.46848\tvalidation_0-error:0.21723\tvalidation_1-logloss:0.48382\tvalidation_1-error:0.22700\n",
      "[325]\tvalidation_0-logloss:0.46772\tvalidation_0-error:0.21699\tvalidation_1-logloss:0.48377\tvalidation_1-error:0.22690\n",
      "[350]\tvalidation_0-logloss:0.46705\tvalidation_0-error:0.21663\tvalidation_1-logloss:0.48384\tvalidation_1-error:0.22710\n",
      "[375]\tvalidation_0-logloss:0.46633\tvalidation_0-error:0.21614\tvalidation_1-logloss:0.48392\tvalidation_1-error:0.22670\n",
      "[400]\tvalidation_0-logloss:0.46563\tvalidation_0-error:0.21569\tvalidation_1-logloss:0.48394\tvalidation_1-error:0.22660\n",
      "[425]\tvalidation_0-logloss:0.46485\tvalidation_0-error:0.21532\tvalidation_1-logloss:0.48392\tvalidation_1-error:0.22615\n",
      "[450]\tvalidation_0-logloss:0.46419\tvalidation_0-error:0.21484\tvalidation_1-logloss:0.48393\tvalidation_1-error:0.22645\n",
      "[475]\tvalidation_0-logloss:0.46348\tvalidation_0-error:0.21435\tvalidation_1-logloss:0.48402\tvalidation_1-error:0.22665\n",
      "[499]\tvalidation_0-logloss:0.46289\tvalidation_0-error:0.21374\tvalidation_1-logloss:0.48406\tvalidation_1-error:0.22665\n",
      "CPU times: user 28.6 s, sys: 517 ms, total: 29.1 s\n",
      "Wall time: 3.66 s\n"
     ]
    },
    {
     "data": {
      "text/plain": [
       "XGBClassifier(base_score=0.5, booster='gbtree', colsample_bylevel=1,\n",
       "              colsample_bynode=1, colsample_bytree=0.7, gamma=0, gpu_id=-1,\n",
       "              importance_type='gain', interaction_constraints='',\n",
       "              learning_rate=0.05, max_delta_step=0, max_depth=5,\n",
       "              min_child_weight=1, missing=nan, monotone_constraints='()',\n",
       "              n_estimators=500, n_jobs=8, num_parallel_tree=1,\n",
       "              objective='binary:logistic', random_state=3, reg_alpha=0,\n",
       "              reg_lambda=1, scale_pos_weight=1, subsample=0.9,\n",
       "              tree_method='hist', use_label_encoder=False,\n",
       "              validate_parameters=1, verbosity=None)"
      ]
     },
     "execution_count": 14,
     "metadata": {},
     "output_type": "execute_result"
    }
   ],
   "source": [
    "%%time\n",
    "clf.fit(\n",
    "    X=X_train, \n",
    "    y=y_train, \n",
    "    verbose=False,\n",
    "    eval_metric=['logloss', 'error'],\n",
    "    eval_set=[(X_train, y_train), (X_valid, y_valid)],\n",
    "    callbacks=[EvaluationMonitor(period=25)])"
   ]
  },
  {
   "cell_type": "markdown",
   "metadata": {},
   "source": [
    "# Evaluate Model"
   ]
  },
  {
   "cell_type": "code",
   "execution_count": 15,
   "metadata": {},
   "outputs": [
    {
     "data": {
      "image/png": "[encoded data removed]",
      "text/plain": [
       "<Figure size 432x288 with 1 Axes>"
      ]
     },
     "metadata": {
      "needs_background": "light"
     },
     "output_type": "display_data"
    },
    {
     "name": "stdout",
     "output_type": "stream",
     "text": [
      "Minimum: 0.48376 (n_trees=324)\n"
     ]
    }
   ],
   "source": [
    "train_logloss = clf.evals_result()['validation_0']['logloss']\n",
    "valid_logloss = clf.evals_result()['validation_1']['logloss']\n",
    "plt.plot(train_logloss)\n",
    "plt.plot(valid_logloss)\n",
    "plt.title(\"Logloss\")\n",
    "plt.show()\n",
    "\n",
    "srs_valid = pd.Series(valid_logloss)\n",
    "print(\"Minimum: {} (n_trees={})\".format(\n",
    "    srs_valid[srs_valid.idxmin()], srs_valid.idxmin() + 1))"
   ]
  },
  {
   "cell_type": "code",
   "execution_count": 16,
   "metadata": {},
   "outputs": [
    {
     "data": {
      "image/png": "[encoded data removed]",
      "text/plain": [
       "<Figure size 432x288 with 1 Axes>"
      ]
     },
     "metadata": {
      "needs_background": "light"
     },
     "output_type": "display_data"
    },
    {
     "name": "stdout",
     "output_type": "stream",
     "text": [
      "Minimum: 0.2259 (n_trees=432)\n"
     ]
    }
   ],
   "source": [
    "train_error = clf.evals_result()['validation_0']['error']\n",
    "valid_error = clf.evals_result()['validation_1']['error']\n",
    "plt.plot(train_error)\n",
    "plt.plot(valid_error)\n",
    "plt.title(\"Error\")\n",
    "plt.show()\n",
    "\n",
    "srs_valid = pd.Series(valid_error)\n",
    "print(\"Minimum: {} (n_trees={})\".format(\n",
    "    srs_valid[srs_valid.idxmin()], srs_valid.idxmin() + 1))"
   ]
  },
  {
   "cell_type": "markdown",
   "metadata": {},
   "source": [
    "# Create Submission"
   ]
  },
  {
   "cell_type": "code",
   "execution_count": 17,
   "metadata": {},
   "outputs": [],
   "source": [
    "# Update parameters\n",
    "best_n_estimators = 189\n",
    "clf = clf.set_params(**{'n_estimators': best_n_estimators})"
   ]
  },
  {
   "cell_type": "code",
   "execution_count": 18,
   "metadata": {
    "scrolled": true
   },
   "outputs": [
    {
     "name": "stdout",
     "output_type": "stream",
     "text": [
      "[0]\tvalidation_0-logloss:0.67568\tvalidation_0-error:0.22915\n",
      "[25]\tvalidation_0-logloss:0.51189\tvalidation_0-error:0.22665\n",
      "[50]\tvalidation_0-logloss:0.48656\tvalidation_0-error:0.22502\n",
      "[75]\tvalidation_0-logloss:0.48067\tvalidation_0-error:0.22370\n",
      "[100]\tvalidation_0-logloss:0.47836\tvalidation_0-error:0.22247\n",
      "[125]\tvalidation_0-logloss:0.47662\tvalidation_0-error:0.22146\n",
      "[150]\tvalidation_0-logloss:0.47536\tvalidation_0-error:0.22106\n",
      "[175]\tvalidation_0-logloss:0.47418\tvalidation_0-error:0.22005\n",
      "[188]\tvalidation_0-logloss:0.47384\tvalidation_0-error:0.21970\n",
      "CPU times: user 12.7 s, sys: 291 ms, total: 13 s\n",
      "Wall time: 1.67 s\n"
     ]
    },
    {
     "data": {
      "text/plain": [
       "XGBClassifier(base_score=0.5, booster='gbtree', colsample_bylevel=1,\n",
       "              colsample_bynode=1, colsample_bytree=0.7, gamma=0, gpu_id=-1,\n",
       "              importance_type='gain', interaction_constraints='',\n",
       "              learning_rate=0.05, max_delta_step=0, max_depth=5,\n",
       "              min_child_weight=1, missing=nan, monotone_constraints='()',\n",
       "              n_estimators=189, n_jobs=8, num_parallel_tree=1,\n",
       "              objective='binary:logistic', random_state=3, reg_alpha=0,\n",
       "              reg_lambda=1, scale_pos_weight=1, subsample=0.9,\n",
       "              tree_method='hist', use_label_encoder=False,\n",
       "              validate_parameters=1, verbosity=None)"
      ]
     },
     "execution_count": 18,
     "metadata": {},
     "output_type": "execute_result"
    }
   ],
   "source": [
    "%%time\n",
    "X = pd.concat([X_train, X_valid])\n",
    "y = y_train.append(y_valid)\n",
    "\n",
    "clf.fit(\n",
    "    X=X, \n",
    "    y=y, \n",
    "    verbose=False,\n",
    "    eval_metric=['logloss', 'error'],\n",
    "    eval_set=[(X, y)],\n",
    "    callbacks=[EvaluationMonitor(period=25)])"
   ]
  },
  {
   "cell_type": "code",
   "execution_count": 28,
   "metadata": {},
   "outputs": [],
   "source": [
    "# Create sumbission dataset\n",
    "predictions = clf.predict(pd_model_test)\n",
    "pd_submission = (pd_sample_submission\n",
    "    .drop('Survived', axis=1)\n",
    "    .assign(Survived=predictions))\n",
    "pd_submission.to_csv('./submissions/2.0-modelling-xgboost.csv', index=False)"
   ]
  },
  {
   "cell_type": "code",
   "execution_count": 104,
   "metadata": {},
   "outputs": [
    {
     "name": "stdout",
     "output_type": "stream",
     "text": [
      "/bin/sh: 1: kaggle: not found\n"
     ]
    }
   ],
   "source": [
    "# Submit\n",
    "#!kaggle competitions submit -c tabular-playground-series-apr-2021 -f 2.0-modelling-xgboost-sub.csv.csv -m \"2.0-modellng-xgboost-sub\""
   ]
  },
  {
   "cell_type": "code",
   "execution_count": null,
   "metadata": {},
   "outputs": [],
   "source": []
  }
 ],
 "metadata": {
  "instance_type": "ml.m5.2xlarge",
  "kernelspec": {
   "display_name": "Python 3 (Data Science)",
   "language": "python",
   "name": "python3__SAGEMAKER_INTERNAL__arn:aws:sagemaker:us-west-2:236514542706:image/datascience-1.0"
  },
  "language_info": {
   "codemirror_mode": {
    "name": "ipython",
    "version": 3
   },
   "file_extension": ".py",
   "mimetype": "text/x-python",
   "name": "python",
   "nbconvert_exporter": "python",
   "pygments_lexer": "ipython3",
   "version": "3.7.10"
  }
 },
 "nbformat": 4,
 "nbformat_minor": 4
}
