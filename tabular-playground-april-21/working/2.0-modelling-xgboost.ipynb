{
 "cells": [
  {
   "cell_type": "markdown",
   "metadata": {},
   "source": [
    "# Setup"
   ]
  },
  {
   "cell_type": "code",
   "execution_count": 2,
   "metadata": {},
   "outputs": [],
   "source": [
    "!pip install xgboost > /dev/null"
   ]
  },
  {
   "cell_type": "code",
   "execution_count": 3,
   "metadata": {},
   "outputs": [],
   "source": [
    "import matplotlib.pyplot as plt\n",
    "import numpy as np\n",
    "import pandas as pd\n",
    "import time\n",
    "import xgboost as xgb\n",
    "\n",
    "from xgboost.callback import EvaluationMonitor"
   ]
  },
  {
   "cell_type": "code",
   "execution_count": 5,
   "metadata": {},
   "outputs": [],
   "source": [
    "pd_clean_train = pd.read_csv(\"./data/clean/train.csv\", index_col='PassengerId')\n",
    "pd_clean_test = pd.read_csv(\"./data/clean/test.csv\", index_col='PassengerId')\n",
    "pd_sample_submission = pd.read_csv(\"../input/sample_submission.csv\")"
   ]
  },
  {
   "cell_type": "code",
   "execution_count": 86,
   "metadata": {},
   "outputs": [
    {
     "name": "stdout",
     "output_type": "stream",
     "text": [
      "<class 'pandas.core.frame.DataFrame'>\n",
      "Int64Index: 100000 entries, 0 to 99999\n",
      "Data columns (total 8 columns):\n",
      " #   Column    Non-Null Count   Dtype  \n",
      "---  ------    --------------   -----  \n",
      " 0   Pclass    100000 non-null  int64  \n",
      " 1   Sex       100000 non-null  object \n",
      " 2   Age       96708 non-null   float64\n",
      " 3   SibSp     100000 non-null  int64  \n",
      " 4   Parch     100000 non-null  int64  \n",
      " 5   Fare      99866 non-null   float64\n",
      " 6   Embarked  99750 non-null   object \n",
      " 7   Survived  100000 non-null  int64  \n",
      "dtypes: float64(2), int64(4), object(2)\n",
      "memory usage: 6.9+ MB\n"
     ]
    },
    {
     "data": {
      "text/html": [
       "<div>\n",
       "<style scoped>\n",
       "    .dataframe tbody tr th:only-of-type {\n",
       "        vertical-align: middle;\n",
       "    }\n",
       "\n",
       "    .dataframe tbody tr th {\n",
       "        vertical-align: top;\n",
       "    }\n",
       "\n",
       "    .dataframe thead th {\n",
       "        text-align: right;\n",
       "    }\n",
       "</style>\n",
       "<table border=\"1\" class=\"dataframe\">\n",
       "  <thead>\n",
       "    <tr style=\"text-align: right;\">\n",
       "      <th></th>\n",
       "      <th>Pclass</th>\n",
       "      <th>Sex</th>\n",
       "      <th>Age</th>\n",
       "      <th>SibSp</th>\n",
       "      <th>Parch</th>\n",
       "      <th>Fare</th>\n",
       "      <th>Embarked</th>\n",
       "      <th>Survived</th>\n",
       "    </tr>\n",
       "    <tr>\n",
       "      <th>PassengerId</th>\n",
       "      <th></th>\n",
       "      <th></th>\n",
       "      <th></th>\n",
       "      <th></th>\n",
       "      <th></th>\n",
       "      <th></th>\n",
       "      <th></th>\n",
       "      <th></th>\n",
       "    </tr>\n",
       "  </thead>\n",
       "  <tbody>\n",
       "    <tr>\n",
       "      <th>0</th>\n",
       "      <td>1</td>\n",
       "      <td>male</td>\n",
       "      <td>NaN</td>\n",
       "      <td>2</td>\n",
       "      <td>0</td>\n",
       "      <td>27.14</td>\n",
       "      <td>S</td>\n",
       "      <td>1</td>\n",
       "    </tr>\n",
       "  </tbody>\n",
       "</table>\n",
       "</div>"
      ],
      "text/plain": [
       "             Pclass   Sex  Age  SibSp  Parch   Fare Embarked  Survived\n",
       "PassengerId                                                           \n",
       "0                 1  male  NaN      2      0  27.14        S         1"
      ]
     },
     "execution_count": 86,
     "metadata": {},
     "output_type": "execute_result"
    }
   ],
   "source": [
    "pd_clean_train.info()\n",
    "pd_clean_train.head(1)"
   ]
  },
  {
   "cell_type": "markdown",
   "metadata": {},
   "source": [
    "# Create Modeling Datasets"
   ]
  },
  {
   "cell_type": "code",
   "execution_count": 87,
   "metadata": {},
   "outputs": [],
   "source": [
    "def format_dataset(pd_df):\n",
    "    dataset_cols = [\n",
    "        'Pclass',\n",
    "        'Sex',\n",
    "        'Age',\n",
    "        'SibSp',\n",
    "        'Parch',\n",
    "        'Fare',\n",
    "        'Embarked',\n",
    "        'Survived']\n",
    "    \n",
    "    return pd_df.loc[:, [col for col in dataset_cols if col in pd_df.columns]]\n",
    "\n",
    "\n",
    "def one_hot_encode(pd_df):\n",
    "    pd_df = pd.get_dummies(pd_df, columns=['Sex', 'Embarked'], dummy_na=True)\n",
    "    pd_df = pd_df.drop('Sex_nan', axis=1)  # no null values exist in training or test set\n",
    "    \n",
    "    return pd_df"
   ]
  },
  {
   "cell_type": "code",
   "execution_count": 88,
   "metadata": {},
   "outputs": [],
   "source": [
    "pd_model_train = (pd_clean_train\n",
    "    .pipe(format_dataset)\n",
    "    .pipe(one_hot_encode))\n",
    "pd_model_test = (pd_clean_test\n",
    "    .pipe(format_dataset)\n",
    "    .pipe(one_hot_encode))"
   ]
  },
  {
   "cell_type": "code",
   "execution_count": 89,
   "metadata": {},
   "outputs": [
    {
     "data": {
      "text/html": [
       "<div>\n",
       "<style scoped>\n",
       "    .dataframe tbody tr th:only-of-type {\n",
       "        vertical-align: middle;\n",
       "    }\n",
       "\n",
       "    .dataframe tbody tr th {\n",
       "        vertical-align: top;\n",
       "    }\n",
       "\n",
       "    .dataframe thead th {\n",
       "        text-align: right;\n",
       "    }\n",
       "</style>\n",
       "<table border=\"1\" class=\"dataframe\">\n",
       "  <thead>\n",
       "    <tr style=\"text-align: right;\">\n",
       "      <th></th>\n",
       "      <th>Pclass</th>\n",
       "      <th>Age</th>\n",
       "      <th>SibSp</th>\n",
       "      <th>Parch</th>\n",
       "      <th>Fare</th>\n",
       "      <th>Survived</th>\n",
       "      <th>Sex_female</th>\n",
       "      <th>Sex_male</th>\n",
       "      <th>Embarked_C</th>\n",
       "      <th>Embarked_Q</th>\n",
       "      <th>Embarked_S</th>\n",
       "      <th>Embarked_nan</th>\n",
       "    </tr>\n",
       "    <tr>\n",
       "      <th>PassengerId</th>\n",
       "      <th></th>\n",
       "      <th></th>\n",
       "      <th></th>\n",
       "      <th></th>\n",
       "      <th></th>\n",
       "      <th></th>\n",
       "      <th></th>\n",
       "      <th></th>\n",
       "      <th></th>\n",
       "      <th></th>\n",
       "      <th></th>\n",
       "      <th></th>\n",
       "    </tr>\n",
       "  </thead>\n",
       "  <tbody>\n",
       "    <tr>\n",
       "      <th>0</th>\n",
       "      <td>1</td>\n",
       "      <td>NaN</td>\n",
       "      <td>2</td>\n",
       "      <td>0</td>\n",
       "      <td>27.14</td>\n",
       "      <td>1</td>\n",
       "      <td>0</td>\n",
       "      <td>1</td>\n",
       "      <td>0</td>\n",
       "      <td>0</td>\n",
       "      <td>1</td>\n",
       "      <td>0</td>\n",
       "    </tr>\n",
       "  </tbody>\n",
       "</table>\n",
       "</div>"
      ],
      "text/plain": [
       "             Pclass  Age  SibSp  Parch   Fare  Survived  Sex_female  Sex_male  \\\n",
       "PassengerId                                                                     \n",
       "0                 1  NaN      2      0  27.14         1           0         1   \n",
       "\n",
       "             Embarked_C  Embarked_Q  Embarked_S  Embarked_nan  \n",
       "PassengerId                                                    \n",
       "0                     0           0           1             0  "
      ]
     },
     "execution_count": 89,
     "metadata": {},
     "output_type": "execute_result"
    }
   ],
   "source": [
    "pd_model.head(1)"
   ]
  },
  {
   "cell_type": "markdown",
   "metadata": {},
   "source": [
    "# Train-Validation Split"
   ]
  },
  {
   "cell_type": "code",
   "execution_count": null,
   "metadata": {},
   "outputs": [],
   "source": [
    "pd_train = pd_model_train.sample(frac = 0.8, random_state=3)\n",
    "pd_valid = pd_model_train.drop(pd_train.index)"
   ]
  },
  {
   "cell_type": "markdown",
   "metadata": {},
   "source": [
    "# Train Model"
   ]
  },
  {
   "cell_type": "code",
   "execution_count": 56,
   "metadata": {},
   "outputs": [],
   "source": [
    "# Train setup\n",
    "X_train = pd_train.drop('Survived', axis=1)\n",
    "X_valid = pd_valid.drop('Survived', axis=1)\n",
    "y_train = pd_train.Survived\n",
    "y_valid = pd_valid.Survived\n",
    "\n",
    "clf = xgb.XGBClassifier(\n",
    "    n_estimators=200,\n",
    "    max_depth=5,\n",
    "    learning_rate=0.05,\n",
    "    subsample=0.9,\n",
    "    colsample_bytree=0.7,\n",
    "    reg_lambda=1,\n",
    "    random_state=3,\n",
    "    tree_method='hist',\n",
    "    use_label_encoder=False)"
   ]
  },
  {
   "cell_type": "code",
   "execution_count": 57,
   "metadata": {
    "scrolled": true
   },
   "outputs": [
    {
     "name": "stdout",
     "output_type": "stream",
     "text": [
      "[0]\tvalidation_0-logloss:0.67615\tvalidation_0-error:0.23266\tvalidation_1-logloss:0.67641\tvalidation_1-error:0.23860\n",
      "[25]\tvalidation_0-logloss:0.51171\tvalidation_0-error:0.22796\tvalidation_1-logloss:0.51639\tvalidation_1-error:0.23530\n",
      "[50]\tvalidation_0-logloss:0.48713\tvalidation_0-error:0.22581\tvalidation_1-logloss:0.49385\tvalidation_1-error:0.23075\n",
      "[75]\tvalidation_0-logloss:0.48159\tvalidation_0-error:0.22461\tvalidation_1-logloss:0.49009\tvalidation_1-error:0.23060\n",
      "[100]\tvalidation_0-logloss:0.47917\tvalidation_0-error:0.22373\tvalidation_1-logloss:0.48881\tvalidation_1-error:0.23060\n",
      "[125]\tvalidation_0-logloss:0.47742\tvalidation_0-error:0.22319\tvalidation_1-logloss:0.48842\tvalidation_1-error:0.23025\n",
      "[150]\tvalidation_0-logloss:0.47632\tvalidation_0-error:0.22271\tvalidation_1-logloss:0.48824\tvalidation_1-error:0.22965\n",
      "[175]\tvalidation_0-logloss:0.47533\tvalidation_0-error:0.22195\tvalidation_1-logloss:0.48821\tvalidation_1-error:0.22935\n",
      "[199]\tvalidation_0-logloss:0.47439\tvalidation_0-error:0.22096\tvalidation_1-logloss:0.48818\tvalidation_1-error:0.22915\n",
      "CPU times: user 9.56 s, sys: 93.8 ms, total: 9.65 s\n",
      "Wall time: 1.24 s\n"
     ]
    },
    {
     "data": {
      "text/plain": [
       "XGBClassifier(base_score=0.5, booster='gbtree', colsample_bylevel=1,\n",
       "              colsample_bynode=1, colsample_bytree=0.7, gamma=0, gpu_id=-1,\n",
       "              importance_type='gain', interaction_constraints='',\n",
       "              learning_rate=0.05, max_delta_step=0, max_depth=5,\n",
       "              min_child_weight=1, missing=nan, monotone_constraints='()',\n",
       "              n_estimators=200, n_jobs=8, num_parallel_tree=1,\n",
       "              objective='binary:logistic', random_state=3, reg_alpha=0,\n",
       "              reg_lambda=1, scale_pos_weight=1, subsample=0.9,\n",
       "              tree_method='hist', use_label_encoder=False,\n",
       "              validate_parameters=1, verbosity=None)"
      ]
     },
     "execution_count": 57,
     "metadata": {},
     "output_type": "execute_result"
    }
   ],
   "source": [
    "%%time\n",
    "clf.fit(\n",
    "    X=X_train, \n",
    "    y=y_train, \n",
    "    verbose=False,\n",
    "    eval_metric=['logloss', 'error'],\n",
    "    eval_set=[(X_train, y_train), (X_valid, y_valid)],\n",
    "    callbacks=[EvaluationMonitor(period=25)])"
   ]
  },
  {
   "cell_type": "markdown",
   "metadata": {},
   "source": [
    "# Evaluate Model"
   ]
  },
  {
   "cell_type": "code",
   "execution_count": 58,
   "metadata": {},
   "outputs": [
    {
     "data": {
      "image/png": "[encoded data removed]",
      "text/plain": [
       "<Figure size 432x288 with 1 Axes>"
      ]
     },
     "metadata": {
      "needs_background": "light"
     },
     "output_type": "display_data"
    },
    {
     "name": "stdout",
     "output_type": "stream",
     "text": [
      "Minimum: 0.488126 (n_trees=186)\n"
     ]
    }
   ],
   "source": [
    "train_logloss = clf.evals_result()['validation_0']['logloss']\n",
    "valid_logloss = clf.evals_result()['validation_1']['logloss']\n",
    "plt.plot(train_logloss)\n",
    "plt.plot(valid_logloss)\n",
    "plt.title(\"Logloss\")\n",
    "plt.show()\n",
    "\n",
    "srs_valid = pd.Series(valid_logloss)\n",
    "print(\"Minimum: {} (n_trees={})\".format(\n",
    "    srs_valid[srs_valid.idxmin()], srs_valid.idxmin() + 1))"
   ]
  },
  {
   "cell_type": "code",
   "execution_count": 59,
   "metadata": {},
   "outputs": [
    {
     "data": {
      "image/png": "[encoded data removed]",
      "text/plain": [
       "<Figure size 432x288 with 1 Axes>"
      ]
     },
     "metadata": {
      "needs_background": "light"
     },
     "output_type": "display_data"
    },
    {
     "name": "stdout",
     "output_type": "stream",
     "text": [
      "Minimum: 0.2289 (n_trees=189)\n"
     ]
    }
   ],
   "source": [
    "train_error = clf.evals_result()['validation_0']['error']\n",
    "valid_error = clf.evals_result()['validation_1']['error']\n",
    "plt.plot(train_error)\n",
    "plt.plot(valid_error)\n",
    "plt.title(\"Error\")\n",
    "plt.show()\n",
    "\n",
    "srs_valid = pd.Series(valid_error)\n",
    "print(\"Minimum: {} (n_trees={})\".format(\n",
    "    srs_valid[srs_valid.idxmin()], srs_valid.idxmin() + 1))"
   ]
  },
  {
   "cell_type": "markdown",
   "metadata": {},
   "source": [
    "# Create Submission"
   ]
  },
  {
   "cell_type": "code",
   "execution_count": 70,
   "metadata": {},
   "outputs": [],
   "source": [
    "# Update parameters\n",
    "best_n_estimators = 189\n",
    "clf = clf.set_params(**{'n_estimators': best_n_estimators})"
   ]
  },
  {
   "cell_type": "code",
   "execution_count": 80,
   "metadata": {
    "scrolled": true
   },
   "outputs": [
    {
     "name": "stdout",
     "output_type": "stream",
     "text": [
      "[0]\tvalidation_0-logloss:0.67624\tvalidation_0-error:0.23511\n",
      "[25]\tvalidation_0-logloss:0.51284\tvalidation_0-error:0.22861\n",
      "[50]\tvalidation_0-logloss:0.48848\tvalidation_0-error:0.22684\n",
      "[75]\tvalidation_0-logloss:0.48322\tvalidation_0-error:0.22579\n",
      "[100]\tvalidation_0-logloss:0.48114\tvalidation_0-error:0.22487\n",
      "[125]\tvalidation_0-logloss:0.47969\tvalidation_0-error:0.22434\n",
      "[150]\tvalidation_0-logloss:0.47867\tvalidation_0-error:0.22369\n",
      "[175]\tvalidation_0-logloss:0.47776\tvalidation_0-error:0.22329\n",
      "[188]\tvalidation_0-logloss:0.47731\tvalidation_0-error:0.22275\n",
      "CPU times: user 10.1 s, sys: 79.3 ms, total: 10.2 s\n",
      "Wall time: 1.29 s\n"
     ]
    },
    {
     "data": {
      "text/plain": [
       "XGBClassifier(base_score=0.5, booster='gbtree', colsample_bylevel=1,\n",
       "              colsample_bynode=1, colsample_bytree=0.7, gamma=0, gpu_id=-1,\n",
       "              importance_type='gain', interaction_constraints='',\n",
       "              learning_rate=0.05, max_delta_step=0, max_depth=5,\n",
       "              min_child_weight=1, missing=nan, monotone_constraints='()',\n",
       "              n_estimators=189, n_jobs=8, num_parallel_tree=1,\n",
       "              objective='binary:logistic', random_state=3, reg_alpha=0,\n",
       "              reg_lambda=1, scale_pos_weight=1, subsample=0.9,\n",
       "              tree_method='hist', use_label_encoder=False,\n",
       "              validate_parameters=1, verbosity=None)"
      ]
     },
     "execution_count": 80,
     "metadata": {},
     "output_type": "execute_result"
    }
   ],
   "source": [
    "%%time\n",
    "X = pd.concat([X_train, X_valid])\n",
    "y = y_train.append(y_valid)\n",
    "\n",
    "clf.fit(\n",
    "    X=X, \n",
    "    y=y, \n",
    "    verbose=False,\n",
    "    eval_metric=['logloss', 'error'],\n",
    "    eval_set=[(X, y)],\n",
    "    callbacks=[EvaluationMonitor(period=25)])"
   ]
  },
  {
   "cell_type": "code",
   "execution_count": 102,
   "metadata": {},
   "outputs": [],
   "source": [
    "# Create sumbission dataset\n",
    "predictions = clf.predict(pd_model_test)\n",
    "pd_submission = pd_sample_submission.assign(Survived=predictions)\n",
    "pd_submission.to_csv('./submissions/2.0-modelling-xgboost.csv', index=False)"
   ]
  },
  {
   "cell_type": "code",
   "execution_count": 104,
   "metadata": {},
   "outputs": [
    {
     "name": "stdout",
     "output_type": "stream",
     "text": [
      "/bin/sh: 1: kaggle: not found\n"
     ]
    }
   ],
   "source": [
    "# Submit\n",
    "#!kaggle competitions submit -c tabular-playground-series-apr-2021 -f 2.0-modelling-xgboost-sub.csv.csv -m \"2.0-modellng-xgboost-sub\""
   ]
  },
  {
   "cell_type": "code",
   "execution_count": null,
   "metadata": {},
   "outputs": [],
   "source": []
  }
 ],
 "metadata": {
  "instance_type": "ml.m5.2xlarge",
  "kernelspec": {
   "display_name": "Python 3 (Data Science)",
   "language": "python",
   "name": "python3__SAGEMAKER_INTERNAL__arn:aws:sagemaker:us-west-2:236514542706:image/datascience-1.0"
  },
  "language_info": {
   "codemirror_mode": {
    "name": "ipython",
    "version": 3
   },
   "file_extension": ".py",
   "mimetype": "text/x-python",
   "name": "python",
   "nbconvert_exporter": "python",
   "pygments_lexer": "ipython3",
   "version": "3.7.10"
  }
 },
 "nbformat": 4,
 "nbformat_minor": 4
}
