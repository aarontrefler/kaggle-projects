{
 "cells": [
  {
   "cell_type": "markdown",
   "metadata": {},
   "source": [
    "# Setup"
   ]
  },
  {
   "cell_type": "code",
   "execution_count": 1,
   "metadata": {},
   "outputs": [
    {
     "name": "stdout",
     "output_type": "stream",
     "text": [
      "/opt/conda/lib/python3.7/site-packages/secretstorage/dhcrypto.py:16: CryptographyDeprecationWarning: int_from_bytes is deprecated, use int.from_bytes instead\n",
      "  from cryptography.utils import int_from_bytes\n",
      "/opt/conda/lib/python3.7/site-packages/secretstorage/util.py:25: CryptographyDeprecationWarning: int_from_bytes is deprecated, use int.from_bytes instead\n",
      "  from cryptography.utils import int_from_bytes\n"
     ]
    }
   ],
   "source": [
    "!pip install xgboost > /dev/null\n",
    "!pip install kaggle > /dev/null"
   ]
  },
  {
   "cell_type": "code",
   "execution_count": 2,
   "metadata": {},
   "outputs": [],
   "source": [
    "import matplotlib.pyplot as plt\n",
    "import numpy as np\n",
    "import pandas as pd\n",
    "import time\n",
    "import xgboost as xgb\n",
    "\n",
    "from xgboost.callback import EvaluationMonitor"
   ]
  },
  {
   "cell_type": "code",
   "execution_count": 3,
   "metadata": {},
   "outputs": [],
   "source": [
    "pd_clean_train = pd.read_csv(\"./data/clean/train.csv\", index_col='PassengerId')\n",
    "pd_clean_test = pd.read_csv(\"./data/clean/test.csv\", index_col='PassengerId')\n",
    "pd_sample_submission = pd.read_csv(\"../input/sample_submission.csv\")"
   ]
  },
  {
   "cell_type": "code",
   "execution_count": 4,
   "metadata": {},
   "outputs": [
    {
     "name": "stdout",
     "output_type": "stream",
     "text": [
      "<class 'pandas.core.frame.DataFrame'>\n",
      "Int64Index: 100000 entries, 0 to 99999\n",
      "Data columns (total 16 columns):\n",
      " #   Column       Non-Null Count   Dtype  \n",
      "---  ------       --------------   -----  \n",
      " 0   Survived     100000 non-null  int64  \n",
      " 1   Pclass       100000 non-null  int64  \n",
      " 2   Name         100000 non-null  object \n",
      " 3   Sex          100000 non-null  object \n",
      " 4   Age          96708 non-null   float64\n",
      " 5   SibSp        100000 non-null  int64  \n",
      " 6   Parch        100000 non-null  int64  \n",
      " 7   Ticket       95377 non-null   object \n",
      " 8   Fare         99866 non-null   float64\n",
      " 9   Cabin        32134 non-null   object \n",
      " 10  Embarked     99750 non-null   object \n",
      " 11  family       100000 non-null  int64  \n",
      " 12  ticket_type  24655 non-null   object \n",
      " 13  ticket_num   94704 non-null   float64\n",
      " 14  cabin_id     100000 non-null  object \n",
      " 15  surname      100000 non-null  object \n",
      "dtypes: float64(3), int64(5), object(8)\n",
      "memory usage: 13.0+ MB\n"
     ]
    },
    {
     "data": {
      "text/html": [
       "<div>\n",
       "<style scoped>\n",
       "    .dataframe tbody tr th:only-of-type {\n",
       "        vertical-align: middle;\n",
       "    }\n",
       "\n",
       "    .dataframe tbody tr th {\n",
       "        vertical-align: top;\n",
       "    }\n",
       "\n",
       "    .dataframe thead th {\n",
       "        text-align: right;\n",
       "    }\n",
       "</style>\n",
       "<table border=\"1\" class=\"dataframe\">\n",
       "  <thead>\n",
       "    <tr style=\"text-align: right;\">\n",
       "      <th></th>\n",
       "      <th>Survived</th>\n",
       "      <th>Pclass</th>\n",
       "      <th>Name</th>\n",
       "      <th>Sex</th>\n",
       "      <th>Age</th>\n",
       "      <th>SibSp</th>\n",
       "      <th>Parch</th>\n",
       "      <th>Ticket</th>\n",
       "      <th>Fare</th>\n",
       "      <th>Cabin</th>\n",
       "      <th>Embarked</th>\n",
       "      <th>family</th>\n",
       "      <th>ticket_type</th>\n",
       "      <th>ticket_num</th>\n",
       "      <th>cabin_id</th>\n",
       "      <th>surname</th>\n",
       "    </tr>\n",
       "    <tr>\n",
       "      <th>PassengerId</th>\n",
       "      <th></th>\n",
       "      <th></th>\n",
       "      <th></th>\n",
       "      <th></th>\n",
       "      <th></th>\n",
       "      <th></th>\n",
       "      <th></th>\n",
       "      <th></th>\n",
       "      <th></th>\n",
       "      <th></th>\n",
       "      <th></th>\n",
       "      <th></th>\n",
       "      <th></th>\n",
       "      <th></th>\n",
       "      <th></th>\n",
       "      <th></th>\n",
       "    </tr>\n",
       "  </thead>\n",
       "  <tbody>\n",
       "    <tr>\n",
       "      <th>0</th>\n",
       "      <td>1</td>\n",
       "      <td>1</td>\n",
       "      <td>Oconnor, Frankie</td>\n",
       "      <td>male</td>\n",
       "      <td>NaN</td>\n",
       "      <td>2</td>\n",
       "      <td>0</td>\n",
       "      <td>209245</td>\n",
       "      <td>27.14</td>\n",
       "      <td>C12239</td>\n",
       "      <td>S</td>\n",
       "      <td>2</td>\n",
       "      <td>NaN</td>\n",
       "      <td>209245.0</td>\n",
       "      <td>C</td>\n",
       "      <td>Oconnor</td>\n",
       "    </tr>\n",
       "  </tbody>\n",
       "</table>\n",
       "</div>"
      ],
      "text/plain": [
       "             Survived  Pclass              Name   Sex  Age  SibSp  Parch  \\\n",
       "PassengerId                                                                \n",
       "0                   1       1  Oconnor, Frankie  male  NaN      2      0   \n",
       "\n",
       "             Ticket   Fare   Cabin Embarked  family ticket_type  ticket_num  \\\n",
       "PassengerId                                                                   \n",
       "0            209245  27.14  C12239        S       2         NaN    209245.0   \n",
       "\n",
       "            cabin_id  surname  \n",
       "PassengerId                    \n",
       "0                  C  Oconnor  "
      ]
     },
     "execution_count": 4,
     "metadata": {},
     "output_type": "execute_result"
    }
   ],
   "source": [
    "pd_clean_train.info()\n",
    "pd_clean_train.head(1)"
   ]
  },
  {
   "cell_type": "markdown",
   "metadata": {},
   "source": [
    "# Create Modeling Datasets"
   ]
  },
  {
   "cell_type": "code",
   "execution_count": 13,
   "metadata": {},
   "outputs": [],
   "source": [
    "def format_dataset(pd_df):\n",
    "    dataset_cols = [\n",
    "        'Sex',\n",
    "        'Embarked',\n",
    "        'Pclass',\n",
    "        'Age',\n",
    "        'SibSp',\n",
    "        'Parch',\n",
    "        'Fare',\n",
    "        'family',\n",
    "        'ticket_type',\n",
    "        'cabin_id',\n",
    "        'Survived']\n",
    "    \n",
    "    return pd_df.loc[:, [col for col in dataset_cols if col in pd_df.columns]]\n",
    "\n",
    "\n",
    "def one_hot_encode(pd_df):\n",
    "    pd_df = pd.get_dummies(pd_df, columns=['Sex', 'Embarked', 'ticket_type', 'cabin_id'], dummy_na=True)\n",
    "    pd_df = pd_df.drop('Sex_nan', axis=1)  # no null values exist in training or test set\n",
    "    \n",
    "    return pd_df"
   ]
  },
  {
   "cell_type": "code",
   "execution_count": 14,
   "metadata": {},
   "outputs": [],
   "source": [
    "pd_model_train = (pd_clean_train\n",
    "    .pipe(format_dataset)\n",
    "    .pipe(one_hot_encode))\n",
    "pd_model_test = (pd_clean_test\n",
    "    .pipe(format_dataset)\n",
    "    .pipe(one_hot_encode))"
   ]
  },
  {
   "cell_type": "code",
   "execution_count": 15,
   "metadata": {},
   "outputs": [
    {
     "data": {
      "text/html": [
       "<div>\n",
       "<style scoped>\n",
       "    .dataframe tbody tr th:only-of-type {\n",
       "        vertical-align: middle;\n",
       "    }\n",
       "\n",
       "    .dataframe tbody tr th {\n",
       "        vertical-align: top;\n",
       "    }\n",
       "\n",
       "    .dataframe thead th {\n",
       "        text-align: right;\n",
       "    }\n",
       "</style>\n",
       "<table border=\"1\" class=\"dataframe\">\n",
       "  <thead>\n",
       "    <tr style=\"text-align: right;\">\n",
       "      <th></th>\n",
       "      <th>Pclass</th>\n",
       "      <th>Age</th>\n",
       "      <th>SibSp</th>\n",
       "      <th>Parch</th>\n",
       "      <th>Fare</th>\n",
       "      <th>family</th>\n",
       "      <th>Survived</th>\n",
       "      <th>Sex_female</th>\n",
       "      <th>Sex_male</th>\n",
       "      <th>Embarked_C</th>\n",
       "      <th>...</th>\n",
       "      <th>cabin_id_A</th>\n",
       "      <th>cabin_id_B</th>\n",
       "      <th>cabin_id_C</th>\n",
       "      <th>cabin_id_D</th>\n",
       "      <th>cabin_id_E</th>\n",
       "      <th>cabin_id_F</th>\n",
       "      <th>cabin_id_G</th>\n",
       "      <th>cabin_id_T</th>\n",
       "      <th>cabin_id_n</th>\n",
       "      <th>cabin_id_nan</th>\n",
       "    </tr>\n",
       "    <tr>\n",
       "      <th>PassengerId</th>\n",
       "      <th></th>\n",
       "      <th></th>\n",
       "      <th></th>\n",
       "      <th></th>\n",
       "      <th></th>\n",
       "      <th></th>\n",
       "      <th></th>\n",
       "      <th></th>\n",
       "      <th></th>\n",
       "      <th></th>\n",
       "      <th></th>\n",
       "      <th></th>\n",
       "      <th></th>\n",
       "      <th></th>\n",
       "      <th></th>\n",
       "      <th></th>\n",
       "      <th></th>\n",
       "      <th></th>\n",
       "      <th></th>\n",
       "      <th></th>\n",
       "      <th></th>\n",
       "    </tr>\n",
       "  </thead>\n",
       "  <tbody>\n",
       "    <tr>\n",
       "      <th>0</th>\n",
       "      <td>1</td>\n",
       "      <td>NaN</td>\n",
       "      <td>2</td>\n",
       "      <td>0</td>\n",
       "      <td>27.14</td>\n",
       "      <td>2</td>\n",
       "      <td>1</td>\n",
       "      <td>0</td>\n",
       "      <td>1</td>\n",
       "      <td>0</td>\n",
       "      <td>...</td>\n",
       "      <td>0</td>\n",
       "      <td>0</td>\n",
       "      <td>1</td>\n",
       "      <td>0</td>\n",
       "      <td>0</td>\n",
       "      <td>0</td>\n",
       "      <td>0</td>\n",
       "      <td>0</td>\n",
       "      <td>0</td>\n",
       "      <td>0</td>\n",
       "    </tr>\n",
       "  </tbody>\n",
       "</table>\n",
       "<p>1 rows × 54 columns</p>\n",
       "</div>"
      ],
      "text/plain": [
       "             Pclass  Age  SibSp  Parch   Fare  family  Survived  Sex_female  \\\n",
       "PassengerId                                                                   \n",
       "0                 1  NaN      2      0  27.14       2         1           0   \n",
       "\n",
       "             Sex_male  Embarked_C  ...  cabin_id_A  cabin_id_B  cabin_id_C  \\\n",
       "PassengerId                        ...                                       \n",
       "0                   1           0  ...           0           0           1   \n",
       "\n",
       "             cabin_id_D  cabin_id_E  cabin_id_F  cabin_id_G  cabin_id_T  \\\n",
       "PassengerId                                                               \n",
       "0                     0           0           0           0           0   \n",
       "\n",
       "             cabin_id_n  cabin_id_nan  \n",
       "PassengerId                            \n",
       "0                     0             0  \n",
       "\n",
       "[1 rows x 54 columns]"
      ]
     },
     "execution_count": 15,
     "metadata": {},
     "output_type": "execute_result"
    }
   ],
   "source": [
    "pd_model_train.head(1)"
   ]
  },
  {
   "cell_type": "markdown",
   "metadata": {},
   "source": [
    "# Train-Validation Split"
   ]
  },
  {
   "cell_type": "code",
   "execution_count": 16,
   "metadata": {},
   "outputs": [],
   "source": [
    "pd_train = pd_model_train.sample(frac=0.8, random_state=3)\n",
    "pd_valid = pd_model_train.drop(pd_train.index)"
   ]
  },
  {
   "cell_type": "markdown",
   "metadata": {},
   "source": [
    "# Train Model"
   ]
  },
  {
   "cell_type": "code",
   "execution_count": 17,
   "metadata": {},
   "outputs": [],
   "source": [
    "# Train setup\n",
    "X_train = pd_train.drop('Survived', axis=1)\n",
    "X_valid = pd_valid.drop('Survived', axis=1)\n",
    "y_train = pd_train.Survived\n",
    "y_valid = pd_valid.Survived\n",
    "\n",
    "clf = xgb.XGBClassifier(\n",
    "    n_estimators=500,\n",
    "    max_depth=5,\n",
    "    learning_rate=0.05,\n",
    "    subsample=0.9,\n",
    "    colsample_bytree=0.7,\n",
    "    reg_lambda=1,\n",
    "    random_state=3,\n",
    "    tree_method='hist',\n",
    "    use_label_encoder=False)"
   ]
  },
  {
   "cell_type": "code",
   "execution_count": 18,
   "metadata": {
    "scrolled": true
   },
   "outputs": [
    {
     "name": "stdout",
     "output_type": "stream",
     "text": [
      "[0]\tvalidation_0-logloss:0.67503\tvalidation_0-error:0.22094\tvalidation_1-logloss:0.67529\tvalidation_1-error:0.22315\n",
      "[25]\tvalidation_0-logloss:0.50316\tvalidation_0-error:0.21896\tvalidation_1-logloss:0.50770\tvalidation_1-error:0.22240\n",
      "[50]\tvalidation_0-logloss:0.47637\tvalidation_0-error:0.21761\tvalidation_1-logloss:0.48351\tvalidation_1-error:0.22140\n",
      "[75]\tvalidation_0-logloss:0.46981\tvalidation_0-error:0.21677\tvalidation_1-logloss:0.47862\tvalidation_1-error:0.22135\n",
      "[100]\tvalidation_0-logloss:0.46681\tvalidation_0-error:0.21518\tvalidation_1-logloss:0.47687\tvalidation_1-error:0.22130\n",
      "[125]\tvalidation_0-logloss:0.46495\tvalidation_0-error:0.21456\tvalidation_1-logloss:0.47602\tvalidation_1-error:0.22145\n",
      "[150]\tvalidation_0-logloss:0.46346\tvalidation_0-error:0.21338\tvalidation_1-logloss:0.47553\tvalidation_1-error:0.22155\n",
      "[175]\tvalidation_0-logloss:0.46236\tvalidation_0-error:0.21299\tvalidation_1-logloss:0.47524\tvalidation_1-error:0.22155\n",
      "[200]\tvalidation_0-logloss:0.46134\tvalidation_0-error:0.21214\tvalidation_1-logloss:0.47499\tvalidation_1-error:0.22095\n",
      "[225]\tvalidation_0-logloss:0.46041\tvalidation_0-error:0.21163\tvalidation_1-logloss:0.47487\tvalidation_1-error:0.22105\n",
      "[250]\tvalidation_0-logloss:0.45953\tvalidation_0-error:0.21122\tvalidation_1-logloss:0.47473\tvalidation_1-error:0.22045\n",
      "[275]\tvalidation_0-logloss:0.45857\tvalidation_0-error:0.21101\tvalidation_1-logloss:0.47464\tvalidation_1-error:0.21995\n",
      "[300]\tvalidation_0-logloss:0.45768\tvalidation_0-error:0.21029\tvalidation_1-logloss:0.47459\tvalidation_1-error:0.22025\n",
      "[325]\tvalidation_0-logloss:0.45667\tvalidation_0-error:0.20959\tvalidation_1-logloss:0.47456\tvalidation_1-error:0.22035\n",
      "[350]\tvalidation_0-logloss:0.45592\tvalidation_0-error:0.20940\tvalidation_1-logloss:0.47462\tvalidation_1-error:0.22020\n",
      "[375]\tvalidation_0-logloss:0.45515\tvalidation_0-error:0.20906\tvalidation_1-logloss:0.47466\tvalidation_1-error:0.22010\n",
      "[400]\tvalidation_0-logloss:0.45437\tvalidation_0-error:0.20830\tvalidation_1-logloss:0.47475\tvalidation_1-error:0.22005\n",
      "[425]\tvalidation_0-logloss:0.45372\tvalidation_0-error:0.20779\tvalidation_1-logloss:0.47482\tvalidation_1-error:0.21985\n",
      "[450]\tvalidation_0-logloss:0.45298\tvalidation_0-error:0.20735\tvalidation_1-logloss:0.47491\tvalidation_1-error:0.21990\n",
      "[475]\tvalidation_0-logloss:0.45228\tvalidation_0-error:0.20690\tvalidation_1-logloss:0.47500\tvalidation_1-error:0.22015\n",
      "[499]\tvalidation_0-logloss:0.45166\tvalidation_0-error:0.20663\tvalidation_1-logloss:0.47499\tvalidation_1-error:0.22010\n",
      "CPU times: user 34.1 s, sys: 1.01 s, total: 35.1 s\n",
      "Wall time: 4.54 s\n"
     ]
    },
    {
     "data": {
      "text/plain": [
       "XGBClassifier(base_score=0.5, booster='gbtree', colsample_bylevel=1,\n",
       "              colsample_bynode=1, colsample_bytree=0.7, gamma=0, gpu_id=-1,\n",
       "              importance_type='gain', interaction_constraints='',\n",
       "              learning_rate=0.05, max_delta_step=0, max_depth=5,\n",
       "              min_child_weight=1, missing=nan, monotone_constraints='()',\n",
       "              n_estimators=500, n_jobs=8, num_parallel_tree=1,\n",
       "              objective='binary:logistic', random_state=3, reg_alpha=0,\n",
       "              reg_lambda=1, scale_pos_weight=1, subsample=0.9,\n",
       "              tree_method='hist', use_label_encoder=False,\n",
       "              validate_parameters=1, verbosity=None)"
      ]
     },
     "execution_count": 18,
     "metadata": {},
     "output_type": "execute_result"
    }
   ],
   "source": [
    "%%time\n",
    "clf.fit(\n",
    "    X=X_train, \n",
    "    y=y_train, \n",
    "    verbose=False,\n",
    "    eval_metric=['logloss', 'error'],\n",
    "    eval_set=[(X_train, y_train), (X_valid, y_valid)],\n",
    "    callbacks=[EvaluationMonitor(period=25)])"
   ]
  },
  {
   "cell_type": "markdown",
   "metadata": {},
   "source": [
    "# Evaluate Model"
   ]
  },
  {
   "cell_type": "code",
   "execution_count": 19,
   "metadata": {},
   "outputs": [
    {
     "data": {
      "image/png": "[encoded data removed]",
      "text/plain": [
       "<Figure size 432x288 with 1 Axes>"
      ]
     },
     "metadata": {
      "needs_background": "light"
     },
     "output_type": "display_data"
    },
    {
     "name": "stdout",
     "output_type": "stream",
     "text": [
      "Minimum: 0.474526 (n_trees=311)\n"
     ]
    }
   ],
   "source": [
    "train_logloss = clf.evals_result()['validation_0']['logloss']\n",
    "valid_logloss = clf.evals_result()['validation_1']['logloss']\n",
    "plt.plot(train_logloss)\n",
    "plt.plot(valid_logloss)\n",
    "plt.title(\"Logloss\")\n",
    "plt.show()\n",
    "\n",
    "srs_valid = pd.Series(valid_logloss)\n",
    "print(\"Minimum: {} (n_trees={})\".format(\n",
    "    srs_valid[srs_valid.idxmin()], srs_valid.idxmin() + 1))"
   ]
  },
  {
   "cell_type": "code",
   "execution_count": 20,
   "metadata": {},
   "outputs": [
    {
     "data": {
      "image/png": "[encoded data removed]",
      "text/plain": [
       "<Figure size 432x288 with 1 Axes>"
      ]
     },
     "metadata": {
      "needs_background": "light"
     },
     "output_type": "display_data"
    },
    {
     "name": "stdout",
     "output_type": "stream",
     "text": [
      "Minimum: 0.2196 (n_trees=448)\n"
     ]
    }
   ],
   "source": [
    "train_error = clf.evals_result()['validation_0']['error']\n",
    "valid_error = clf.evals_result()['validation_1']['error']\n",
    "plt.plot(train_error)\n",
    "plt.plot(valid_error)\n",
    "plt.title(\"Error\")\n",
    "plt.show()\n",
    "\n",
    "srs_valid = pd.Series(valid_error)\n",
    "print(\"Minimum: {} (n_trees={})\".format(\n",
    "    srs_valid[srs_valid.idxmin()], srs_valid.idxmin() + 1))"
   ]
  },
  {
   "cell_type": "markdown",
   "metadata": {},
   "source": [
    "# Create Submission"
   ]
  },
  {
   "cell_type": "code",
   "execution_count": 21,
   "metadata": {},
   "outputs": [],
   "source": [
    "# Update parameters\n",
    "best_n_estimators = 189\n",
    "clf = clf.set_params(**{'n_estimators': best_n_estimators})"
   ]
  },
  {
   "cell_type": "code",
   "execution_count": 22,
   "metadata": {
    "scrolled": true
   },
   "outputs": [
    {
     "name": "stdout",
     "output_type": "stream",
     "text": [
      "[0]\tvalidation_0-logloss:0.67511\tvalidation_0-error:0.22117\n",
      "[25]\tvalidation_0-logloss:0.50440\tvalidation_0-error:0.21989\n",
      "[50]\tvalidation_0-logloss:0.47782\tvalidation_0-error:0.21878\n",
      "[75]\tvalidation_0-logloss:0.47138\tvalidation_0-error:0.21730\n",
      "[100]\tvalidation_0-logloss:0.46858\tvalidation_0-error:0.21553\n",
      "[125]\tvalidation_0-logloss:0.46670\tvalidation_0-error:0.21477\n",
      "[150]\tvalidation_0-logloss:0.46527\tvalidation_0-error:0.21428\n",
      "[175]\tvalidation_0-logloss:0.46419\tvalidation_0-error:0.21390\n",
      "[188]\tvalidation_0-logloss:0.46382\tvalidation_0-error:0.21372\n",
      "CPU times: user 14.1 s, sys: 359 ms, total: 14.4 s\n",
      "Wall time: 1.85 s\n"
     ]
    },
    {
     "data": {
      "text/plain": [
       "XGBClassifier(base_score=0.5, booster='gbtree', colsample_bylevel=1,\n",
       "              colsample_bynode=1, colsample_bytree=0.7, gamma=0, gpu_id=-1,\n",
       "              importance_type='gain', interaction_constraints='',\n",
       "              learning_rate=0.05, max_delta_step=0, max_depth=5,\n",
       "              min_child_weight=1, missing=nan, monotone_constraints='()',\n",
       "              n_estimators=189, n_jobs=8, num_parallel_tree=1,\n",
       "              objective='binary:logistic', random_state=3, reg_alpha=0,\n",
       "              reg_lambda=1, scale_pos_weight=1, subsample=0.9,\n",
       "              tree_method='hist', use_label_encoder=False,\n",
       "              validate_parameters=1, verbosity=None)"
      ]
     },
     "execution_count": 22,
     "metadata": {},
     "output_type": "execute_result"
    }
   ],
   "source": [
    "%%time\n",
    "X = pd.concat([X_train, X_valid])\n",
    "y = y_train.append(y_valid)\n",
    "\n",
    "clf.fit(\n",
    "    X=X, \n",
    "    y=y, \n",
    "    verbose=False,\n",
    "    eval_metric=['logloss', 'error'],\n",
    "    eval_set=[(X, y)],\n",
    "    callbacks=[EvaluationMonitor(period=25)])"
   ]
  },
  {
   "cell_type": "code",
   "execution_count": 24,
   "metadata": {},
   "outputs": [],
   "source": [
    "# Create sumbission dataset\n",
    "predictions = clf.predict(pd_model_test)\n",
    "pd_submission = pd_sample_submission.drop('Survived', axis=1)\n",
    "pd_submission = pd_submission.assign(Survived=predictions)\n",
    "pd_submission.to_csv('./submissions/2.0-modelling-xgboost.csv', index=False)"
   ]
  },
  {
   "cell_type": "code",
   "execution_count": 28,
   "metadata": {},
   "outputs": [
    {
     "name": "stdout",
     "output_type": "stream",
     "text": [
      "Warning: Your Kaggle API key is readable by other users on this system! To fix this, you can run 'chmod 600 /root/.kaggle/kaggle.json'\n",
      "100%|█████████████████████████████████████████| 879k/879k [00:03<00:00, 298kB/s]\n",
      "Successfully submitted to Tabular Playground Series - Apr 2021"
     ]
    }
   ],
   "source": [
    "# Submit\n",
    "!kaggle competitions submit -c tabular-playground-series-apr-2021 -f ./submissions/2.0-modelling-xgboost.csv -m \"2.0-modellng-xgboost\""
   ]
  },
  {
   "cell_type": "code",
   "execution_count": null,
   "metadata": {},
   "outputs": [],
   "source": []
  }
 ],
 "metadata": {
  "instance_type": "ml.m5.2xlarge",
  "kernelspec": {
   "display_name": "Python 3 (Data Science)",
   "language": "python",
   "name": "python3__SAGEMAKER_INTERNAL__arn:aws:sagemaker:us-west-2:236514542706:image/datascience-1.0"
  },
  "language_info": {
   "codemirror_mode": {
    "name": "ipython",
    "version": 3
   },
   "file_extension": ".py",
   "mimetype": "text/x-python",
   "name": "python",
   "nbconvert_exporter": "python",
   "pygments_lexer": "ipython3",
   "version": "3.7.10"
  }
 },
 "nbformat": 4,
 "nbformat_minor": 4
}
