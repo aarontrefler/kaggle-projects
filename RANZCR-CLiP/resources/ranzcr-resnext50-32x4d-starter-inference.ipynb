{
 "cells": [
  {
   "cell_type": "markdown",
   "metadata": {},
   "source": [
    "# About this notebook\n",
    "- PyTorch resnext50_32x4d starter code\n",
    "- GroupKFold 4 folds\n",
    "- training code is [here](https://www.kaggle.com/yasufuminakama/ranzcr-resnext50-32x4d-starter-training)\n",
    "\n",
    "If this notebook is helpful, feel free to upvote :)"
   ]
  },
  {
   "cell_type": "markdown",
   "metadata": {
    "papermill": {
     "duration": 0.022224,
     "end_time": "2020-12-14T19:52:41.498163",
     "exception": false,
     "start_time": "2020-12-14T19:52:41.475939",
     "status": "completed"
    },
    "tags": []
   },
   "source": [
    "# Directory settings"
   ]
  },
  {
   "cell_type": "code",
   "execution_count": 28,
   "metadata": {
    "execution": {
     "iopub.execute_input": "2020-12-14T19:52:41.549032Z",
     "iopub.status.busy": "2020-12-14T19:52:41.548343Z",
     "iopub.status.idle": "2020-12-14T19:52:41.553026Z",
     "shell.execute_reply": "2020-12-14T19:52:41.552269Z"
    },
    "papermill": {
     "duration": 0.033458,
     "end_time": "2020-12-14T19:52:41.553131",
     "exception": false,
     "start_time": "2020-12-14T19:52:41.519673",
     "status": "completed"
    },
    "tags": []
   },
   "outputs": [],
   "source": [
    "# ====================================================\n",
    "# Directory settings\n",
    "# ====================================================\n",
    "import os\n",
    "\n",
    "MODEL_DIR = '../input/ranzcr-resnext50-32x4d-starter-training/'\n",
    "OUTPUT_DIR = './'\n",
    "if not os.path.exists(OUTPUT_DIR):\n",
    "    os.makedirs(OUTPUT_DIR)\n",
    "\n",
    "TEST_PATH = '../input/ranzcr-clip-catheter-line-classification/test'"
   ]
  },
  {
   "cell_type": "markdown",
   "metadata": {
    "papermill": {
     "duration": 0.02073,
     "end_time": "2020-12-14T19:52:41.594446",
     "exception": false,
     "start_time": "2020-12-14T19:52:41.573716",
     "status": "completed"
    },
    "tags": []
   },
   "source": [
    "# CFG"
   ]
  },
  {
   "cell_type": "code",
   "execution_count": 23,
   "metadata": {
    "execution": {
     "iopub.execute_input": "2020-12-14T19:52:41.647322Z",
     "iopub.status.busy": "2020-12-14T19:52:41.646482Z",
     "iopub.status.idle": "2020-12-14T19:52:41.650102Z",
     "shell.execute_reply": "2020-12-14T19:52:41.649535Z"
    },
    "papermill": {
     "duration": 0.034829,
     "end_time": "2020-12-14T19:52:41.650216",
     "exception": false,
     "start_time": "2020-12-14T19:52:41.615387",
     "status": "completed"
    },
    "tags": []
   },
   "outputs": [],
   "source": [
    "# ====================================================\n",
    "# CFG\n",
    "# ====================================================\n",
    "class CFG:\n",
    "    debug=False\n",
    "    num_workers=4\n",
    "    model_name='resnext50_32x4d'\n",
    "    size=600\n",
    "    batch_size=64\n",
    "    seed=42\n",
    "    target_size=11\n",
    "    target_cols=['ETT - Abnormal', 'ETT - Borderline', 'ETT - Normal',\n",
    "                 'NGT - Abnormal', 'NGT - Borderline', 'NGT - Incompletely Imaged', 'NGT - Normal', \n",
    "                 'CVC - Abnormal', 'CVC - Borderline', 'CVC - Normal',\n",
    "                 'Swan Ganz Catheter Present']\n",
    "    n_fold=4\n",
    "    trn_fold=[0, 1, 2, 3]"
   ]
  },
  {
   "cell_type": "markdown",
   "metadata": {
    "papermill": {
     "duration": 0.02152,
     "end_time": "2020-12-14T19:52:41.693202",
     "exception": false,
     "start_time": "2020-12-14T19:52:41.671682",
     "status": "completed"
    },
    "tags": []
   },
   "source": [
    "# Library"
   ]
  },
  {
   "cell_type": "code",
   "execution_count": 24,
   "metadata": {
    "execution": {
     "iopub.execute_input": "2020-12-14T19:52:41.750878Z",
     "iopub.status.busy": "2020-12-14T19:52:41.750245Z",
     "iopub.status.idle": "2020-12-14T19:52:45.494184Z",
     "shell.execute_reply": "2020-12-14T19:52:45.492665Z"
    },
    "papermill": {
     "duration": 3.779959,
     "end_time": "2020-12-14T19:52:45.49431",
     "exception": false,
     "start_time": "2020-12-14T19:52:41.714351",
     "status": "completed"
    },
    "tags": []
   },
   "outputs": [],
   "source": [
    "# ====================================================\n",
    "# Library\n",
    "# ====================================================\n",
    "import sys\n",
    "sys.path.append('../input/pytorch-image-models/pytorch-image-models-master')\n",
    "\n",
    "import os\n",
    "import math\n",
    "import time\n",
    "import random\n",
    "import shutil\n",
    "from pathlib import Path\n",
    "from contextlib import contextmanager\n",
    "from collections import defaultdict, Counter\n",
    "\n",
    "import scipy as sp\n",
    "import numpy as np\n",
    "import pandas as pd\n",
    "\n",
    "from sklearn import preprocessing\n",
    "from sklearn.metrics import roc_auc_score\n",
    "from sklearn.model_selection import StratifiedKFold, GroupKFold, KFold\n",
    "\n",
    "from tqdm.auto import tqdm\n",
    "from functools import partial\n",
    "\n",
    "import cv2\n",
    "from PIL import Image\n",
    "\n",
    "from matplotlib import pyplot as plt\n",
    "\n",
    "import torch\n",
    "import torch.nn as nn\n",
    "import torch.nn.functional as F\n",
    "from torch.optim import Adam, SGD\n",
    "import torchvision.models as models\n",
    "from torch.nn.parameter import Parameter\n",
    "from torch.utils.data import DataLoader, Dataset\n",
    "from torch.optim.lr_scheduler import CosineAnnealingWarmRestarts, CosineAnnealingLR, ReduceLROnPlateau\n",
    "\n",
    "from albumentations import (\n",
    "    Compose, OneOf, Normalize, Resize, RandomResizedCrop, RandomCrop, HorizontalFlip, VerticalFlip, \n",
    "    RandomBrightness, RandomContrast, RandomBrightnessContrast, Rotate, ShiftScaleRotate, Cutout, \n",
    "    IAAAdditiveGaussianNoise, Transpose\n",
    "    )\n",
    "from albumentations.pytorch import ToTensorV2\n",
    "from albumentations import ImageOnlyTransform\n",
    "\n",
    "import timm\n",
    "\n",
    "from torch.cuda.amp import autocast, GradScaler\n",
    "\n",
    "import warnings \n",
    "warnings.filterwarnings('ignore')\n",
    "\n",
    "device = torch.device('cuda' if torch.cuda.is_available() else 'cpu')"
   ]
  },
  {
   "cell_type": "markdown",
   "metadata": {
    "papermill": {
     "duration": 0.021243,
     "end_time": "2020-12-14T19:52:45.536479",
     "exception": false,
     "start_time": "2020-12-14T19:52:45.515236",
     "status": "completed"
    },
    "tags": []
   },
   "source": [
    "# Utils"
   ]
  },
  {
   "cell_type": "code",
   "execution_count": 25,
   "metadata": {
    "execution": {
     "iopub.execute_input": "2020-12-14T19:52:45.59513Z",
     "iopub.status.busy": "2020-12-14T19:52:45.594471Z",
     "iopub.status.idle": "2020-12-14T19:52:45.60117Z",
     "shell.execute_reply": "2020-12-14T19:52:45.60042Z"
    },
    "papermill": {
     "duration": 0.040687,
     "end_time": "2020-12-14T19:52:45.601288",
     "exception": false,
     "start_time": "2020-12-14T19:52:45.560601",
     "status": "completed"
    },
    "tags": []
   },
   "outputs": [],
   "source": [
    "# ====================================================\n",
    "# Utils\n",
    "# ====================================================\n",
    "def get_score(y_true, y_pred):\n",
    "    scores = []\n",
    "    for i in range(y_true.shape[1]):\n",
    "        score = roc_auc_score(y_true[:,i], y_pred[:,i])\n",
    "        scores.append(score)\n",
    "    avg_score = np.mean(scores)\n",
    "    return avg_score, scores\n",
    "\n",
    "\n",
    "def get_result(result_df):\n",
    "    preds = result_df[[f'pred_{c}' for c in CFG.target_cols]].values\n",
    "    labels = result_df[CFG.target_cols].values\n",
    "    score, scores = get_score(labels, preds)\n",
    "    LOGGER.info(f'Score: {score:<.4f}  Scores: {np.round(scores, decimals=4)}')\n",
    "\n",
    "\n",
    "@contextmanager\n",
    "def timer(name):\n",
    "    t0 = time.time()\n",
    "    LOGGER.info(f'[{name}] start')\n",
    "    yield\n",
    "    LOGGER.info(f'[{name}] done in {time.time() - t0:.0f} s.')\n",
    "\n",
    "\n",
    "def init_logger(log_file=OUTPUT_DIR+'inference.log'):\n",
    "    from logging import getLogger, INFO, FileHandler,  Formatter,  StreamHandler\n",
    "    logger = getLogger(__name__)\n",
    "    logger.setLevel(INFO)\n",
    "    handler1 = StreamHandler()\n",
    "    handler1.setFormatter(Formatter(\"%(message)s\"))\n",
    "    handler2 = FileHandler(filename=log_file)\n",
    "    handler2.setFormatter(Formatter(\"%(message)s\"))\n",
    "    logger.addHandler(handler1)\n",
    "    logger.addHandler(handler2)\n",
    "    return logger\n",
    "\n",
    "LOGGER = init_logger()\n",
    "\n",
    "\n",
    "def seed_torch(seed=42):\n",
    "    random.seed(seed)\n",
    "    os.environ['PYTHONHASHSEED'] = str(seed)\n",
    "    np.random.seed(seed)\n",
    "    torch.manual_seed(seed)\n",
    "    torch.cuda.manual_seed(seed)\n",
    "    torch.backends.cudnn.deterministic = True\n",
    "\n",
    "seed_torch(seed=CFG.seed)"
   ]
  },
  {
   "cell_type": "markdown",
   "metadata": {},
   "source": [
    "# Data Loading"
   ]
  },
  {
   "cell_type": "code",
   "execution_count": 26,
   "metadata": {},
   "outputs": [
    {
     "data": {
      "text/plain": [
       "fold\n",
       "0    7521\n",
       "1    7521\n",
       "2    7521\n",
       "3    7520\n",
       "dtype: int64"
      ]
     },
     "metadata": {},
     "output_type": "display_data"
    }
   ],
   "source": [
    "train = pd.read_csv('../input/ranzcr-clip-catheter-line-classification/train.csv')\n",
    "folds = train.copy()\n",
    "Fold = GroupKFold(n_splits=CFG.n_fold)\n",
    "groups = folds['PatientID'].values\n",
    "for n, (train_index, val_index) in enumerate(Fold.split(folds, folds[CFG.target_cols], groups)):\n",
    "    folds.loc[val_index, 'fold'] = int(n)\n",
    "folds['fold'] = folds['fold'].astype(int)\n",
    "display(folds.groupby('fold').size())"
   ]
  },
  {
   "cell_type": "code",
   "execution_count": 29,
   "metadata": {},
   "outputs": [
    {
     "name": "stderr",
     "output_type": "stream",
     "text": [
      "========== fold: 0 result ==========\n",
      "========== fold: 0 result ==========\n",
      "========== fold: 0 result ==========\n",
      "Score: 0.9342  Scores: [0.9477 0.9421 0.9898 0.9358 0.9426 0.9768 0.9779 0.8922 0.806  0.8695\n",
      " 0.9958]\n",
      "Score: 0.9342  Scores: [0.9477 0.9421 0.9898 0.9358 0.9426 0.9768 0.9779 0.8922 0.806  0.8695\n",
      " 0.9958]\n",
      "Score: 0.9342  Scores: [0.9477 0.9421 0.9898 0.9358 0.9426 0.9768 0.9779 0.8922 0.806  0.8695\n",
      " 0.9958]\n",
      "========== fold: 1 result ==========\n",
      "========== fold: 1 result ==========\n",
      "========== fold: 1 result ==========\n",
      "Score: 0.9346  Scores: [0.9308 0.9587 0.9892 0.9291 0.936  0.975  0.9823 0.8896 0.8089 0.8815\n",
      " 0.9989]\n",
      "Score: 0.9346  Scores: [0.9308 0.9587 0.9892 0.9291 0.936  0.975  0.9823 0.8896 0.8089 0.8815\n",
      " 0.9989]\n",
      "Score: 0.9346  Scores: [0.9308 0.9587 0.9892 0.9291 0.936  0.975  0.9823 0.8896 0.8089 0.8815\n",
      " 0.9989]\n",
      "========== fold: 2 result ==========\n",
      "========== fold: 2 result ==========\n",
      "========== fold: 2 result ==========\n",
      "Score: 0.9383  Scores: [0.9758 0.9478 0.9882 0.9322 0.926  0.9768 0.9806 0.8868 0.8253 0.8826\n",
      " 0.9994]\n",
      "Score: 0.9383  Scores: [0.9758 0.9478 0.9882 0.9322 0.926  0.9768 0.9806 0.8868 0.8253 0.8826\n",
      " 0.9994]\n",
      "Score: 0.9383  Scores: [0.9758 0.9478 0.9882 0.9322 0.926  0.9768 0.9806 0.8868 0.8253 0.8826\n",
      " 0.9994]\n",
      "========== fold: 3 result ==========\n",
      "========== fold: 3 result ==========\n",
      "========== fold: 3 result ==========\n",
      "Score: 0.9319  Scores: [0.9623 0.9511 0.9919 0.9097 0.9267 0.9796 0.9816 0.8695 0.7977 0.882\n",
      " 0.9981]\n",
      "Score: 0.9319  Scores: [0.9623 0.9511 0.9919 0.9097 0.9267 0.9796 0.9816 0.8695 0.7977 0.882\n",
      " 0.9981]\n",
      "Score: 0.9319  Scores: [0.9623 0.9511 0.9919 0.9097 0.9267 0.9796 0.9816 0.8695 0.7977 0.882\n",
      " 0.9981]\n",
      "========== CV ==========\n",
      "========== CV ==========\n",
      "========== CV ==========\n",
      "Score: 0.9337  Scores: [0.9481 0.9496 0.9894 0.9259 0.9315 0.9768 0.9805 0.8835 0.8088 0.8786\n",
      " 0.9977]\n",
      "Score: 0.9337  Scores: [0.9481 0.9496 0.9894 0.9259 0.9315 0.9768 0.9805 0.8835 0.8088 0.8786\n",
      " 0.9977]\n",
      "Score: 0.9337  Scores: [0.9481 0.9496 0.9894 0.9259 0.9315 0.9768 0.9805 0.8835 0.8088 0.8786\n",
      " 0.9977]\n"
     ]
    }
   ],
   "source": [
    "oof_df = pd.DataFrame()\n",
    "for fold in CFG.trn_fold:\n",
    "    valid_folds = folds[folds['fold']==fold].reset_index(drop=True)\n",
    "    check_point = torch.load(MODEL_DIR+f'{CFG.model_name}_fold{fold}_best.pth', map_location=device)\n",
    "    for c in [f'pred_{c}' for c in CFG.target_cols]:\n",
    "        valid_folds[c] = np.nan\n",
    "    valid_folds[[f'pred_{c}' for c in CFG.target_cols]] = check_point['preds']\n",
    "    LOGGER.info(f\"========== fold: {fold} result ==========\")\n",
    "    get_result(valid_folds)\n",
    "    oof_df = pd.concat([oof_df, valid_folds])\n",
    "oof_df = oof_df.reset_index(drop=True)\n",
    "LOGGER.info(f\"========== CV ==========\")\n",
    "get_result(oof_df)"
   ]
  },
  {
   "cell_type": "code",
   "execution_count": 30,
   "metadata": {},
   "outputs": [
    {
     "name": "stdout",
     "output_type": "stream",
     "text": [
      "(3582, 12)\n"
     ]
    },
    {
     "data": {
      "text/html": [
       "<div>\n",
       "<style scoped>\n",
       "    .dataframe tbody tr th:only-of-type {\n",
       "        vertical-align: middle;\n",
       "    }\n",
       "\n",
       "    .dataframe tbody tr th {\n",
       "        vertical-align: top;\n",
       "    }\n",
       "\n",
       "    .dataframe thead th {\n",
       "        text-align: right;\n",
       "    }\n",
       "</style>\n",
       "<table border=\"1\" class=\"dataframe\">\n",
       "  <thead>\n",
       "    <tr style=\"text-align: right;\">\n",
       "      <th></th>\n",
       "      <th>StudyInstanceUID</th>\n",
       "      <th>ETT - Abnormal</th>\n",
       "      <th>ETT - Borderline</th>\n",
       "      <th>ETT - Normal</th>\n",
       "      <th>NGT - Abnormal</th>\n",
       "      <th>NGT - Borderline</th>\n",
       "      <th>NGT - Incompletely Imaged</th>\n",
       "      <th>NGT - Normal</th>\n",
       "      <th>CVC - Abnormal</th>\n",
       "      <th>CVC - Borderline</th>\n",
       "      <th>CVC - Normal</th>\n",
       "      <th>Swan Ganz Catheter Present</th>\n",
       "    </tr>\n",
       "  </thead>\n",
       "  <tbody>\n",
       "    <tr>\n",
       "      <th>0</th>\n",
       "      <td>1.2.826.0.1.3680043.8.498.46923145579096002617...</td>\n",
       "      <td>0</td>\n",
       "      <td>0</td>\n",
       "      <td>0</td>\n",
       "      <td>0</td>\n",
       "      <td>0</td>\n",
       "      <td>0</td>\n",
       "      <td>0</td>\n",
       "      <td>0</td>\n",
       "      <td>0</td>\n",
       "      <td>0</td>\n",
       "      <td>0</td>\n",
       "    </tr>\n",
       "    <tr>\n",
       "      <th>1</th>\n",
       "      <td>1.2.826.0.1.3680043.8.498.84006870182611080091...</td>\n",
       "      <td>0</td>\n",
       "      <td>0</td>\n",
       "      <td>0</td>\n",
       "      <td>0</td>\n",
       "      <td>0</td>\n",
       "      <td>0</td>\n",
       "      <td>0</td>\n",
       "      <td>0</td>\n",
       "      <td>0</td>\n",
       "      <td>0</td>\n",
       "      <td>0</td>\n",
       "    </tr>\n",
       "    <tr>\n",
       "      <th>2</th>\n",
       "      <td>1.2.826.0.1.3680043.8.498.12219033294413119947...</td>\n",
       "      <td>0</td>\n",
       "      <td>0</td>\n",
       "      <td>0</td>\n",
       "      <td>0</td>\n",
       "      <td>0</td>\n",
       "      <td>0</td>\n",
       "      <td>0</td>\n",
       "      <td>0</td>\n",
       "      <td>0</td>\n",
       "      <td>0</td>\n",
       "      <td>0</td>\n",
       "    </tr>\n",
       "    <tr>\n",
       "      <th>3</th>\n",
       "      <td>1.2.826.0.1.3680043.8.498.84994474380235968109...</td>\n",
       "      <td>0</td>\n",
       "      <td>0</td>\n",
       "      <td>0</td>\n",
       "      <td>0</td>\n",
       "      <td>0</td>\n",
       "      <td>0</td>\n",
       "      <td>0</td>\n",
       "      <td>0</td>\n",
       "      <td>0</td>\n",
       "      <td>0</td>\n",
       "      <td>0</td>\n",
       "    </tr>\n",
       "    <tr>\n",
       "      <th>4</th>\n",
       "      <td>1.2.826.0.1.3680043.8.498.35798987793805669662...</td>\n",
       "      <td>0</td>\n",
       "      <td>0</td>\n",
       "      <td>0</td>\n",
       "      <td>0</td>\n",
       "      <td>0</td>\n",
       "      <td>0</td>\n",
       "      <td>0</td>\n",
       "      <td>0</td>\n",
       "      <td>0</td>\n",
       "      <td>0</td>\n",
       "      <td>0</td>\n",
       "    </tr>\n",
       "  </tbody>\n",
       "</table>\n",
       "</div>"
      ],
      "text/plain": [
       "                                    StudyInstanceUID  ETT - Abnormal  \\\n",
       "0  1.2.826.0.1.3680043.8.498.46923145579096002617...               0   \n",
       "1  1.2.826.0.1.3680043.8.498.84006870182611080091...               0   \n",
       "2  1.2.826.0.1.3680043.8.498.12219033294413119947...               0   \n",
       "3  1.2.826.0.1.3680043.8.498.84994474380235968109...               0   \n",
       "4  1.2.826.0.1.3680043.8.498.35798987793805669662...               0   \n",
       "\n",
       "   ETT - Borderline  ETT - Normal  NGT - Abnormal  NGT - Borderline  \\\n",
       "0                 0             0               0                 0   \n",
       "1                 0             0               0                 0   \n",
       "2                 0             0               0                 0   \n",
       "3                 0             0               0                 0   \n",
       "4                 0             0               0                 0   \n",
       "\n",
       "   NGT - Incompletely Imaged  NGT - Normal  CVC - Abnormal  CVC - Borderline  \\\n",
       "0                          0             0               0                 0   \n",
       "1                          0             0               0                 0   \n",
       "2                          0             0               0                 0   \n",
       "3                          0             0               0                 0   \n",
       "4                          0             0               0                 0   \n",
       "\n",
       "   CVC - Normal  Swan Ganz Catheter Present  \n",
       "0             0                           0  \n",
       "1             0                           0  \n",
       "2             0                           0  \n",
       "3             0                           0  \n",
       "4             0                           0  "
      ]
     },
     "execution_count": 30,
     "metadata": {},
     "output_type": "execute_result"
    }
   ],
   "source": [
    "test = pd.read_csv('../input/ranzcr-clip-catheter-line-classification/sample_submission.csv')\n",
    "print(test.shape)\n",
    "test.head()"
   ]
  },
  {
   "cell_type": "code",
   "execution_count": 31,
   "metadata": {},
   "outputs": [],
   "source": [
    "if CFG.debug:\n",
    "    test = test.head()"
   ]
  },
  {
   "cell_type": "markdown",
   "metadata": {
    "papermill": {
     "duration": 0.023234,
     "end_time": "2020-12-14T19:52:45.910123",
     "exception": false,
     "start_time": "2020-12-14T19:52:45.886889",
     "status": "completed"
    },
    "tags": []
   },
   "source": [
    "# Dataset"
   ]
  },
  {
   "cell_type": "code",
   "execution_count": null,
   "metadata": {
    "execution": {
     "iopub.execute_input": "2020-12-14T19:52:45.967747Z",
     "iopub.status.busy": "2020-12-14T19:52:45.96573Z",
     "iopub.status.idle": "2020-12-14T19:52:45.968559Z",
     "shell.execute_reply": "2020-12-14T19:52:45.969115Z"
    },
    "papermill": {
     "duration": 0.036559,
     "end_time": "2020-12-14T19:52:45.969232",
     "exception": false,
     "start_time": "2020-12-14T19:52:45.932673",
     "status": "completed"
    },
    "tags": []
   },
   "outputs": [],
   "source": [
    "# ====================================================\n",
    "# Dataset\n",
    "# ====================================================\n",
    "class TestDataset(Dataset):\n",
    "    def __init__(self, df, transform=None):\n",
    "        self.df = df\n",
    "        self.file_names = df['StudyInstanceUID'].values\n",
    "        self.transform = transform\n",
    "        \n",
    "    def __len__(self):\n",
    "        return len(self.df)\n",
    "\n",
    "    def __getitem__(self, idx):\n",
    "        file_name = self.file_names[idx]\n",
    "        file_path = f'{TEST_PATH}/{file_name}.jpg'\n",
    "        image = cv2.imread(file_path)\n",
    "        image = cv2.cvtColor(image, cv2.COLOR_BGR2RGB)\n",
    "        if self.transform:\n",
    "            augmented = self.transform(image=image)\n",
    "            image = augmented['image']\n",
    "        return image"
   ]
  },
  {
   "cell_type": "markdown",
   "metadata": {
    "papermill": {
     "duration": 0.024022,
     "end_time": "2020-12-14T19:52:46.01618",
     "exception": false,
     "start_time": "2020-12-14T19:52:45.992158",
     "status": "completed"
    },
    "tags": []
   },
   "source": [
    "# Transforms"
   ]
  },
  {
   "cell_type": "code",
   "execution_count": null,
   "metadata": {
    "execution": {
     "iopub.execute_input": "2020-12-14T19:52:46.071509Z",
     "iopub.status.busy": "2020-12-14T19:52:46.070642Z",
     "iopub.status.idle": "2020-12-14T19:52:46.074136Z",
     "shell.execute_reply": "2020-12-14T19:52:46.073613Z"
    },
    "papermill": {
     "duration": 0.035507,
     "end_time": "2020-12-14T19:52:46.074245",
     "exception": false,
     "start_time": "2020-12-14T19:52:46.038738",
     "status": "completed"
    },
    "tags": []
   },
   "outputs": [],
   "source": [
    "# ====================================================\n",
    "# Transforms\n",
    "# ====================================================\n",
    "def get_transforms(*, data):\n",
    "    \n",
    "    if data == 'train':\n",
    "        return Compose([\n",
    "            Resize(CFG.size, CFG.size),\n",
    "            Normalize(\n",
    "                mean=[0.485, 0.456, 0.406],\n",
    "                std=[0.229, 0.224, 0.225],\n",
    "            ),\n",
    "            ToTensorV2(),\n",
    "        ])\n",
    "\n",
    "    elif data == 'valid':\n",
    "        return Compose([\n",
    "            Resize(CFG.size, CFG.size),\n",
    "            Normalize(\n",
    "                mean=[0.485, 0.456, 0.406],\n",
    "                std=[0.229, 0.224, 0.225],\n",
    "            ),\n",
    "            ToTensorV2(),\n",
    "        ])"
   ]
  },
  {
   "cell_type": "markdown",
   "metadata": {
    "papermill": {
     "duration": 0.022168,
     "end_time": "2020-12-14T19:52:46.118843",
     "exception": false,
     "start_time": "2020-12-14T19:52:46.096675",
     "status": "completed"
    },
    "tags": []
   },
   "source": [
    "# MODEL"
   ]
  },
  {
   "cell_type": "code",
   "execution_count": null,
   "metadata": {
    "execution": {
     "iopub.execute_input": "2020-12-14T19:52:46.17627Z",
     "iopub.status.busy": "2020-12-14T19:52:46.170979Z",
     "iopub.status.idle": "2020-12-14T19:52:46.18312Z",
     "shell.execute_reply": "2020-12-14T19:52:46.183763Z"
    },
    "papermill": {
     "duration": 0.042914,
     "end_time": "2020-12-14T19:52:46.183878",
     "exception": false,
     "start_time": "2020-12-14T19:52:46.140964",
     "status": "completed"
    },
    "tags": []
   },
   "outputs": [],
   "source": [
    "# ====================================================\n",
    "# MODEL\n",
    "# ====================================================\n",
    "class CustomResNext(nn.Module):\n",
    "    def __init__(self, model_name='resnext50_32x4d', pretrained=False):\n",
    "        super().__init__()\n",
    "        self.model = timm.create_model(model_name, pretrained=pretrained)\n",
    "        n_features = self.model.fc.in_features\n",
    "        self.model.fc = nn.Linear(n_features, CFG.target_size)\n",
    "\n",
    "    def forward(self, x):\n",
    "        x = self.model(x)\n",
    "        return x"
   ]
  },
  {
   "cell_type": "markdown",
   "metadata": {
    "papermill": {
     "duration": 0.022356,
     "end_time": "2020-12-14T19:52:46.228883",
     "exception": false,
     "start_time": "2020-12-14T19:52:46.206527",
     "status": "completed"
    },
    "tags": []
   },
   "source": [
    "# Helper functions"
   ]
  },
  {
   "cell_type": "code",
   "execution_count": null,
   "metadata": {
    "execution": {
     "iopub.execute_input": "2020-12-14T19:52:46.445205Z",
     "iopub.status.busy": "2020-12-14T19:52:46.443326Z",
     "iopub.status.idle": "2020-12-14T19:52:46.445944Z",
     "shell.execute_reply": "2020-12-14T19:52:46.446449Z"
    },
    "papermill": {
     "duration": 0.064625,
     "end_time": "2020-12-14T19:52:46.446561",
     "exception": false,
     "start_time": "2020-12-14T19:52:46.381936",
     "status": "completed"
    },
    "tags": []
   },
   "outputs": [],
   "source": [
    "# ====================================================\n",
    "# Helper functions\n",
    "# ====================================================\n",
    "def inference(model, states, test_loader, device):\n",
    "    model.to(device)\n",
    "    tk0 = tqdm(enumerate(test_loader), total=len(test_loader))\n",
    "    probs = []\n",
    "    for i, (images) in tk0:\n",
    "        images = images.to(device)\n",
    "        avg_preds = []\n",
    "        for state in states:\n",
    "            model.load_state_dict(state['model'])\n",
    "            model.eval()\n",
    "            with torch.no_grad():\n",
    "                y_preds = model(images)\n",
    "            avg_preds.append(y_preds.sigmoid().to('cpu').numpy())\n",
    "        avg_preds = np.mean(avg_preds, axis=0)\n",
    "        probs.append(avg_preds)\n",
    "    probs = np.concatenate(probs)\n",
    "    return probs"
   ]
  },
  {
   "cell_type": "markdown",
   "metadata": {
    "papermill": {
     "duration": 0.022557,
     "end_time": "2020-12-14T19:52:46.492442",
     "exception": false,
     "start_time": "2020-12-14T19:52:46.469885",
     "status": "completed"
    },
    "tags": []
   },
   "source": [
    "# inference"
   ]
  },
  {
   "cell_type": "code",
   "execution_count": null,
   "metadata": {
    "_cell_guid": "79c7e3d0-c299-4dcb-8224-4455121ee9b0",
    "_uuid": "d629ff2d2480ee46fbb7e2d37f6b5fab8052498a",
    "execution": {
     "iopub.execute_input": "2020-12-14T19:52:46.757077Z",
     "iopub.status.busy": "2020-12-14T19:52:46.755987Z"
    },
    "papermill": {
     "duration": null,
     "end_time": null,
     "exception": false,
     "start_time": "2020-12-14T19:52:46.725364",
     "status": "running"
    },
    "tags": []
   },
   "outputs": [],
   "source": [
    "# ====================================================\n",
    "# inference\n",
    "# ====================================================\n",
    "model = CustomResNext(CFG.model_name, pretrained=False)\n",
    "states = [torch.load(MODEL_DIR+f'{CFG.model_name}_fold{fold}_best.pth') for fold in CFG.trn_fold]\n",
    "test_dataset = TestDataset(test, transform=get_transforms(data='valid'))\n",
    "test_loader = DataLoader(test_dataset, batch_size=CFG.batch_size, shuffle=False, \n",
    "                         num_workers=CFG.num_workers, pin_memory=True)\n",
    "predictions = inference(model, states, test_loader, device)\n",
    "# submission\n",
    "test[CFG.target_cols] = predictions\n",
    "test[['StudyInstanceUID'] + CFG.target_cols].to_csv(OUTPUT_DIR+'submission.csv', index=False)\n",
    "test.head()"
   ]
  }
 ],
 "metadata": {
  "instance_type": "ml.g4dn.xlarge",
  "kernelspec": {
   "display_name": "Python 3 (Data Science)",
   "language": "python",
   "name": "python3__SAGEMAKER_INTERNAL__arn:aws:sagemaker:us-west-2:236514542706:image/datascience-1.0"
  },
  "language_info": {
   "codemirror_mode": {
    "name": "ipython",
    "version": 3
   },
   "file_extension": ".py",
   "mimetype": "text/x-python",
   "name": "python",
   "nbconvert_exporter": "python",
   "pygments_lexer": "ipython3",
   "version": "3.7.6"
  }
 },
 "nbformat": 4,
 "nbformat_minor": 4
}
