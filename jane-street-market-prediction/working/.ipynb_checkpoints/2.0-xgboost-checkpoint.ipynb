{
 "cells": [
  {
   "cell_type": "markdown",
   "metadata": {},
   "source": [
    "# Setup"
   ]
  },
  {
   "cell_type": "code",
   "execution_count": 1,
   "metadata": {},
   "outputs": [],
   "source": [
    "!pip install xgboost > /dev/null"
   ]
  },
  {
   "cell_type": "code",
   "execution_count": 2,
   "metadata": {},
   "outputs": [],
   "source": [
    "import matplotlib.pyplot as plt\n",
    "import numpy as np\n",
    "import pandas as pd\n",
    "import time\n",
    "import xgboost as xgb\n",
    "\n",
    "from xgboost.callback import EvaluationMonitor"
   ]
  },
  {
   "cell_type": "code",
   "execution_count": 3,
   "metadata": {},
   "outputs": [],
   "source": [
    "# Display options\n",
    "pd.set_option('display.max_columns', 500)\n",
    "pd.set_option('display.max_rows', 100)"
   ]
  },
  {
   "cell_type": "code",
   "execution_count": 4,
   "metadata": {},
   "outputs": [],
   "source": [
    "# Read features\n",
    "pd_train = pd.read_parquet(\"./data/clean/train.parquet\")\n",
    "pd_valid = pd.read_parquet(\"./data/clean/valid.parquet\")\n",
    "pd_test = pd.read_parquet(\"./data/clean/test.parquet\")"
   ]
  },
  {
   "cell_type": "markdown",
   "metadata": {},
   "source": [
    "# Train"
   ]
  },
  {
   "cell_type": "code",
   "execution_count": 5,
   "metadata": {},
   "outputs": [],
   "source": [
    "# Train setup\n",
    "X_train = pd_train.filter(like=\"feature\")\n",
    "X_valid = pd_valid.filter(like=\"feature\")\n",
    "y_train = pd_train.action\n",
    "y_valid = pd_valid.action\n",
    "\n",
    "clf = xgb.XGBClassifier(\n",
    "    n_estimators=500,\n",
    "    max_depth=11,\n",
    "    learning_rate=0.05,\n",
    "    subsample=0.9,\n",
    "    colsample_bytree=0.7,\n",
    "    missing=-999,\n",
    "    random_state=2020,\n",
    "    tree_method='gpu_hist',\n",
    "    use_label_encoder=False)"
   ]
  },
  {
   "cell_type": "code",
   "execution_count": 6,
   "metadata": {},
   "outputs": [
    {
     "name": "stdout",
     "output_type": "stream",
     "text": [
      "[0]\tvalidation_0-logloss:0.69234\tvalidation_0-error:0.47248\tvalidation_1-logloss:0.69304\tvalidation_1-error:0.48510\n",
      "[100]\tvalidation_0-logloss:0.64780\tvalidation_0-error:0.34322\tvalidation_1-logloss:0.69182\tvalidation_1-error:0.47567\n",
      "[200]\tvalidation_0-logloss:0.61821\tvalidation_0-error:0.27430\tvalidation_1-logloss:0.69364\tvalidation_1-error:0.47697\n",
      "[300]\tvalidation_0-logloss:0.59226\tvalidation_0-error:0.21899\tvalidation_1-logloss:0.69536\tvalidation_1-error:0.47933\n",
      "[400]\tvalidation_0-logloss:0.56930\tvalidation_0-error:0.17771\tvalidation_1-logloss:0.69667\tvalidation_1-error:0.48057\n",
      "[499]\tvalidation_0-logloss:0.54841\tvalidation_0-error:0.14704\tvalidation_1-logloss:0.69799\tvalidation_1-error:0.48168\n",
      "CPU times: user 1min 13s, sys: 32 s, total: 1min 45s\n",
      "Wall time: 1min 41s\n"
     ]
    },
    {
     "data": {
      "text/plain": [
       "XGBClassifier(base_score=0.5, booster='gbtree', colsample_bylevel=1,\n",
       "              colsample_bynode=1, colsample_bytree=0.7, gamma=0, gpu_id=0,\n",
       "              importance_type='gain', interaction_constraints='',\n",
       "              learning_rate=0.05, max_delta_step=0, max_depth=11,\n",
       "              min_child_weight=1, missing=-999, monotone_constraints='()',\n",
       "              n_estimators=500, n_jobs=4, num_parallel_tree=1,\n",
       "              objective='binary:logistic', random_state=2020, reg_alpha=0,\n",
       "              reg_lambda=1, scale_pos_weight=1, subsample=0.9,\n",
       "              tree_method='gpu_hist', use_label_encoder=False,\n",
       "              validate_parameters=1, verbosity=None)"
      ]
     },
     "execution_count": 6,
     "metadata": {},
     "output_type": "execute_result"
    }
   ],
   "source": [
    "%%time\n",
    "clf.fit(\n",
    "    X=X_train, \n",
    "    y=y_train, \n",
    "    verbose=False,\n",
    "    eval_metric=['logloss', 'error'],\n",
    "    eval_set=[(X_train, y_train), (X_valid, y_valid)],\n",
    "    callbacks=[EvaluationMonitor(period=100)])"
   ]
  },
  {
   "cell_type": "code",
   "execution_count": 23,
   "metadata": {},
   "outputs": [
    {
     "name": "stdout",
     "output_type": "stream",
     "text": [
      "[0]\tvalidation_0-logloss:0.69228\tvalidation_0-error:0.47086\tvalidation_1-logloss:0.69300\tvalidation_1-error:0.49004\n",
      "[100]\tvalidation_0-logloss:0.65023\tvalidation_0-error:0.35484\tvalidation_1-logloss:0.68974\tvalidation_1-error:0.47137\n",
      "[200]\tvalidation_0-logloss:0.62557\tvalidation_0-error:0.29644\tvalidation_1-logloss:0.69111\tvalidation_1-error:0.47524\n",
      "[300]\tvalidation_0-logloss:0.60442\tvalidation_0-error:0.25220\tvalidation_1-logloss:0.69180\tvalidation_1-error:0.47507\n",
      "[400]\tvalidation_0-logloss:0.58471\tvalidation_0-error:0.21359\tvalidation_1-logloss:0.69286\tvalidation_1-error:0.47439\n",
      "[499]\tvalidation_0-logloss:0.56583\tvalidation_0-error:0.18195\tvalidation_1-logloss:0.69373\tvalidation_1-error:0.47472\n",
      "CPU times: user 1min 21s, sys: 37.3 s, total: 1min 58s\n",
      "Wall time: 1min 54s\n"
     ]
    },
    {
     "data": {
      "text/plain": [
       "XGBClassifier(base_score=0.5, booster='gbtree', colsample_bylevel=1,\n",
       "              colsample_bynode=1, colsample_bytree=0.7, gamma=0, gpu_id=0,\n",
       "              importance_type='gain', interaction_constraints='',\n",
       "              learning_rate=0.05, max_delta_step=0, max_depth=11,\n",
       "              min_child_weight=1, missing=-999, monotone_constraints='()',\n",
       "              n_estimators=500, n_jobs=4, num_parallel_tree=1,\n",
       "              objective='binary:logistic', random_state=2020, reg_alpha=0,\n",
       "              reg_lambda=1, scale_pos_weight=1, subsample=0.9,\n",
       "              tree_method='gpu_hist', use_label_encoder=False,\n",
       "              validate_parameters=1, verbosity=None)"
      ]
     },
     "execution_count": 23,
     "metadata": {},
     "output_type": "execute_result"
    }
   ],
   "source": [
    "%%time\n",
    "clf.fit(\n",
    "    X=X_train, \n",
    "    y=y_train, \n",
    "    verbose=False,\n",
    "    eval_metric=['logloss', 'error'],\n",
    "    eval_set=[(X_train, y_train), (X_valid, y_valid)],\n",
    "    callbacks=[EvaluationMonitor(period=100)])"
   ]
  },
  {
   "cell_type": "markdown",
   "metadata": {},
   "source": [
    "# Evaluate"
   ]
  },
  {
   "cell_type": "code",
   "execution_count": 28,
   "metadata": {},
   "outputs": [
    {
     "data": {
      "image/png": "[encoded data removed]",
      "text/plain": [
       "<Figure size 432x288 with 1 Axes>"
      ]
     },
     "metadata": {
      "needs_background": "light"
     },
     "output_type": "display_data"
    },
    {
     "name": "stdout",
     "output_type": "stream",
     "text": [
      "Minimum: 0.690969 (n_trees=62)\n"
     ]
    }
   ],
   "source": [
    "train_logloss = clf.evals_result()['validation_0']['logloss']\n",
    "valid_logloss = clf.evals_result()['validation_1']['logloss']\n",
    "plt.plot(train_logloss)\n",
    "plt.plot(valid_logloss)\n",
    "plt.title(\"Logloss\")\n",
    "plt.show()\n",
    "\n",
    "srs_valid = pd.Series(valid_logloss)\n",
    "print(\"Minimum: {} (n_trees={})\".format(\n",
    "    srs_valid[srs_valid.idxmin()], srs_valid.idxmin() + 1))"
   ]
  },
  {
   "cell_type": "code",
   "execution_count": 29,
   "metadata": {},
   "outputs": [
    {
     "data": {
      "image/png": "[encoded data removed]",
      "text/plain": [
       "<Figure size 432x288 with 1 Axes>"
      ]
     },
     "metadata": {
      "needs_background": "light"
     },
     "output_type": "display_data"
    },
    {
     "name": "stdout",
     "output_type": "stream",
     "text": [
      "Minimum: 0.473723 (n_trees=62)\n"
     ]
    }
   ],
   "source": [
    "train_error = clf.evals_result()['validation_0']['error']\n",
    "valid_error = clf.evals_result()['validation_1']['error']\n",
    "plt.plot(train_error)\n",
    "plt.plot(valid_error)\n",
    "plt.title(\"Error\")\n",
    "plt.show()\n",
    "\n",
    "srs_valid = pd.Series(valid_error)\n",
    "print(\"Minimum: {} (n_trees={})\".format(\n",
    "    srs_valid[srs_valid.idxmin()], srs_valid.idxmin() + 1))"
   ]
  },
  {
   "cell_type": "code",
   "execution_count": null,
   "metadata": {},
   "outputs": [],
   "source": []
  }
 ],
 "metadata": {
  "instance_type": "ml.g4dn.xlarge",
  "kernelspec": {
   "display_name": "Python 3 (Data Science)",
   "language": "python",
   "name": "python3__SAGEMAKER_INTERNAL__arn:aws:sagemaker:us-west-2:236514542706:image/datascience-1.0"
  },
  "language_info": {
   "codemirror_mode": {
    "name": "ipython",
    "version": 3
   },
   "file_extension": ".py",
   "mimetype": "text/x-python",
   "name": "python",
   "nbconvert_exporter": "python",
   "pygments_lexer": "ipython3",
   "version": "3.7.6"
  }
 },
 "nbformat": 4,
 "nbformat_minor": 4
}
