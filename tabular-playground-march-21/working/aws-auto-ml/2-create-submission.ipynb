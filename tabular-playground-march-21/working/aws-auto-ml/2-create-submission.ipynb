{
 "cells": [
  {
   "cell_type": "markdown",
   "metadata": {},
   "source": [
    "# Setup"
   ]
  },
  {
   "cell_type": "code",
   "execution_count": 1,
   "metadata": {},
   "outputs": [],
   "source": [
    "import pandas as pd\n",
    "import sagemaker\n",
    "\n",
    "from pathlib import Path"
   ]
  },
  {
   "cell_type": "code",
   "execution_count": 2,
   "metadata": {},
   "outputs": [],
   "source": [
    "input_path = Path('/root/kaggle-projects/tabular-playground-march-21/input')\n",
    "s3_project_dir = 's3://briorep-s3-ds/Aaron-temp/Projects-Personal/kaggle-tabular-playground-march-21/'"
   ]
  },
  {
   "cell_type": "code",
   "execution_count": 3,
   "metadata": {},
   "outputs": [
    {
     "data": {
      "text/html": [
       "<div>\n",
       "<style scoped>\n",
       "    .dataframe tbody tr th:only-of-type {\n",
       "        vertical-align: middle;\n",
       "    }\n",
       "\n",
       "    .dataframe tbody tr th {\n",
       "        vertical-align: top;\n",
       "    }\n",
       "\n",
       "    .dataframe thead th {\n",
       "        text-align: right;\n",
       "    }\n",
       "</style>\n",
       "<table border=\"1\" class=\"dataframe\">\n",
       "  <thead>\n",
       "    <tr style=\"text-align: right;\">\n",
       "      <th></th>\n",
       "      <th>cat0</th>\n",
       "      <th>cat1</th>\n",
       "      <th>cat2</th>\n",
       "      <th>cat3</th>\n",
       "      <th>cat4</th>\n",
       "      <th>cat5</th>\n",
       "      <th>cat6</th>\n",
       "      <th>cat7</th>\n",
       "      <th>cat8</th>\n",
       "      <th>cat9</th>\n",
       "      <th>...</th>\n",
       "      <th>cont1</th>\n",
       "      <th>cont2</th>\n",
       "      <th>cont3</th>\n",
       "      <th>cont4</th>\n",
       "      <th>cont5</th>\n",
       "      <th>cont6</th>\n",
       "      <th>cont7</th>\n",
       "      <th>cont8</th>\n",
       "      <th>cont9</th>\n",
       "      <th>cont10</th>\n",
       "    </tr>\n",
       "    <tr>\n",
       "      <th>id</th>\n",
       "      <th></th>\n",
       "      <th></th>\n",
       "      <th></th>\n",
       "      <th></th>\n",
       "      <th></th>\n",
       "      <th></th>\n",
       "      <th></th>\n",
       "      <th></th>\n",
       "      <th></th>\n",
       "      <th></th>\n",
       "      <th></th>\n",
       "      <th></th>\n",
       "      <th></th>\n",
       "      <th></th>\n",
       "      <th></th>\n",
       "      <th></th>\n",
       "      <th></th>\n",
       "      <th></th>\n",
       "      <th></th>\n",
       "      <th></th>\n",
       "      <th></th>\n",
       "    </tr>\n",
       "  </thead>\n",
       "  <tbody>\n",
       "    <tr>\n",
       "      <th>5</th>\n",
       "      <td>A</td>\n",
       "      <td>F</td>\n",
       "      <td>A</td>\n",
       "      <td>A</td>\n",
       "      <td>F</td>\n",
       "      <td>BI</td>\n",
       "      <td>A</td>\n",
       "      <td>AH</td>\n",
       "      <td>AX</td>\n",
       "      <td>A</td>\n",
       "      <td>...</td>\n",
       "      <td>0.73569</td>\n",
       "      <td>0.578366</td>\n",
       "      <td>0.723154</td>\n",
       "      <td>0.228037</td>\n",
       "      <td>0.356227</td>\n",
       "      <td>0.551249</td>\n",
       "      <td>0.655693</td>\n",
       "      <td>0.598331</td>\n",
       "      <td>0.359987</td>\n",
       "      <td>0.947489</td>\n",
       "    </tr>\n",
       "  </tbody>\n",
       "</table>\n",
       "<p>1 rows × 30 columns</p>\n",
       "</div>"
      ],
      "text/plain": [
       "   cat0 cat1 cat2 cat3 cat4 cat5 cat6 cat7 cat8 cat9  ...    cont1     cont2  \\\n",
       "id                                                    ...                      \n",
       "5     A    F    A    A    F   BI    A   AH   AX    A  ...  0.73569  0.578366   \n",
       "\n",
       "       cont3     cont4     cont5     cont6     cont7     cont8     cont9  \\\n",
       "id                                                                         \n",
       "5   0.723154  0.228037  0.356227  0.551249  0.655693  0.598331  0.359987   \n",
       "\n",
       "      cont10  \n",
       "id            \n",
       "5   0.947489  \n",
       "\n",
       "[1 rows x 30 columns]"
      ]
     },
     "metadata": {},
     "output_type": "display_data"
    }
   ],
   "source": [
    "# Read test dataset\n",
    "pd_test = pd.read_csv(input_path / 'test.csv', index_col='id')\n",
    "display(pd_test.head(1))"
   ]
  },
  {
   "cell_type": "code",
   "execution_count": 4,
   "metadata": {},
   "outputs": [
    {
     "data": {
      "text/html": [
       "<div>\n",
       "<style scoped>\n",
       "    .dataframe tbody tr th:only-of-type {\n",
       "        vertical-align: middle;\n",
       "    }\n",
       "\n",
       "    .dataframe tbody tr th {\n",
       "        vertical-align: top;\n",
       "    }\n",
       "\n",
       "    .dataframe thead th {\n",
       "        text-align: right;\n",
       "    }\n",
       "</style>\n",
       "<table border=\"1\" class=\"dataframe\">\n",
       "  <thead>\n",
       "    <tr style=\"text-align: right;\">\n",
       "      <th></th>\n",
       "      <th>target</th>\n",
       "    </tr>\n",
       "    <tr>\n",
       "      <th>id</th>\n",
       "      <th></th>\n",
       "    </tr>\n",
       "  </thead>\n",
       "  <tbody>\n",
       "    <tr>\n",
       "      <th>5</th>\n",
       "      <td>0.5</td>\n",
       "    </tr>\n",
       "  </tbody>\n",
       "</table>\n",
       "</div>"
      ],
      "text/plain": [
       "    target\n",
       "id        \n",
       "5      0.5"
      ]
     },
     "metadata": {},
     "output_type": "display_data"
    }
   ],
   "source": [
    "# Read submission dataset\n",
    "pd_submission = pd.read_csv(input_path / 'sample_submission.csv', index_col='id')\n",
    "display(pd_submission.head(1))"
   ]
  },
  {
   "cell_type": "markdown",
   "metadata": {},
   "source": [
    "# Preprocess Data"
   ]
  },
  {
   "cell_type": "code",
   "execution_count": 5,
   "metadata": {},
   "outputs": [],
   "source": [
    "# SageMaker parameters\n",
    "image_uri='246618743249.dkr.ecr.us-west-2.amazonaws.com/sagemaker-sklearn-automl:0.2-1-cpu-py3'\n",
    "training_job_name='kaggle-tab-dpp2-1-93ef8f32aa2a4cacac7741c3d3610561282cba3699c84'\n",
    "test_data = s3_project_dir + 'test_no_index.csv'"
   ]
  },
  {
   "cell_type": "code",
   "execution_count": 12,
   "metadata": {},
   "outputs": [
    {
     "name": "stdout",
     "output_type": "stream",
     "text": [
      "\n",
      "2021-03-15 17:05:56 Starting - Preparing the instances for training\n",
      "2021-03-15 17:05:56 Downloading - Downloading input data\n",
      "2021-03-15 17:05:56 Training - Training image download completed. Training in progress.\n",
      "2021-03-15 17:05:56 Uploading - Uploading generated training model\n",
      "2021-03-15 17:05:56 Completed - Training job completed\n"
     ]
    }
   ],
   "source": [
    "# Create Estimator\n",
    "from sagemaker.estimator import Estimator\n",
    "preprocessor_estimator = Estimator(\n",
    "    image_uri=image_uri,\n",
    "    role='arn:aws:iam::169327718394:role/bri-sagemaker',\n",
    "    instance_count=1,\n",
    "    instance_type='ml.m5.2xlarge')\n",
    "preprocessor_estimator = preprocessor_estimator.attach(\n",
    "    training_job_name=training_job_name)"
   ]
  },
  {
   "cell_type": "code",
   "execution_count": 13,
   "metadata": {},
   "outputs": [],
   "source": [
    "# Create Transformer\n",
    "preprocessor_transformer = preprocessor_estimator.transformer(\n",
    "    instance_count=1,\n",
    "    instance_type='ml.m5.2xlarge',\n",
    "     accept='text/csv',\n",
    "    assemble_with='Line',\n",
    "    strategy='MultiRecord',\n",
    "    max_payload=0,  # no limit\n",
    "    output_path=s3_project_dir + 'test_no_index_processed.csv',\n",
    "    output_kms_key=None,\n",
    "    env = {'SAGEMAKER_MODEL_SERVER_TIMEOUT' : '3600'})"
   ]
  },
  {
   "cell_type": "code",
   "execution_count": 14,
   "metadata": {
    "scrolled": true
   },
   "outputs": [],
   "source": [
    "# Preprocess data\n",
    "preprocessor_transformer.transform(data=test_data, wait=False)"
   ]
  },
  {
   "cell_type": "markdown",
   "metadata": {},
   "source": [
    "# Model Inference "
   ]
  },
  {
   "cell_type": "code",
   "execution_count": null,
   "metadata": {},
   "outputs": [],
   "source": [
    "image_uri='174872318107.dkr.ecr.us-west-2.amazonaws.com/linear-learner:latest'\n",
    "training_job_name='tuning-job-1-b40c384659414ba195-005-f4c7aa0a'"
   ]
  },
  {
   "cell_type": "code",
   "execution_count": 43,
   "metadata": {},
   "outputs": [],
   "source": [
    "from sagemaker.sklearn.estimator import SKLearn"
   ]
  },
  {
   "cell_type": "code",
   "execution_count": 45,
   "metadata": {},
   "outputs": [],
   "source": [
    "#preprocessor = SKLearn.attach('kaggle-tab-dpp2-1-93ef8f32aa2a4cacac7741c3d3610561282cba3699c84')"
   ]
  },
  {
   "cell_type": "code",
   "execution_count": 46,
   "metadata": {},
   "outputs": [
    {
     "ename": "TypeError",
     "evalue": "Can't instantiate abstract class EstimatorBase with abstract methods create_model, hyperparameters, training_image_uri",
     "output_type": "error",
     "traceback": [
      "\u001b[0;31m---------------------------------------------------------------------------\u001b[0m",
      "\u001b[0;31mTypeError\u001b[0m                                 Traceback (most recent call last)",
      "\u001b[0;32m<ipython-input-46-eccec706c51c>\u001b[0m in \u001b[0;36m<module>\u001b[0;34m\u001b[0m\n\u001b[1;32m      1\u001b[0m \u001b[0;31m# Create transformer from SageMaker Training Job\u001b[0m\u001b[0;34m\u001b[0m\u001b[0;34m\u001b[0m\u001b[0;34m\u001b[0m\u001b[0m\n\u001b[0;32m----> 2\u001b[0;31m \u001b[0msagemaker\u001b[0m\u001b[0;34m.\u001b[0m\u001b[0mestimator\u001b[0m\u001b[0;34m.\u001b[0m\u001b[0mEstimatorBase\u001b[0m\u001b[0;34m(\u001b[0m\u001b[0;34m)\u001b[0m\u001b[0;34m\u001b[0m\u001b[0;34m\u001b[0m\u001b[0m\n\u001b[0m",
      "\u001b[0;31mTypeError\u001b[0m: Can't instantiate abstract class EstimatorBase with abstract methods create_model, hyperparameters, training_image_uri"
     ]
    }
   ],
   "source": [
    "# Create transformer from SageMaker Training Job\n",
    "sagemaker.estimator.EstimatorBase()"
   ]
  },
  {
   "cell_type": "code",
   "execution_count": null,
   "metadata": {},
   "outputs": [],
   "source": []
  },
  {
   "cell_type": "code",
   "execution_count": 38,
   "metadata": {},
   "outputs": [],
   "source": [
    "# Create transformer from SageMaker Model\n",
    "model_preprocessor = sagemaker.model.Model(\n",
    "    image_uri='246618743249.dkr.ecr.us-west-2.amazonaws.com/sagemaker-sklearn-automl:0.2-1-cpu-py3',\n",
    "    model_data='s3://briorep-s3-ds/Aaron-temp/Projects-Personal/kaggle-tabular-playground-march-21/kaggle-tabular-march-21/data-processor-models/kaggle-tab-dpp2-1-93ef8f32aa2a4cacac7741c3d3610561282cba3699c84/output/model.tar.gz'\n",
    ")\n",
    "\n",
    "# transformer_preprocessor = model_preprocessor.transformer(\n",
    "#     instance_count=1,\n",
    "#     instance_type='ml.m5.4xlarge',\n",
    "#     output_path='s3://briorep-s3-ds/Aaron-temp/Projects-Personal/kaggle-tabular-playground-march-21/kaggle-tabular-march-21/test/'\n",
    "# )"
   ]
  },
  {
   "cell_type": "markdown",
   "metadata": {},
   "source": [
    "# Predictions"
   ]
  },
  {
   "cell_type": "code",
   "execution_count": null,
   "metadata": {},
   "outputs": [],
   "source": [
    "#submission['target'] = clf.predict_proba(pd_test)[:, 1]\n",
    "#submission.to_csv('random_forest.csv')"
   ]
  }
 ],
 "metadata": {
  "instance_type": "ml.m5.2xlarge",
  "kernelspec": {
   "display_name": "Python 3 (Data Science)",
   "language": "python",
   "name": "python3__SAGEMAKER_INTERNAL__arn:aws:sagemaker:us-west-2:236514542706:image/datascience-1.0"
  },
  "language_info": {
   "codemirror_mode": {
    "name": "ipython",
    "version": 3
   },
   "file_extension": ".py",
   "mimetype": "text/x-python",
   "name": "python",
   "nbconvert_exporter": "python",
   "pygments_lexer": "ipython3",
   "version": "3.7.10"
  }
 },
 "nbformat": 4,
 "nbformat_minor": 4
}
