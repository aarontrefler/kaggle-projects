{
 "cells": [
  {
   "cell_type": "markdown",
   "metadata": {},
   "source": [
    "# Setup"
   ]
  },
  {
   "cell_type": "code",
   "execution_count": 1,
   "metadata": {},
   "outputs": [
    {
     "name": "stdout",
     "output_type": "stream",
     "text": [
      "/opt/conda/lib/python3.7/site-packages/secretstorage/dhcrypto.py:16: CryptographyDeprecationWarning: int_from_bytes is deprecated, use int.from_bytes instead\n",
      "  from cryptography.utils import int_from_bytes\n",
      "/opt/conda/lib/python3.7/site-packages/secretstorage/util.py:25: CryptographyDeprecationWarning: int_from_bytes is deprecated, use int.from_bytes instead\n",
      "  from cryptography.utils import int_from_bytes\n",
      "/opt/conda/lib/python3.7/site-packages/secretstorage/dhcrypto.py:16: CryptographyDeprecationWarning: int_from_bytes is deprecated, use int.from_bytes instead\n",
      "  from cryptography.utils import int_from_bytes\n",
      "/opt/conda/lib/python3.7/site-packages/secretstorage/util.py:25: CryptographyDeprecationWarning: int_from_bytes is deprecated, use int.from_bytes instead\n",
      "  from cryptography.utils import int_from_bytes\n"
     ]
    }
   ],
   "source": [
    "!pip install xgboost > /dev/null\n",
    "!pip install kaggle > /dev/null"
   ]
  },
  {
   "cell_type": "code",
   "execution_count": 2,
   "metadata": {},
   "outputs": [],
   "source": [
    "import matplotlib.pyplot as plt\n",
    "import numpy as np\n",
    "import pandas as pd\n",
    "import time\n",
    "import xgboost as xgb\n",
    "\n",
    "from xgboost.callback import EvaluationMonitor"
   ]
  },
  {
   "cell_type": "code",
   "execution_count": 3,
   "metadata": {},
   "outputs": [],
   "source": [
    "pd.options.display.max_columns = 50"
   ]
  },
  {
   "cell_type": "code",
   "execution_count": 4,
   "metadata": {},
   "outputs": [],
   "source": [
    "pd_clean_train = pd.read_csv(\"./data/clean/train.csv\", index_col='PassengerId')\n",
    "pd_clean_test = pd.read_csv(\"./data/clean/test.csv\", index_col='PassengerId')\n",
    "pd_sample_submission = pd.read_csv(\"../input/sample_submission.csv\")"
   ]
  },
  {
   "cell_type": "code",
   "execution_count": 5,
   "metadata": {},
   "outputs": [
    {
     "name": "stdout",
     "output_type": "stream",
     "text": [
      "<class 'pandas.core.frame.DataFrame'>\n",
      "Int64Index: 100000 entries, 0 to 99999\n",
      "Data columns (total 17 columns):\n",
      " #   Column       Non-Null Count   Dtype  \n",
      "---  ------       --------------   -----  \n",
      " 0   Survived     100000 non-null  int64  \n",
      " 1   Pclass       100000 non-null  int64  \n",
      " 2   Name         100000 non-null  object \n",
      " 3   Sex          100000 non-null  object \n",
      " 4   Age          96708 non-null   float64\n",
      " 5   SibSp        100000 non-null  int64  \n",
      " 6   Parch        100000 non-null  int64  \n",
      " 7   Ticket       95377 non-null   object \n",
      " 8   Fare         99866 non-null   float64\n",
      " 9   Cabin        32134 non-null   object \n",
      " 10  Embarked     99750 non-null   object \n",
      " 11  family       100000 non-null  int64  \n",
      " 12  ticket_type  24655 non-null   object \n",
      " 13  ticket_num   94704 non-null   float64\n",
      " 14  cabin_id     100000 non-null  object \n",
      " 15  surname      100000 non-null  object \n",
      " 16  age_bin      96708 non-null   float64\n",
      "dtypes: float64(4), int64(5), object(8)\n",
      "memory usage: 13.7+ MB\n"
     ]
    },
    {
     "data": {
      "text/html": [
       "<div>\n",
       "<style scoped>\n",
       "    .dataframe tbody tr th:only-of-type {\n",
       "        vertical-align: middle;\n",
       "    }\n",
       "\n",
       "    .dataframe tbody tr th {\n",
       "        vertical-align: top;\n",
       "    }\n",
       "\n",
       "    .dataframe thead th {\n",
       "        text-align: right;\n",
       "    }\n",
       "</style>\n",
       "<table border=\"1\" class=\"dataframe\">\n",
       "  <thead>\n",
       "    <tr style=\"text-align: right;\">\n",
       "      <th></th>\n",
       "      <th>Survived</th>\n",
       "      <th>Pclass</th>\n",
       "      <th>Name</th>\n",
       "      <th>Sex</th>\n",
       "      <th>Age</th>\n",
       "      <th>SibSp</th>\n",
       "      <th>Parch</th>\n",
       "      <th>Ticket</th>\n",
       "      <th>Fare</th>\n",
       "      <th>Cabin</th>\n",
       "      <th>Embarked</th>\n",
       "      <th>family</th>\n",
       "      <th>ticket_type</th>\n",
       "      <th>ticket_num</th>\n",
       "      <th>cabin_id</th>\n",
       "      <th>surname</th>\n",
       "      <th>age_bin</th>\n",
       "    </tr>\n",
       "    <tr>\n",
       "      <th>PassengerId</th>\n",
       "      <th></th>\n",
       "      <th></th>\n",
       "      <th></th>\n",
       "      <th></th>\n",
       "      <th></th>\n",
       "      <th></th>\n",
       "      <th></th>\n",
       "      <th></th>\n",
       "      <th></th>\n",
       "      <th></th>\n",
       "      <th></th>\n",
       "      <th></th>\n",
       "      <th></th>\n",
       "      <th></th>\n",
       "      <th></th>\n",
       "      <th></th>\n",
       "      <th></th>\n",
       "    </tr>\n",
       "  </thead>\n",
       "  <tbody>\n",
       "    <tr>\n",
       "      <th>0</th>\n",
       "      <td>1</td>\n",
       "      <td>1</td>\n",
       "      <td>Oconnor, Frankie</td>\n",
       "      <td>male</td>\n",
       "      <td>NaN</td>\n",
       "      <td>2</td>\n",
       "      <td>0</td>\n",
       "      <td>209245</td>\n",
       "      <td>27.14</td>\n",
       "      <td>C12239</td>\n",
       "      <td>S</td>\n",
       "      <td>2</td>\n",
       "      <td>NaN</td>\n",
       "      <td>209245.0</td>\n",
       "      <td>C</td>\n",
       "      <td>Oconnor</td>\n",
       "      <td>NaN</td>\n",
       "    </tr>\n",
       "  </tbody>\n",
       "</table>\n",
       "</div>"
      ],
      "text/plain": [
       "             Survived  Pclass              Name   Sex  Age  SibSp  Parch  \\\n",
       "PassengerId                                                                \n",
       "0                   1       1  Oconnor, Frankie  male  NaN      2      0   \n",
       "\n",
       "             Ticket   Fare   Cabin Embarked  family ticket_type  ticket_num  \\\n",
       "PassengerId                                                                   \n",
       "0            209245  27.14  C12239        S       2         NaN    209245.0   \n",
       "\n",
       "            cabin_id  surname  age_bin  \n",
       "PassengerId                             \n",
       "0                  C  Oconnor      NaN  "
      ]
     },
     "execution_count": 5,
     "metadata": {},
     "output_type": "execute_result"
    }
   ],
   "source": [
    "pd_clean_train.info()\n",
    "pd_clean_train.head(1)"
   ]
  },
  {
   "cell_type": "markdown",
   "metadata": {},
   "source": [
    "# Create Modeling Datasets"
   ]
  },
  {
   "cell_type": "code",
   "execution_count": 6,
   "metadata": {},
   "outputs": [],
   "source": [
    "def format_dataset(pd_df):\n",
    "    dataset_cols = [\n",
    "        'Sex',\n",
    "        'Embarked',\n",
    "        'Pclass',\n",
    "        'SibSp',\n",
    "        'Parch',\n",
    "        'Fare',\n",
    "        'family',\n",
    "        'age_bin',\n",
    "        'ticket_type',\n",
    "        'cabin_id',\n",
    "        'Survived']\n",
    "    \n",
    "    return pd_df.loc[:, [col for col in dataset_cols if col in pd_df.columns]]\n",
    "\n",
    "\n",
    "def one_hot_encode(pd_df):\n",
    "    pd_df = pd.get_dummies(pd_df, columns=['Sex', 'Embarked', 'ticket_type', 'cabin_id'], dummy_na=True)\n",
    "    pd_df = pd_df.drop('Sex_nan', axis=1)  # no null values exist in training or test set\n",
    "    \n",
    "    return pd_df"
   ]
  },
  {
   "cell_type": "code",
   "execution_count": 7,
   "metadata": {},
   "outputs": [],
   "source": [
    "pd_model_train = (pd_clean_train\n",
    "    .pipe(format_dataset)\n",
    "    .pipe(one_hot_encode))\n",
    "pd_model_test = (pd_clean_test\n",
    "    .pipe(format_dataset)\n",
    "    .pipe(one_hot_encode))"
   ]
  },
  {
   "cell_type": "code",
   "execution_count": 8,
   "metadata": {},
   "outputs": [
    {
     "data": {
      "text/html": [
       "<div>\n",
       "<style scoped>\n",
       "    .dataframe tbody tr th:only-of-type {\n",
       "        vertical-align: middle;\n",
       "    }\n",
       "\n",
       "    .dataframe tbody tr th {\n",
       "        vertical-align: top;\n",
       "    }\n",
       "\n",
       "    .dataframe thead th {\n",
       "        text-align: right;\n",
       "    }\n",
       "</style>\n",
       "<table border=\"1\" class=\"dataframe\">\n",
       "  <thead>\n",
       "    <tr style=\"text-align: right;\">\n",
       "      <th></th>\n",
       "      <th>Pclass</th>\n",
       "      <th>SibSp</th>\n",
       "      <th>Parch</th>\n",
       "      <th>Fare</th>\n",
       "      <th>family</th>\n",
       "      <th>age_bin</th>\n",
       "      <th>Survived</th>\n",
       "      <th>Sex_female</th>\n",
       "      <th>Sex_male</th>\n",
       "      <th>Embarked_C</th>\n",
       "      <th>Embarked_Q</th>\n",
       "      <th>Embarked_S</th>\n",
       "      <th>Embarked_nan</th>\n",
       "      <th>ticket_type_A</th>\n",
       "      <th>ticket_type_AQ</th>\n",
       "      <th>ticket_type_AS</th>\n",
       "      <th>ticket_type_C</th>\n",
       "      <th>ticket_type_CA</th>\n",
       "      <th>ticket_type_CASOTON</th>\n",
       "      <th>ticket_type_FC</th>\n",
       "      <th>ticket_type_FCC</th>\n",
       "      <th>ticket_type_Fa</th>\n",
       "      <th>ticket_type_LP</th>\n",
       "      <th>ticket_type_PC</th>\n",
       "      <th>ticket_type_PP</th>\n",
       "      <th>...</th>\n",
       "      <th>ticket_type_SCOW</th>\n",
       "      <th>ticket_type_SCPARIS</th>\n",
       "      <th>ticket_type_SCParis</th>\n",
       "      <th>ticket_type_SOC</th>\n",
       "      <th>ticket_type_SOP</th>\n",
       "      <th>ticket_type_SOPP</th>\n",
       "      <th>ticket_type_SOTONO</th>\n",
       "      <th>ticket_type_SOTONOQ</th>\n",
       "      <th>ticket_type_SP</th>\n",
       "      <th>ticket_type_STONO</th>\n",
       "      <th>ticket_type_STONOQ</th>\n",
       "      <th>ticket_type_SWPP</th>\n",
       "      <th>ticket_type_WC</th>\n",
       "      <th>ticket_type_WEP</th>\n",
       "      <th>ticket_type_nan</th>\n",
       "      <th>cabin_id_A</th>\n",
       "      <th>cabin_id_B</th>\n",
       "      <th>cabin_id_C</th>\n",
       "      <th>cabin_id_D</th>\n",
       "      <th>cabin_id_E</th>\n",
       "      <th>cabin_id_F</th>\n",
       "      <th>cabin_id_G</th>\n",
       "      <th>cabin_id_T</th>\n",
       "      <th>cabin_id_n</th>\n",
       "      <th>cabin_id_nan</th>\n",
       "    </tr>\n",
       "    <tr>\n",
       "      <th>PassengerId</th>\n",
       "      <th></th>\n",
       "      <th></th>\n",
       "      <th></th>\n",
       "      <th></th>\n",
       "      <th></th>\n",
       "      <th></th>\n",
       "      <th></th>\n",
       "      <th></th>\n",
       "      <th></th>\n",
       "      <th></th>\n",
       "      <th></th>\n",
       "      <th></th>\n",
       "      <th></th>\n",
       "      <th></th>\n",
       "      <th></th>\n",
       "      <th></th>\n",
       "      <th></th>\n",
       "      <th></th>\n",
       "      <th></th>\n",
       "      <th></th>\n",
       "      <th></th>\n",
       "      <th></th>\n",
       "      <th></th>\n",
       "      <th></th>\n",
       "      <th></th>\n",
       "      <th></th>\n",
       "      <th></th>\n",
       "      <th></th>\n",
       "      <th></th>\n",
       "      <th></th>\n",
       "      <th></th>\n",
       "      <th></th>\n",
       "      <th></th>\n",
       "      <th></th>\n",
       "      <th></th>\n",
       "      <th></th>\n",
       "      <th></th>\n",
       "      <th></th>\n",
       "      <th></th>\n",
       "      <th></th>\n",
       "      <th></th>\n",
       "      <th></th>\n",
       "      <th></th>\n",
       "      <th></th>\n",
       "      <th></th>\n",
       "      <th></th>\n",
       "      <th></th>\n",
       "      <th></th>\n",
       "      <th></th>\n",
       "      <th></th>\n",
       "      <th></th>\n",
       "    </tr>\n",
       "  </thead>\n",
       "  <tbody>\n",
       "    <tr>\n",
       "      <th>0</th>\n",
       "      <td>1</td>\n",
       "      <td>2</td>\n",
       "      <td>0</td>\n",
       "      <td>27.14</td>\n",
       "      <td>2</td>\n",
       "      <td>NaN</td>\n",
       "      <td>1</td>\n",
       "      <td>0</td>\n",
       "      <td>1</td>\n",
       "      <td>0</td>\n",
       "      <td>0</td>\n",
       "      <td>1</td>\n",
       "      <td>0</td>\n",
       "      <td>0</td>\n",
       "      <td>0</td>\n",
       "      <td>0</td>\n",
       "      <td>0</td>\n",
       "      <td>0</td>\n",
       "      <td>0</td>\n",
       "      <td>0</td>\n",
       "      <td>0</td>\n",
       "      <td>0</td>\n",
       "      <td>0</td>\n",
       "      <td>0</td>\n",
       "      <td>0</td>\n",
       "      <td>...</td>\n",
       "      <td>0</td>\n",
       "      <td>0</td>\n",
       "      <td>0</td>\n",
       "      <td>0</td>\n",
       "      <td>0</td>\n",
       "      <td>0</td>\n",
       "      <td>0</td>\n",
       "      <td>0</td>\n",
       "      <td>0</td>\n",
       "      <td>0</td>\n",
       "      <td>0</td>\n",
       "      <td>0</td>\n",
       "      <td>0</td>\n",
       "      <td>0</td>\n",
       "      <td>1</td>\n",
       "      <td>0</td>\n",
       "      <td>0</td>\n",
       "      <td>1</td>\n",
       "      <td>0</td>\n",
       "      <td>0</td>\n",
       "      <td>0</td>\n",
       "      <td>0</td>\n",
       "      <td>0</td>\n",
       "      <td>0</td>\n",
       "      <td>0</td>\n",
       "    </tr>\n",
       "  </tbody>\n",
       "</table>\n",
       "<p>1 rows × 54 columns</p>\n",
       "</div>"
      ],
      "text/plain": [
       "             Pclass  SibSp  Parch   Fare  family  age_bin  Survived  \\\n",
       "PassengerId                                                           \n",
       "0                 1      2      0  27.14       2      NaN         1   \n",
       "\n",
       "             Sex_female  Sex_male  Embarked_C  Embarked_Q  Embarked_S  \\\n",
       "PassengerId                                                             \n",
       "0                     0         1           0           0           1   \n",
       "\n",
       "             Embarked_nan  ticket_type_A  ticket_type_AQ  ticket_type_AS  \\\n",
       "PassengerId                                                                \n",
       "0                       0              0               0               0   \n",
       "\n",
       "             ticket_type_C  ticket_type_CA  ticket_type_CASOTON  \\\n",
       "PassengerId                                                       \n",
       "0                        0               0                    0   \n",
       "\n",
       "             ticket_type_FC  ticket_type_FCC  ticket_type_Fa  ticket_type_LP  \\\n",
       "PassengerId                                                                    \n",
       "0                         0                0               0               0   \n",
       "\n",
       "             ticket_type_PC  ticket_type_PP  ...  ticket_type_SCOW  \\\n",
       "PassengerId                                  ...                     \n",
       "0                         0               0  ...                 0   \n",
       "\n",
       "             ticket_type_SCPARIS  ticket_type_SCParis  ticket_type_SOC  \\\n",
       "PassengerId                                                              \n",
       "0                              0                    0                0   \n",
       "\n",
       "             ticket_type_SOP  ticket_type_SOPP  ticket_type_SOTONO  \\\n",
       "PassengerId                                                          \n",
       "0                          0                 0                   0   \n",
       "\n",
       "             ticket_type_SOTONOQ  ticket_type_SP  ticket_type_STONO  \\\n",
       "PassengerId                                                           \n",
       "0                              0               0                  0   \n",
       "\n",
       "             ticket_type_STONOQ  ticket_type_SWPP  ticket_type_WC  \\\n",
       "PassengerId                                                         \n",
       "0                             0                 0               0   \n",
       "\n",
       "             ticket_type_WEP  ticket_type_nan  cabin_id_A  cabin_id_B  \\\n",
       "PassengerId                                                             \n",
       "0                          0                1           0           0   \n",
       "\n",
       "             cabin_id_C  cabin_id_D  cabin_id_E  cabin_id_F  cabin_id_G  \\\n",
       "PassengerId                                                               \n",
       "0                     1           0           0           0           0   \n",
       "\n",
       "             cabin_id_T  cabin_id_n  cabin_id_nan  \n",
       "PassengerId                                        \n",
       "0                     0           0             0  \n",
       "\n",
       "[1 rows x 54 columns]"
      ]
     },
     "execution_count": 8,
     "metadata": {},
     "output_type": "execute_result"
    }
   ],
   "source": [
    "pd_model_train.head(1)"
   ]
  },
  {
   "cell_type": "markdown",
   "metadata": {},
   "source": [
    "# Train-Validation Split"
   ]
  },
  {
   "cell_type": "code",
   "execution_count": 9,
   "metadata": {},
   "outputs": [],
   "source": [
    "pd_train = pd_model_train.sample(frac=0.8, random_state=3)\n",
    "pd_valid = pd_model_train.drop(pd_train.index)"
   ]
  },
  {
   "cell_type": "markdown",
   "metadata": {},
   "source": [
    "# Train Model"
   ]
  },
  {
   "cell_type": "code",
   "execution_count": 10,
   "metadata": {},
   "outputs": [],
   "source": [
    "# Train setup\n",
    "X_train = pd_train.drop('Survived', axis=1)\n",
    "X_valid = pd_valid.drop('Survived', axis=1)\n",
    "y_train = pd_train.Survived\n",
    "y_valid = pd_valid.Survived\n",
    "\n",
    "clf = xgb.XGBClassifier(\n",
    "    n_estimators=500,\n",
    "    max_depth=5,\n",
    "    learning_rate=0.05,\n",
    "    subsample=0.9,\n",
    "    colsample_bytree=0.7,\n",
    "    reg_lambda=1,\n",
    "    random_state=3,\n",
    "    tree_method='hist',\n",
    "    use_label_encoder=False)"
   ]
  },
  {
   "cell_type": "code",
   "execution_count": 11,
   "metadata": {
    "scrolled": true
   },
   "outputs": [
    {
     "name": "stdout",
     "output_type": "stream",
     "text": [
      "[0]\tvalidation_0-logloss:0.67503\tvalidation_0-error:0.22094\tvalidation_1-logloss:0.67529\tvalidation_1-error:0.22315\n",
      "[25]\tvalidation_0-logloss:0.50323\tvalidation_0-error:0.21927\tvalidation_1-logloss:0.50775\tvalidation_1-error:0.22270\n",
      "[50]\tvalidation_0-logloss:0.47665\tvalidation_0-error:0.21745\tvalidation_1-logloss:0.48364\tvalidation_1-error:0.22130\n",
      "[75]\tvalidation_0-logloss:0.47038\tvalidation_0-error:0.21676\tvalidation_1-logloss:0.47891\tvalidation_1-error:0.22165\n",
      "[100]\tvalidation_0-logloss:0.46768\tvalidation_0-error:0.21560\tvalidation_1-logloss:0.47736\tvalidation_1-error:0.22085\n",
      "[125]\tvalidation_0-logloss:0.46582\tvalidation_0-error:0.21440\tvalidation_1-logloss:0.47630\tvalidation_1-error:0.21990\n",
      "[150]\tvalidation_0-logloss:0.46442\tvalidation_0-error:0.21357\tvalidation_1-logloss:0.47569\tvalidation_1-error:0.21925\n",
      "[175]\tvalidation_0-logloss:0.46345\tvalidation_0-error:0.21329\tvalidation_1-logloss:0.47549\tvalidation_1-error:0.21915\n",
      "[200]\tvalidation_0-logloss:0.46253\tvalidation_0-error:0.21286\tvalidation_1-logloss:0.47531\tvalidation_1-error:0.21990\n",
      "[225]\tvalidation_0-logloss:0.46167\tvalidation_0-error:0.21266\tvalidation_1-logloss:0.47528\tvalidation_1-error:0.21990\n",
      "[250]\tvalidation_0-logloss:0.46098\tvalidation_0-error:0.21222\tvalidation_1-logloss:0.47521\tvalidation_1-error:0.22005\n",
      "[275]\tvalidation_0-logloss:0.46016\tvalidation_0-error:0.21177\tvalidation_1-logloss:0.47517\tvalidation_1-error:0.22020\n",
      "[300]\tvalidation_0-logloss:0.45947\tvalidation_0-error:0.21145\tvalidation_1-logloss:0.47531\tvalidation_1-error:0.22040\n",
      "[325]\tvalidation_0-logloss:0.45875\tvalidation_0-error:0.21084\tvalidation_1-logloss:0.47524\tvalidation_1-error:0.22070\n",
      "[350]\tvalidation_0-logloss:0.45807\tvalidation_0-error:0.21026\tvalidation_1-logloss:0.47519\tvalidation_1-error:0.21995\n",
      "[375]\tvalidation_0-logloss:0.45733\tvalidation_0-error:0.21002\tvalidation_1-logloss:0.47522\tvalidation_1-error:0.22025\n",
      "[400]\tvalidation_0-logloss:0.45652\tvalidation_0-error:0.20946\tvalidation_1-logloss:0.47529\tvalidation_1-error:0.22005\n",
      "[425]\tvalidation_0-logloss:0.45582\tvalidation_0-error:0.20917\tvalidation_1-logloss:0.47537\tvalidation_1-error:0.21935\n",
      "[450]\tvalidation_0-logloss:0.45529\tvalidation_0-error:0.20879\tvalidation_1-logloss:0.47545\tvalidation_1-error:0.22010\n",
      "[475]\tvalidation_0-logloss:0.45476\tvalidation_0-error:0.20856\tvalidation_1-logloss:0.47550\tvalidation_1-error:0.22055\n",
      "[499]\tvalidation_0-logloss:0.45426\tvalidation_0-error:0.20831\tvalidation_1-logloss:0.47560\tvalidation_1-error:0.22045\n",
      "CPU times: user 33.9 s, sys: 848 ms, total: 34.8 s\n",
      "Wall time: 4.51 s\n"
     ]
    },
    {
     "data": {
      "text/plain": [
       "XGBClassifier(base_score=0.5, booster='gbtree', colsample_bylevel=1,\n",
       "              colsample_bynode=1, colsample_bytree=0.7, gamma=0, gpu_id=-1,\n",
       "              importance_type='gain', interaction_constraints='',\n",
       "              learning_rate=0.05, max_delta_step=0, max_depth=5,\n",
       "              min_child_weight=1, missing=nan, monotone_constraints='()',\n",
       "              n_estimators=500, n_jobs=8, num_parallel_tree=1,\n",
       "              objective='binary:logistic', random_state=3, reg_alpha=0,\n",
       "              reg_lambda=1, scale_pos_weight=1, subsample=0.9,\n",
       "              tree_method='hist', use_label_encoder=False,\n",
       "              validate_parameters=1, verbosity=None)"
      ]
     },
     "execution_count": 11,
     "metadata": {},
     "output_type": "execute_result"
    }
   ],
   "source": [
    "%%time\n",
    "clf.fit(\n",
    "    X=X_train, \n",
    "    y=y_train, \n",
    "    verbose=False,\n",
    "    eval_metric=['logloss', 'error'],\n",
    "    eval_set=[(X_train, y_train), (X_valid, y_valid)],\n",
    "    callbacks=[EvaluationMonitor(period=25)])"
   ]
  },
  {
   "cell_type": "markdown",
   "metadata": {},
   "source": [
    "# Evaluate Model"
   ]
  },
  {
   "cell_type": "code",
   "execution_count": 12,
   "metadata": {},
   "outputs": [
    {
     "data": {
      "image/png": "[encoded data removed]",
      "text/plain": [
       "<Figure size 432x288 with 1 Axes>"
      ]
     },
     "metadata": {
      "needs_background": "light"
     },
     "output_type": "display_data"
    },
    {
     "name": "stdout",
     "output_type": "stream",
     "text": [
      "Minimum: 0.475148 (n_trees=259)\n"
     ]
    }
   ],
   "source": [
    "train_logloss = clf.evals_result()['validation_0']['logloss']\n",
    "valid_logloss = clf.evals_result()['validation_1']['logloss']\n",
    "plt.plot(train_logloss)\n",
    "plt.plot(valid_logloss)\n",
    "plt.title(\"Logloss\")\n",
    "plt.show()\n",
    "\n",
    "srs_valid = pd.Series(valid_logloss)\n",
    "print(\"Minimum: {} (n_trees={})\".format(\n",
    "    srs_valid[srs_valid.idxmin()], srs_valid.idxmin() + 1))"
   ]
  },
  {
   "cell_type": "code",
   "execution_count": 13,
   "metadata": {},
   "outputs": [
    {
     "data": {
      "image/png": "[encoded data removed]",
      "text/plain": [
       "<Figure size 432x288 with 1 Axes>"
      ]
     },
     "metadata": {
      "needs_background": "light"
     },
     "output_type": "display_data"
    },
    {
     "name": "stdout",
     "output_type": "stream",
     "text": [
      "Minimum: 0.21915 (n_trees=155)\n"
     ]
    }
   ],
   "source": [
    "train_error = clf.evals_result()['validation_0']['error']\n",
    "valid_error = clf.evals_result()['validation_1']['error']\n",
    "plt.plot(train_error)\n",
    "plt.plot(valid_error)\n",
    "plt.title(\"Error\")\n",
    "plt.show()\n",
    "\n",
    "srs_valid = pd.Series(valid_error)\n",
    "print(\"Minimum: {} (n_trees={})\".format(\n",
    "    srs_valid[srs_valid.idxmin()], srs_valid.idxmin() + 1))"
   ]
  },
  {
   "cell_type": "markdown",
   "metadata": {},
   "source": [
    "# Create Submission"
   ]
  },
  {
   "cell_type": "code",
   "execution_count": 14,
   "metadata": {},
   "outputs": [],
   "source": [
    "# Update parameters\n",
    "best_n_estimators = 189\n",
    "clf = clf.set_params(**{'n_estimators': best_n_estimators})"
   ]
  },
  {
   "cell_type": "code",
   "execution_count": 15,
   "metadata": {
    "scrolled": true
   },
   "outputs": [
    {
     "name": "stdout",
     "output_type": "stream",
     "text": [
      "[0]\tvalidation_0-logloss:0.67511\tvalidation_0-error:0.22125\n",
      "[25]\tvalidation_0-logloss:0.50451\tvalidation_0-error:0.21986\n",
      "[50]\tvalidation_0-logloss:0.47826\tvalidation_0-error:0.21883\n",
      "[75]\tvalidation_0-logloss:0.47187\tvalidation_0-error:0.21747\n",
      "[100]\tvalidation_0-logloss:0.46931\tvalidation_0-error:0.21660\n",
      "[125]\tvalidation_0-logloss:0.46755\tvalidation_0-error:0.21514\n",
      "[150]\tvalidation_0-logloss:0.46639\tvalidation_0-error:0.21484\n",
      "[175]\tvalidation_0-logloss:0.46530\tvalidation_0-error:0.21407\n",
      "[188]\tvalidation_0-logloss:0.46497\tvalidation_0-error:0.21394\n",
      "CPU times: user 13.6 s, sys: 308 ms, total: 13.9 s\n",
      "Wall time: 1.8 s\n"
     ]
    },
    {
     "data": {
      "text/plain": [
       "XGBClassifier(base_score=0.5, booster='gbtree', colsample_bylevel=1,\n",
       "              colsample_bynode=1, colsample_bytree=0.7, gamma=0, gpu_id=-1,\n",
       "              importance_type='gain', interaction_constraints='',\n",
       "              learning_rate=0.05, max_delta_step=0, max_depth=5,\n",
       "              min_child_weight=1, missing=nan, monotone_constraints='()',\n",
       "              n_estimators=189, n_jobs=8, num_parallel_tree=1,\n",
       "              objective='binary:logistic', random_state=3, reg_alpha=0,\n",
       "              reg_lambda=1, scale_pos_weight=1, subsample=0.9,\n",
       "              tree_method='hist', use_label_encoder=False,\n",
       "              validate_parameters=1, verbosity=None)"
      ]
     },
     "execution_count": 15,
     "metadata": {},
     "output_type": "execute_result"
    }
   ],
   "source": [
    "%%time\n",
    "X = pd.concat([X_train, X_valid])\n",
    "y = y_train.append(y_valid)\n",
    "\n",
    "clf.fit(\n",
    "    X=X, \n",
    "    y=y, \n",
    "    verbose=False,\n",
    "    eval_metric=['logloss', 'error'],\n",
    "    eval_set=[(X, y)],\n",
    "    callbacks=[EvaluationMonitor(period=25)])"
   ]
  },
  {
   "cell_type": "code",
   "execution_count": 54,
   "metadata": {},
   "outputs": [],
   "source": [
    "# Create sumbission dataset\n",
    "predictions = clf.predict(pd_model_test)\n",
    "pd_submission = pd_sample_submission.drop('Survived', axis=1)\n",
    "pd_submission = pd_submission.assign(Survived=predictions)\n",
    "pd_submission.to_csv('./submissions/2.0-modelling-xgboost.csv', index=False)"
   ]
  },
  {
   "cell_type": "code",
   "execution_count": 55,
   "metadata": {},
   "outputs": [
    {
     "name": "stdout",
     "output_type": "stream",
     "text": [
      "Warning: Your Kaggle API key is readable by other users on this system! To fix this, you can run 'chmod 600 /root/.kaggle/kaggle.json'\n",
      "100%|█████████████████████████████████████████| 879k/879k [00:02<00:00, 448kB/s]\n",
      "Successfully submitted to Tabular Playground Series - Apr 2021"
     ]
    }
   ],
   "source": [
    "# Submit\n",
    "!kaggle competitions submit -c tabular-playground-series-apr-2021 -f ./submissions/2.0-modelling-xgboost.csv -m \"2.0-modellng-xgboost\""
   ]
  },
  {
   "cell_type": "code",
   "execution_count": null,
   "metadata": {},
   "outputs": [],
   "source": []
  }
 ],
 "metadata": {
  "instance_type": "ml.m5.2xlarge",
  "kernelspec": {
   "display_name": "Python 3 (Data Science)",
   "language": "python",
   "name": "python3__SAGEMAKER_INTERNAL__arn:aws:sagemaker:us-west-2:236514542706:image/datascience-1.0"
  },
  "language_info": {
   "codemirror_mode": {
    "name": "ipython",
    "version": 3
   },
   "file_extension": ".py",
   "mimetype": "text/x-python",
   "name": "python",
   "nbconvert_exporter": "python",
   "pygments_lexer": "ipython3",
   "version": "3.7.10"
  }
 },
 "nbformat": 4,
 "nbformat_minor": 4
}
